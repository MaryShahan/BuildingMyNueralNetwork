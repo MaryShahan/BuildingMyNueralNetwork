{
  "nbformat": 4,
  "nbformat_minor": 0,
  "metadata": {
    "colab": {
      "name": "StoryTeller.ipynb",
      "provenance": [],
      "collapsed_sections": [],
      "include_colab_link": true
    },
    "kernelspec": {
      "name": "python3",
      "display_name": "Python 3"
    }
  },
  "cells": [
    {
      "cell_type": "markdown",
      "metadata": {
        "id": "view-in-github",
        "colab_type": "text"
      },
      "source": [
        "<a href=\"https://colab.research.google.com/github/maryamshahani/BuildingMyNueralNetwork/blob/main/StoryTeller.ipynb\" target=\"_parent\"><img src=\"https://colab.research.google.com/assets/colab-badge.svg\" alt=\"Open In Colab\"/></a>"
      ]
    },
    {
      "cell_type": "code",
      "metadata": {
        "id": "kbs4k0MJifjA",
        "colab": {
          "base_uri": "https://localhost:8080/"
        },
        "outputId": "98ef8de6-b711-4742-ffc1-d0a04ad3ad7c"
      },
      "source": [
        "pip install PyPDF2"
      ],
      "execution_count": 20,
      "outputs": [
        {
          "output_type": "stream",
          "name": "stdout",
          "text": [
            "Requirement already satisfied: PyPDF2 in /usr/local/lib/python3.7/dist-packages (1.26.0)\n"
          ]
        }
      ]
    },
    {
      "cell_type": "code",
      "source": [
        "#read-PDF imports here\n",
        "import PyPDF2"
      ],
      "metadata": {
        "id": "OCAZDkEQ2Cbc"
      },
      "execution_count": 21,
      "outputs": []
    },
    {
      "cell_type": "code",
      "source": [
        "#pre-processing imports here\n",
        "import re\n",
        "import nltk\n",
        "nltk.download('punkt')\n",
        "from nltk.tokenize import word_tokenize\n",
        "import string"
      ],
      "metadata": {
        "colab": {
          "base_uri": "https://localhost:8080/"
        },
        "id": "oxvimhpV16RP",
        "outputId": "10da4d5c-9f94-4825-f64d-23271f821c2e"
      },
      "execution_count": 22,
      "outputs": [
        {
          "output_type": "stream",
          "name": "stdout",
          "text": [
            "[nltk_data] Downloading package punkt to /root/nltk_data...\n",
            "[nltk_data]   Package punkt is already up-to-date!\n"
          ]
        }
      ]
    },
    {
      "cell_type": "code",
      "metadata": {
        "id": "qBKuc_dR-Fgt",
        "outputId": "831209e8-2458-4854-eeb8-25347b3348de",
        "colab": {
          "base_uri": "https://localhost:8080/"
        }
      },
      "source": [
        "#mount Google drive\n",
        "from google.colab import drive\n",
        "drive.mount('/content/drive')"
      ],
      "execution_count": 23,
      "outputs": [
        {
          "output_type": "stream",
          "name": "stdout",
          "text": [
            "Drive already mounted at /content/drive; to attempt to forcibly remount, call drive.mount(\"/content/drive\", force_remount=True).\n"
          ]
        }
      ]
    },
    {
      "cell_type": "code",
      "metadata": {
        "id": "IhwcUudNChx8"
      },
      "source": [
        "#file locations on drive\n",
        "grimm_url = '/content/drive/MyDrive/GoogleColabFiles/StoryTeller/FairytalesByTheBrothersGrimm.txt'\n",
        "coraline_url = '/content/drive/MyDrive/GoogleColabFiles/StoryTeller/Coraline.pdf'\n",
        "alice_url = '/content/drive/MyDrive/GoogleColabFiles/StoryTeller/AlicesAdvanturesInWonderland.txt'"
      ],
      "execution_count": 24,
      "outputs": []
    },
    {
      "cell_type": "code",
      "metadata": {
        "id": "QIIx1pysjBnD"
      },
      "source": [
        "#load punctuation symbols\n",
        "punct = string.punctuation"
      ],
      "execution_count": 25,
      "outputs": []
    },
    {
      "cell_type": "markdown",
      "metadata": {
        "id": "9r7JQDi3iz14"
      },
      "source": [
        "# **Pre-processing Coraline**"
      ]
    },
    {
      "cell_type": "code",
      "metadata": {
        "id": "Vand5igZEP5l",
        "colab": {
          "base_uri": "https://localhost:8080/"
        },
        "outputId": "b95b423f-3d10-478b-d523-0319c647592e"
      },
      "source": [
        "#a function to pre process Coraline by Neil Gaiman\n",
        "\n",
        "def preprocess_coraline(book):\n",
        "  '''\n",
        "  param book: url od a PDF book file\n",
        "  '''\n",
        "  output = \"\"\n",
        "  data = open(book, 'rb')\n",
        "  data = PyPDF2.PdfFileReader(book)\n",
        "  npages = data.getNumPages()\n",
        "  for i in range(npages):\n",
        "    page_i = data.getPage(i).extractText()\n",
        "    output += page_i\n",
        "  output = output[1227:]\n",
        "  output = output.lower()\n",
        "  for word in output:\n",
        "    for char in word:\n",
        "        if char in punct:\n",
        "            word = word.replace(char, \"\")\n",
        "  remove_punct = \"\".join([word for word in output if word not in punct])\n",
        "  processed = word_tokenize(remove_punct)\n",
        "  print('Coraline database includes {} tokens, and {} unique tokens after editing'.format(len(processed), len(set(processed)))) \n",
        "  return processed\n",
        "\n",
        "coraline = preprocess_coraline(coraline_url) "
      ],
      "execution_count": 26,
      "outputs": [
        {
          "output_type": "stream",
          "name": "stdout",
          "text": [
            "Coraline database includes 30835 tokens, and 3471 unique tokens after editing\n"
          ]
        }
      ]
    },
    {
      "cell_type": "markdown",
      "metadata": {
        "id": "dRDl2y87jh1w"
      },
      "source": [
        "## **Preprocessing Alice in Wonderland**"
      ]
    },
    {
      "cell_type": "code",
      "metadata": {
        "id": "y6xyaeRuiMnk",
        "colab": {
          "base_uri": "https://localhost:8080/"
        },
        "outputId": "9d8ed935-326a-4d18-e8ea-c42bb216e39e"
      },
      "source": [
        "#a function to pre process Alice's Advantures in Wonderland by Lewis Carroll\n",
        "\n",
        "def load_alice(text_file, punct, not_a_word):\n",
        "    '''\n",
        "    param text_file: url to Project Gutenberg's text file for Alice's Advantures in Wonderland by Lewis Carroll\n",
        "    param punct: a string of punctuation characters we'd like to filter\n",
        "    param not_a_word: a list of words we'd like to filter\n",
        "    '''\n",
        "    book = open(text_file, 'r')\n",
        "    book = book.read()\n",
        "    book = book[715:145060]\n",
        "    book_edit = re.sub('[+]', '', book)\n",
        "    book_edit = re.sub(r'(CHAPTER \\w+.\\s)', '', book)\n",
        "    words = word_tokenize(book_edit.lower())\n",
        "    \n",
        "    word_list = []\n",
        "    \n",
        "    # filtering punctuation and non-words\n",
        "    for word in words:\n",
        "        for char in word:\n",
        "            if char in punct:\n",
        "                word = word.replace(char, \"\")\n",
        "        if word not in punct and word not in not_a_word:\n",
        "            word_list.append(word)\n",
        "\n",
        "    print('Alice database includes {} tokens, and {} unique tokens after editing'.format(len(word_list), len(set(word_list)))) \n",
        "    return word_list\n",
        "\n",
        "alice = load_alice(alice_url, (punct.replace('-', \"\") + '’' + '‘'), ['s', '--', 'nt', 've', 'll', 'd'])"
      ],
      "execution_count": 27,
      "outputs": [
        {
          "output_type": "stream",
          "name": "stdout",
          "text": [
            "Alice database includes 26612 tokens, and 2596 unique tokens after editing\n"
          ]
        }
      ]
    },
    {
      "cell_type": "markdown",
      "metadata": {
        "id": "3HcUOknolEWm"
      },
      "source": [
        "# **Preprocessing Grimm**\n"
      ]
    },
    {
      "cell_type": "code",
      "metadata": {
        "id": "iTG-MTfsEgNu",
        "colab": {
          "base_uri": "https://localhost:8080/"
        },
        "outputId": "4a628c17-26c8-49d5-a3ce-16b02f90e804"
      },
      "source": [
        "def load_fairytales(text_file):\n",
        "    '''\n",
        "    param text_file: url to Project Gutenberg's text file for Fairytales by The Brothers Grimm\n",
        "    '''\n",
        "    book = open(text_file, encoding='cp1252')\n",
        "    book = book.read()\n",
        "    book = book[2376:519859]\n",
        "    book_edit = re.sub('[(+*)]', '', book)\n",
        "    words = word_tokenize(book_edit.lower())\n",
        "\n",
        "    # filtering punctuation inside tokens (example: didn't or wow!)\n",
        "    for word in words:\n",
        "        for char in word:\n",
        "            if char in punct:\n",
        "                word = word.replace(char, \"\")\n",
        "\n",
        "    # filtering punctuation as alone standing tokens(example: \\ or ,)\n",
        "    words = [word for word in words if word not in punct]\n",
        "\n",
        "    print('Fairytales database includes {} tokens, and {} unique tokens after editing'.format(len(words), len(set(words))))            \n",
        "    return words\n",
        "\n",
        "brothers_grimm = load_fairytales(grimm_url)"
      ],
      "execution_count": 28,
      "outputs": [
        {
          "output_type": "stream",
          "name": "stdout",
          "text": [
            "Fairytales database includes 106324 tokens, and 5335 unique tokens after editing\n"
          ]
        }
      ]
    },
    {
      "cell_type": "markdown",
      "metadata": {
        "id": "OM8boZfBhTaw"
      },
      "source": [
        "# **Combined database including all books**"
      ]
    },
    {
      "cell_type": "code",
      "metadata": {
        "id": "ROjnov9uWSbe",
        "colab": {
          "base_uri": "https://localhost:8080/"
        },
        "outputId": "7de8895c-10d2-4087-ade9-a56a828820c2"
      },
      "source": [
        "data = coraline + alice + brothers_grimm\n",
        "data[:10]"
      ],
      "execution_count": 29,
      "outputs": [
        {
          "output_type": "execute_result",
          "data": {
            "text/plain": [
              "['coraline',\n",
              " 'discovered',\n",
              " 'the',\n",
              " 'door',\n",
              " 'a',\n",
              " 'little',\n",
              " 'while',\n",
              " 'after',\n",
              " 'they',\n",
              " 'moved']"
            ]
          },
          "metadata": {},
          "execution_count": 29
        }
      ]
    },
    {
      "cell_type": "markdown",
      "metadata": {
        "id": "84kEdfzunnVY"
      },
      "source": [
        "# **Convert Data into Numeric Values cause Neural Network speaks Math rather than English**"
      ]
    },
    {
      "cell_type": "code",
      "metadata": {
        "id": "NH5YsCDlm6jq",
        "colab": {
          "base_uri": "https://localhost:8080/"
        },
        "outputId": "45f45cf5-5de5-4fba-8463-a0068c7e0e0d"
      },
      "source": [
        "vocab_size = len(data)\n",
        "print(vocab_size)\n",
        "\n",
        "vocab = set(data)\n",
        "unique_vocab = len(vocab)\n",
        "print(unique_vocab)\n"
      ],
      "execution_count": 30,
      "outputs": [
        {
          "output_type": "stream",
          "name": "stdout",
          "text": [
            "163771\n",
            "7923\n"
          ]
        }
      ]
    },
    {
      "cell_type": "code",
      "source": [
        "word_to_index = { word: i for i, word in enumerate(vocab)}\n",
        "print(word_to_index)"
      ],
      "metadata": {
        "colab": {
          "base_uri": "https://localhost:8080/"
        },
        "id": "AqnwToWf8SkQ",
        "outputId": "6bde8158-accd-48b6-a810-4448da6b9a22"
      },
      "execution_count": 31,
      "outputs": [
        {
          "output_type": "stream",
          "name": "stdout",
          "text": [
            "{'i': 0, 'embraced': 1, 'unrolled': 2, 'incaseofemergency': 3, 'provision': 4, 'diligent': 5, 'warrior': 6, 'glimmer': 7, 'jelly': 8, 'insists': 9, 'yelled': 10, 'lay': 11, 'would': 12, 'oompah': 13, 'brushing': 14, 'snap': 15, 'sat': 16, 'still': 17, 'manner': 18, 'chose': 19, 'neck': 20, 'unconcernedness': 21, 'brighter': 22, 'said': 23, 'chase': 24, 'unharmed': 25, 'faint': 26, 'speak': 27, 'wasteland': 28, 'affair': 29, 'royal': 30, 'countryman': 31, 'swords': 32, 'rising.': 33, 'spoil': 34, 'amends': 35, 'carefully': 36, 'morals': 37, 'delighted': 38, 'shudder—if': 39, 'thieving': 40, 'dash': 41, 'certain': 42, 'yourself': 43, 'hear': 44, 'travel': 45, 'games': 46, 'desire': 47, 'soldiers': 48, 'ended': 49, 'well-deserved': 50, 'huntsman.': 51, 'stained': 52, 'considered': 53, 'troubled': 54, 'nearer': 55, 'off.': 56, 'rightly': 57, 'nondescript': 58, 'seriously': 59, 'frightened': 60, 'follows': 61, 'shinest': 62, 'fits.': 63, 'reassured': 64, 'smooth': 65, 'lifted': 66, 'metal': 67, 'godmother': 68, 'splash': 69, 'stupid': 70, 'onešafter': 71, 'mouthful—she': 72, 'boys': 73, 'w': 74, 'hoarse': 75, 'squeaked': 76, 'gallery': 77, 'wake': 78, 'bean': 79, 'fled': 80, 'extras': 81, 'creep': 82, 'computer': 83, 'crushed': 84, 'gun': 85, 'conclusion': 86, 'terms': 87, 'formerly': 88, 'gates': 89, 'walls': 90, 'butler': 91, 'forfeited': 92, 'musty': 93, 'down': 94, 'poked': 95, 'towel': 96, 'passes': 97, 'self-denial': 98, 'browning': 99, 'yelp': 100, 'constant': 101, 'fishfingers': 102, 'plan': 103, 'forbidden': 104, 'circus': 105, 'overwhelmed': 106, 'rock': 107, 'leaking': 108, 'halfexpected': 109, 'readily': 110, 'galloped': 111, 'microwaved': 112, 'food.': 113, 'noticing': 114, 'joyously': 115, 'liars': 116, 'sentenced': 117, 'fountains': 118, 'sprinkle': 119, 'suppressed': 120, 'wretched': 121, 'cleaned': 122, 'spheres': 123, 'castle': 124, 'flattened': 125, 'midday': 126, 'inhabitants': 127, 'alive': 128, 'at': 129, 'greater': 130, 'thorn-bush': 131, 'quickly': 132, 'fooled': 133, 'perfectly': 134, 'image': 135, 'infuriating': 136, 'blackbeetles': 137, 'message': 138, 'uncommon': 139, 'charming': 140, 'bricks': 141, 'brief': 142, 'scolding': 143, 'plain': 144, 'vanished': 145, 'uncomfortably': 146, 'rotted': 147, 'favoured': 148, 'neighbourly': 149, 'belly': 150, 'shrewd': 151, 'hills': 152, 'dad': 153, 'clapping': 154, 'planted': 155, 'hatchet': 156, 'y': 157, 'pineapple': 158, 'lamented': 159, 'walking-sticks': 160, 'rip': 161, 'arm-in-arm': 162, 'fiddler': 163, 'mourned': 164, 'breast': 165, 'glaring': 166, 'snappishly': 167, 'veins': 168, 'ill-treated': 169, 'inquire': 170, 'bottoms': 171, 'wedding-feast': 172, 'unto': 173, 'gleaming': 174, 'fatheršand': 175, 'next': 176, 'biggest': 177, 'moonlight': 178, 'sank': 179, 'bathing-house': 180, 'party': 181, 'depends': 182, 'separated': 183, 'recognize': 184, 'hood': 185, 'puffing': 186, 'snowglobe': 187, 'broken': 188, 'grace': 189, 'pains': 190, 'gorged': 191, 'beloved': 192, 'cheated': 193, 'using': 194, 'unruly': 195, 'scullion-girl': 196, 'hugešher': 197, 'fatten': 198, 'poisoned': 199, 'finally': 200, 'see': 201, 'twice': 202, 'beg': 203, 'insinuating': 204, 'sarcastic': 205, 'by': 206, 'got': 207, 'tom': 208, 'uncivil': 209, 'terrier': 210, 'try.': 211, 'costly': 212, 'rules': 213, 'soslightly': 214, 'dancing': 215, 'garlic': 216, 'frontdoor': 217, 'linked': 218, 'swelling': 219, 'murder': 220, 'half-hour': 221, 'pursed': 222, 'prayers': 223, 'papers': 224, 'time': 225, 'repair': 226, 'footman': 227, 'buyers': 228, 'rose.': 229, 'embers': 230, 'understood': 231, 'catches': 232, 'older': 233, 'anointed': 234, 'pages': 235, 'torch': 236, 'higher': 237, 'blow.': 238, 'exciting': 239, 'says': 240, 'emptying': 241, 'executioner': 242, 'krr': 243, 'nasty': 244, 'judge.': 245, 'daybreak': 246, 'upside': 247, 'gathering': 248, 'ground': 249, 'approaching': 250, 'shame': 251, 'barrel.': 252, 'opportunities': 253, 'memorandum': 254, 'all—skin': 255, 'blankly': 256, 'gains': 257, 'madam': 258, 'ant-king': 259, 'uncovering': 260, 'people': 261, 'peace': 262, 'thresholds': 263, 'rogues': 264, 'fairly': 265, 'retraced': 266, 'uproar': 267, 'storm': 268, 'sunny': 269, 'blame': 270, 'pattering': 271, 'stripes': 272, 'soothsayer': 273, 'sounding': 274, 'job': 275, 'jones': 276, 'parted': 277, 'matters': 278, 'mercia': 279, 'zero': 280, 'loft': 281, 'revenge': 282, 'cistern': 283, 'town': 284, 'decided': 285, 'thatched': 286, 'houses.': 287, 'shrank': 288, 'suggest': 289, 'assumed': 290, 'bidding': 291, 'stock': 292, 'eggcase': 293, 'signed': 294, 'all': 295, 'cunningest': 296, 'jaws': 297, 'horsemen': 298, 'thus': 299, 'insubstantial': 300, 'echoed': 301, 'frames': 302, 'comest': 303, 'cup': 304, 'unformed': 305, 'daughter': 306, 'pair': 307, 'likes': 308, 'peanut': 309, 'twentieth': 310, 'egg—break': 311, 'manage': 312, 'crystal': 313, 'whisper': 314, 'wailed': 315, 'hitherto': 316, 'ceilings': 317, 'challenges': 318, 'behaved': 319, 'circulate': 320, 'your': 321, 'muscular': 322, 'doubtfully': 323, 'destroyed': 324, 'design': 325, 'dreadful': 326, 'trapdoor': 327, 'descend': 328, 'springtime': 329, 'road.': 330, 'blooming': 331, 'striking': 332, 'approached': 333, 'sultan': 334, 'smile': 335, 'expressionless': 336, 'punished': 337, 'andrew': 338, 'knees': 339, 'passion': 340, 'frying': 341, 'savage': 342, 'glinted': 343, 'peers': 344, 'hairclips': 345, 'futurewarrior': 346, 'far': 347, 'shrivel': 348, 'suspected': 349, 'consecrated': 350, 'dove—he': 351, 'benjamin': 352, 'candlestick': 353, 'smiles': 354, 'blush': 355, 'flew': 356, 'guilt': 357, 'loud': 358, 'know.': 359, 'what—i': 360, '16': 361, 'pearl': 362, 'newer': 363, 'sixty': 364, 'brood': 365, 'cinderella': 366, 'glimmered': 367, 'trot': 368, 'lands': 369, 'nailed': 370, 'foul': 371, 'neat': 372, 'london': 373, 'den': 374, 'trims': 375, 'seen.': 376, 'wherever': 377, 'trunk': 378, 'tinned': 379, 'halfexpecting': 380, 'pails': 381, 'yard-measure': 382, 'well.': 383, 'roast': 384, 'talers': 385, 'sensible': 386, 'add': 387, 'silks': 388, 'short': 389, 'conversations': 390, 'lacie': 391, 'work-table': 392, 'mournfully': 393, 'head.': 394, 'amazed': 395, 'arctic': 396, 'fingernails': 397, 'faded': 398, 'reward': 399, 'wardrobe': 400, 'angrily': 401, 'carpenter': 402, 'snorting': 403, 'comfortably': 404, 'shutting': 405, 'waddled': 406, 'bemoaned': 407, 'urge': 408, 'bring': 409, 'longed': 410, 'password': 411, 'subdue': 412, 'frog-footman': 413, 'thee': 414, 'other': 415, 'therešold': 416, 'cheshire': 417, 'midnight': 418, 'mmy': 419, 'plash—as': 420, 'jokes': 421, 'peradventure': 422, 'scrawl': 423, 'pedlar': 424, 'maid': 425, 'bounded': 426, 'beer.': 427, 'darting': 428, 'bag': 429, 'dreamt': 430, 'idea': 431, 'lesson': 432, 'rattled': 433, 'constraint': 434, 'fixed': 435, 'organised': 436, 'snake': 437, 'clutched': 438, 'fisherman': 439, 'poker': 440, 'good-natured': 441, 'entirely': 442, 'easily': 443, 'bed-time': 444, 'tomorrow': 445, 'tomato': 446, 'run-away': 447, 'guilty': 448, 'coarse': 449, 'sunk': 450, 'ice': 451, 'enjoy': 452, 'petals': 453, 'unloved': 454, 'dogs': 455, 'spill': 456, 'verses': 457, 'ray': 458, 'knife': 459, 'hundred': 460, 'cabbages': 461, 'uneasily': 462, 'doves': 463, 'lips': 464, 'christmas-time': 465, 'mockingly': 466, 'world': 467, 'ears': 468, 'jar': 469, 'yielded': 470, 'livelihood': 471, 'dog': 472, 'upon.': 473, 'create': 474, 'usually': 475, 'winds': 476, 'bobo': 477, 'giddy': 478, 'est': 479, 'be': 480, 'talers.': 481, 'quiver': 482, 'gošmy': 483, 'expression': 484, 'rich': 485, 'croaked': 486, 'dwell': 487, 'around': 488, 'shady': 489, 'undergrowth': 490, 'granted': 491, 'smoothing': 492, 'inclined': 493, 'elbow': 494, 'department': 495, 'therešjust': 496, 'differentšhe': 497, 'gaily': 498, 'pitcher': 499, 'movement': 500, 'bathing': 501, 'lest': 502, 'succeeded': 503, 'brew': 504, 'flask': 505, 'play': 506, 'snakeskin': 507, 'growling': 508, 'skin': 509, 'stopping': 510, 'driest': 511, 'temper': 512, 'all-gone.': 513, 'windows': 514, 'offend': 515, 'miserable': 516, 'abroad': 517, 'clapped': 518, 'brother': 519, 'summer-time': 520, 'fir-trees': 521, 'them.': 522, 'soon': 523, 'stuff': 524, 'fun': 525, 'ever-increasing': 526, 'town.': 527, 'most': 528, 'imitated': 529, 'enter': 530, 'forlorn': 531, 'brightness': 532, 'taught': 533, 'switzerland': 534, 'towns': 535, 'accent': 536, 'vanish': 537, 'mouse-hole': 538, 'cottage': 539, 'huge': 540, 'cats': 541, 'grunted': 542, 'poorly': 543, 'cherrywood': 544, 'hangings': 545, 'rugs': 546, 'advise': 547, 'heap': 548, 'grinning': 549, 'fortunate': 550, 'pyjamaleg': 551, 'stable-boy': 552, 'shabby': 553, 'poodle': 554, 'spilt': 555, 'born': 556, 'woe-begone': 557, 'kidnapping': 558, 'scared': 559, 'decomposing': 560, 'crashing': 561, 'innocent': 562, 'bung': 563, 'proposed': 564, 'bats': 565, 'slipper': 566, 'million': 567, 'tank': 568, 'cans': 569, 'bees': 570, 'crying': 571, 'fallen': 572, 'trough.': 573, 'couples': 574, 'sons': 575, 'sharpening': 576, 'wert.': 577, 'counteract': 578, 'combed': 579, 'lame': 580, 'hating': 581, 'opposed': 582, 'cracks': 583, 'catchesšs': 584, 'died': 585, 'ashen-grey': 586, 'talks': 587, 'tasks': 588, 'purple': 589, 'draw.': 590, 'shant': 591, 'corridor': 592, 'princes': 593, 'annoyed': 594, 'creeping': 595, 'homewards': 596, 'gaining': 597, 'mornings': 598, 'bird.': 599, 'travelling': 600, 'colours': 601, 'scorching': 602, 'handful': 603, 'compared': 604, 'wanderer': 605, 'clear': 606, 'mouth': 607, 'highland': 608, 'guessed': 609, 'remembered': 610, 'lovelier': 611, 'tallest': 612, 'haunted': 613, 'snores': 614, 'bleeds': 615, 'salted': 616, 'hello': 617, 'letter': 618, 'calm': 619, 'bethought': 620, 'barely': 621, 'alike': 622, 'lo': 623, 'quarrelled': 624, 'cocoon': 625, 'keys': 626, 'roaring': 627, 'strings': 628, 'unawares': 629, 'spies': 630, 'birches': 631, 'grip': 632, 'yours.': 633, 'thoroughly': 634, 'reckoning': 635, 'small—nay': 636, 'attends': 637, 'proposal.': 638, 'little': 639, 'picked': 640, 'attracted': 641, 'rim': 642, 'forgive': 643, 'measure': 644, 'thriven': 645, 'silhouetted': 646, 'merrymaking': 647, 'married': 648, 'wonderful': 649, 'steak': 650, 'inquisitively': 651, 'dearly.': 652, 'copy': 653, 'lose': 654, 'hay-cart': 655, 'droll': 656, 'ware': 657, 'treacle': 658, 'coughed': 659, 'sounded': 660, 'blows': 661, 'vaguely': 662, 'chanced': 663, 'peel': 664, 'continually': 665, 'cow—keep': 666, 'raincoat': 667, 'attempted': 668, 'whose': 669, 'riper': 670, 'derision': 671, 'aimed': 672, 'reality': 673, 'flock': 674, 'careful': 675, 'pop': 676, 'deliverer': 677, 'damp': 678, 'paper': 679, 'office': 680, 'accounting': 681, 'wheezing': 682, 'waiting-maids': 683, 'heart': 684, 'silken': 685, 'robbers': 686, 'gained': 687, 'series': 688, 'fry': 689, 'lovat': 690, 'guests': 691, 'squashed': 692, 'purred': 693, 'herešwherever': 694, 'stables': 695, 'drawing': 696, 'revealing': 697, 're': 698, 'hand.': 699, 'anybody.': 700, 'furiously': 701, 'bed': 702, 'lullaby': 703, 'treading': 704, 'yards': 705, 'distorted': 706, 'entertained': 707, 'dinn': 708, 'apiece': 709, 'chicks': 710, 'juice': 711, 'handsomest': 712, 'fast.': 713, 'rumbling': 714, 'weep': 715, 'busybody': 716, 'pity': 717, 'something': 718, 'horns': 719, 'tired—i': 720, 'dressed': 721, 'limeade': 722, 'this': 723, 'overcome': 724, 'arrow': 725, 'drift': 726, 'harmed': 727, 'dumpling': 728, 'denies': 729, 'bewailing': 730, 'replacing': 731, 'orders': 732, 'launched': 733, 'touch': 734, 'gust': 735, 'throat—and': 736, 'restless': 737, 'lid': 738, 'tulip': 739, 'branches': 740, 'bedchamber': 741, 'clambered': 742, 'burnt': 743, 'ha': 744, 'trifling': 745, 'letting': 746, 'moon': 747, 'trombones': 748, 'pillows': 749, 'necks': 750, 'accused': 751, 'star-fish': 752, 'grey-beard': 753, '3.': 754, 'devoured': 755, 'suffer': 756, 'have': 757, 'disputed': 758, 'mouse-hole—and': 759, 'palm': 760, 'youth': 761, 'trivialities': 762, 'ranged': 763, 'shrink': 764, 'upright': 765, 'reckoned': 766, 'tried': 767, 'cudgel': 768, 'tennis': 769, 'scenes': 770, 'waiting-maid.': 771, 'beheaded': 772, 'drive': 773, 'looked': 774, 'bridle': 775, 'outside.': 776, 'peculiar': 777, 'discourse': 778, 'melded': 779, 'call': 780, 'crouch': 781, 'rabbit-hole': 782, 'unlock': 783, 'budded': 784, 'jerk': 785, 'sha': 786, 'fender': 787, 'grief': 788, 'closed': 789, 'big': 790, 'say.': 791, 'guard': 792, 'boards': 793, 'broke': 794, 'shingles': 795, 'finds': 796, 'cheerfully': 797, 'constable': 798, 'sour': 799, 'broth': 800, 'it—it': 801, 'wondering': 802, 'troubling': 803, 'feasted': 804, 'expected': 805, 'farmyard': 806, 'plans': 807, 'loving': 808, 'mantle': 809, 'ordering': 810, 'a': 811, 'therein': 812, 'dreamed': 813, 'eight': 814, 'barrels': 815, 'twilight': 816, 'solitude': 817, 'hawk': 818, 'meeting': 819, 'clatter.': 820, 'healed': 821, 'rascal': 822, 'industrious': 823, 'pictures': 824, 'push': 825, 'that.': 826, 'refreshments': 827, 'delightfully': 828, 'fellow': 829, 'is.': 830, 'ear': 831, 'volunteer': 832, 'pence': 833, 'perfect': 834, 'entreated': 835, 'saddle': 836, 'timid': 837, 'laid': 838, 'slipper.': 839, 'disclosed': 840, 'services': 841, 'lighthearted': 842, 'nowhere': 843, 'decked': 844, 'magnificently': 845, 'foaming': 846, 'real': 847, 'respectful': 848, 'peoples': 849, 'blacken': 850, 'wingsšc': 851, 'turnips': 852, 'stars.': 853, 'dishful': 854, 'believe': 855, 'raspberry': 856, 'otherwise': 857, 'rick': 858, 'sixpence': 859, 'preferred': 860, 'shoes.': 861, 'incessantly': 862, 'meat': 863, 'pronounced': 864, 'appealed': 865, 'monopoly': 866, 'crawling': 867, 'sunbeams': 868, 'greatest': 869, 'tacked': 870, 'sorcerer': 871, 'goblet': 872, 'tie': 873, 'juniper-tree': 874, '39': 875, 'now.': 876, 'morrow': 877, 'shaped': 878, 'streets': 879, 'trotted': 880, 'downstairs': 881, 'windowpane': 882, 'plight': 883, 'peeping': 884, 'any': 885, 'wig': 886, 'ember': 887, 'winded': 888, 'doubt': 889, 'wow': 890, 'breakfast': 891, 'care': 892, 'curse': 893, 'met': 894, 'chuckle': 895, 'queen.': 896, 'embarrassingly': 897, 'rowed': 898, 'puddings.': 899, 'off': 900, 'opinion': 901, 'youll': 902, 'teapot': 903, 'sweater': 904, 'dont': 905, 'wearing': 906, 'custom': 907, 'horn': 908, 'duchess': 909, 'cattily': 910, 'rid': 911, 'together': 912, 'garden': 913, 'chambers': 914, 'while': 915, 'torn': 916, 'livest': 917, 'it.': 918, 'denounce': 919, 'wrapped': 920, 'christening': 921, 'cap': 922, 'difference': 923, 'key.': 924, 'whit': 925, 'speaker': 926, 'longingly': 927, 'course': 928, 'grownups': 929, 'reasons': 930, 'finished': 931, 'starting': 932, 'mill': 933, 'losing': 934, 'forwards': 935, 'chimneys': 936, 'hay-cart.': 937, 'quick': 938, 'stout': 939, 'agreed': 940, 'seemly': 941, 'unhappiness': 942, 'beaten': 943, 'beach': 944, 'beginning': 945, 'thick': 946, 'counted': 947, 'yes': 948, 'drawers': 949, 'pound': 950, 'warned': 951, 'hunters': 952, 'robinsegg': 953, 'milk': 954, 'draped': 955, 'ahem': 956, 'glared': 957, 'restored': 958, 'won.': 959, 'flickered': 960, 'jailer': 961, 'misery': 962, 'supper': 963, 'shyly': 964, 'oil': 965, 'stiff': 966, 'taint': 967, 'shaved': 968, 'son-in-law': 969, 'officers': 970, 'velvet': 971, 'frightful': 972, 'stitch': 973, 'programme': 974, 'gloomy': 975, 'flies—man': 976, 'repeating': 977, 'blackbird': 978, 'order': 979, 'nothings': 980, 'send': 981, 'pyjama': 982, 'heaven': 983, 'obeyed': 984, 'jugs': 985, 'bosom': 986, 'scissors': 987, 'ass': 988, 'on.': 989, 'cried': 990, 'eaten': 991, 'grublike': 992, 'walked': 993, 'argument': 994, 'toothless': 995, 'lion.': 996, 'industry': 997, 'worm': 998, 'thicker': 999, 'sweet.': 1000, 'tablet': 1001, 'squeeze': 1002, 'dangled': 1003, 'cucumber-frames': 1004, 'home': 1005, 'beldam': 1006, 'song.': 1007, 'listened': 1008, 'direction': 1009, 'wits': 1010, 'legs.': 1011, 'spinning-wheel': 1012, 'towering': 1013, 'courtyard': 1014, 'gallop': 1015, 'maiden': 1016, 'works': 1017, 'editions': 1018, 'pale': 1019, 'baskets.': 1020, 'snuffed': 1021, 'white': 1022, 'clung': 1023, 'true.': 1024, 'ly': 1025, 'execute': 1026, 'hungry': 1027, 'armour': 1028, 'finish': 1029, 'running': 1030, 'grunt': 1031, 'festival': 1032, 'heaped': 1033, 'thrown': 1034, 'dormouse': 1035, 'curdken': 1036, 'heed': 1037, 'handsome': 1038, 'five': 1039, 'nestled': 1040, 'between': 1041, 'nowšjust': 1042, 'taken': 1043, 'lean': 1044, 'relations': 1045, 'every': 1046, 'drums': 1047, 'beau': 1048, 'summer.': 1049, 'out.': 1050, 'fine': 1051, 'detail': 1052, 'get': 1053, 'breeze': 1054, 'heaviest.': 1055, 'own': 1056, 'face.': 1057, 'steam-engine': 1058, 'chicken.': 1059, 'swiftly': 1060, 'ive': 1061, 'soo': 1062, 'cleared': 1063, 'parson': 1064, 'wasps': 1065, 'rate': 1066, 'reassure': 1067, 'blink': 1068, 'difficulty': 1069, 'squared': 1070, 'stomach': 1071, 'rea': 1072, 'specifics': 1073, 'directed': 1074, 'pincers': 1075, 'loaded': 1076, 'ball-room': 1077, 'untwist': 1078, 'intelligence': 1079, 'flocks': 1080, 'jemmy': 1081, 'fault': 1082, 'daintily.': 1083, 'were': 1084, 'wreaths': 1085, 'telescopes': 1086, 'work': 1087, 'other.': 1088, 'uncertain': 1089, 'lacking': 1090, 'excellence': 1091, 'anything.': 1092, 'juror': 1093, 'polished': 1094, 'immensely': 1095, 'recipes': 1096, 'fed': 1097, 'hearts.': 1098, 'eyelids': 1099, 'anyone': 1100, 'record': 1101, 'folk': 1102, 'murdered': 1103, 'somebod': 1104, 'don': 1105, '13': 1106, 'with': 1107, 'healthy': 1108, 'voyage': 1109, 'crawled': 1110, 'increasing': 1111, 'fireplace': 1112, 'stream': 1113, 'venture': 1114, 'batting': 1115, 'wash.': 1116, 'waking': 1117, 'whistled': 1118, 'landing': 1119, 'soot': 1120, 'green': 1121, 'nibbling': 1122, 'gripped': 1123, 'however': 1124, 'dismounted': 1125, 'cookers': 1126, 'smells': 1127, 'hearse': 1128, 'lightbulbs': 1129, 'thatsš': 1130, 'hi': 1131, 'attached': 1132, 'lack-a-day': 1133, 'outwitted': 1134, 'wood.': 1135, 'hired': 1136, '12': 1137, 'up—he': 1138, 'up.': 1139, 'tailoring': 1140, 'fingernail': 1141, 'villain': 1142, 'occasionally': 1143, 'fall': 1144, 'ready': 1145, 'sack': 1146, 'local': 1147, 'dinner': 1148, 'copper-red': 1149, 'particular': 1150, 'scour': 1151, 'sc': 1152, 'heartily': 1153, 'ninth': 1154, 'companion.': 1155, 'penny': 1156, '—pick': 1157, 'chemical': 1158, 'laughing': 1159, 'neglected': 1160, 'brood.': 1161, 'archbishop': 1162, 'combing': 1163, 'pearls': 1164, 'mutter': 1165, 'park': 1166, 'close': 1167, 'trembled': 1168, 'godless': 1169, 'bushy': 1170, 'warmed': 1171, 'spoiled': 1172, 'addendum': 1173, 'im': 1174, 'mustard': 1175, 'mother': 1176, 'change': 1177, 'webbing': 1178, 'wasting': 1179, 'light': 1180, 'obliged': 1181, 'enough.': 1182, 'nevertheless': 1183, 'maidens': 1184, 'interested': 1185, 'wheel': 1186, 'needs': 1187, 'wishes—one': 1188, 'quicker': 1189, 'fish': 1190, 'decree': 1191, 'k': 1192, 'wooden': 1193, 'theyre': 1194, 'wounded': 1195, 'pretexts': 1196, 'crimson': 1197, 'annoy': 1198, 'thereupon': 1199, 'ss': 1200, 'moral': 1201, 'squidgy': 1202, 'offering': 1203, 'drown': 1204, 'unusually': 1205, 'talked': 1206, 'ducats': 1207, 'multiplication': 1208, 'fanned': 1209, 'view': 1210, 'asks': 1211, 'bravely': 1212, 'refuse.': 1213, 'them': 1214, 'housework': 1215, 'mite': 1216, 'pass': 1217, 'adultsš': 1218, 'leads': 1219, 'fifteen': 1220, 'trumps—toss': 1221, 'throw': 1222, 'scarf': 1223, 'doorway': 1224, 'suppers': 1225, 'tag': 1226, 'doorframe': 1227, 'blood.': 1228, 'visiting': 1229, 'plate': 1230, 'singing': 1231, 'beat': 1232, 'turtle': 1233, 'returning': 1234, 'fully': 1235, 'ruined': 1236, 'dumb': 1237, 'pebble-stones': 1238, 'sleeping': 1239, 'chin': 1240, 'flower-beds': 1241, 'name.': 1242, 'shape': 1243, 'relented': 1244, 'screwed': 1245, 'man': 1246, 'underground': 1247, 'outer': 1248, 'whiting': 1249, '—we': 1250, 'fading': 1251, 'mm': 1252, 'shifted': 1253, 'reason': 1254, 'suitor': 1255, 'mean.': 1256, 'side.': 1257, 'upstairss': 1258, 'lot': 1259, 'william': 1260, 'flinging': 1261, 'ate': 1262, 'bark.': 1263, 'dressing': 1264, 'musicians': 1265, 'braided': 1266, 'calls': 1267, 'table-cloth': 1268, 'doughy': 1269, 'housemaid': 1270, 'arms': 1271, 'brother.': 1272, 'camp': 1273, 'scalded': 1274, 'evidence': 1275, 'undone': 1276, 'thing': 1277, 'flapping': 1278, 'heavens': 1279, 'rumplestiltskin': 1280, 'four-footed': 1281, 'roguish': 1282, 'sossajes': 1283, 'won': 1284, 'bargains.': 1285, 'pieces.': 1286, 'sniffed': 1287, 'trod': 1288, 'bare': 1289, 'aside': 1290, 'die.': 1291, 'bridle.': 1292, 'yoked': 1293, 'slyly': 1294, 'school': 1295, 'colourless': 1296, 'plenty': 1297, 'longlost': 1298, 'basket': 1299, 'hairy': 1300, 'family': 1301, 'harder': 1302, 'instruments': 1303, 'whole': 1304, 'certainly': 1305, 'sand': 1306, 'person': 1307, 'collapsing': 1308, 'pardoned': 1309, 'scanty': 1310, 'threshold': 1311, 'charms': 1312, 'interrupting': 1313, 'misses': 1314, 'want.': 1315, 'being': 1316, 'holes': 1317, 'briefly': 1318, '8': 1319, 'noble': 1320, 'enemy': 1321, 'hung': 1322, 'else': 1323, 'expedient': 1324, 'pizza': 1325, 'folks': 1326, 'gilded': 1327, 'ways': 1328, 'tapdance': 1329, 'romeo': 1330, 'hairless': 1331, 'encouraged': 1332, 'simpletons': 1333, 'wisdom': 1334, 'capital': 1335, 'cart': 1336, 'thrusts': 1337, 'hill': 1338, 'hedge': 1339, 'joys': 1340, 'companies': 1341, 'hers': 1342, 'lovies': 1343, 'onwards': 1344, 'less': 1345, 'carrying': 1346, 'irritatingly': 1347, 'turnip': 1348, 'cunning': 1349, 'moustache': 1350, 'stamping': 1351, 'afford': 1352, 'wherein': 1353, 'fetching': 1354, 'husk': 1355, 'jeered': 1356, 'growls': 1357, 'traveller': 1358, 'shops': 1359, 'awakened': 1360, 'arches': 1361, 'snail-shell': 1362, 'nine': 1363, 'today.': 1364, 'pudding': 1365, 'log': 1366, 'clumsy': 1367, 'contained': 1368, 'overlooking': 1369, 'suspicion': 1370, 'pebbles': 1371, 'run': 1372, 'shoemaker': 1373, 'did.': 1374, 'seaography': 1375, 'notion': 1376, 'frolic': 1377, 'whosoever': 1378, 'webstuff': 1379, 'sage': 1380, 'life': 1381, 'sty': 1382, 'roll': 1383, 'ducat': 1384, 'salt.': 1385, 'rare': 1386, 'jib': 1387, 'crablike': 1388, 'scale': 1389, 'well': 1390, 'sees': 1391, 'greediness': 1392, '36': 1393, 'sadly.': 1394, 'dears': 1395, 'whistling': 1396, 'finger': 1397, 'someones': 1398, 'tumbling': 1399, 'spooning': 1400, 'pulsed': 1401, 'sluggards': 1402, 'terror': 1403, 'lunch': 1404, 'gleam': 1405, 'tell': 1406, 'shed': 1407, 'easier': 1408, 'borrow': 1409, 'sight': 1410, 'serve': 1411, 'sit': 1412, 'web': 1413, 'chink': 1414, '17': 1415, 'mess': 1416, 'crossways': 1417, 'mysterious': 1418, 'rushes': 1419, 'dying': 1420, 'pool': 1421, 'owl': 1422, 'along': 1423, 'witness': 1424, 'rejoice': 1425, 'wriggling': 1426, 'hailing.': 1427, 'sent': 1428, 'rapidity': 1429, 'groom': 1430, 'he.': 1431, 'whirled': 1432, 'precisely': 1433, 'condemned': 1434, 'thing—you': 1435, 'mischief': 1436, 'rusting': 1437, 'ache': 1438, 'forest.': 1439, 'holidays': 1440, 'feared': 1441, 'rubbish': 1442, 'missed': 1443, 'tumbles': 1444, 'watches': 1445, 'about': 1446, 'purr': 1447, 'changed': 1448, 'enfold': 1449, 'blythe': 1450, 'herbs': 1451, 'barn': 1452, 'betrothed': 1453, 'gather': 1454, 'dull': 1455, 'coralines': 1456, 'when': 1457, 'suit': 1458, 'raised': 1459, 'chimney.': 1460, 'eggs': 1461, 'known': 1462, 'only': 1463, 'aged': 1464, 'brass': 1465, 'finishes': 1466, 'graceful': 1467, 'hug': 1468, 'given.': 1469, 'ceremony': 1470, 'silvery': 1471, 'coconut': 1472, 'power': 1473, 'ashes.': 1474, 'foot-plank': 1475, 'father.': 1476, 'lamps': 1477, 'panther': 1478, 'gazing': 1479, 'farthest': 1480, 'peas.': 1481, 'chanticleer': 1482, 'trampled': 1483, 'achievement': 1484, 'band': 1485, 'bugs': 1486, 'minding': 1487, 'face': 1488, 'sh': 1489, 'out-of-the-way': 1490, 'bewail': 1491, 'scratchy': 1492, 'lina': 1493, 'enjoyed': 1494, 'linnets': 1495, 'rehearsed': 1496, 'beast': 1497, 'mineshaft': 1498, 'panting': 1499, 'enemies': 1500, 'haste': 1501, 'rage': 1502, 'wishing-cloak': 1503, 'house-door.': 1504, 'able': 1505, 'unbound': 1506, 'reeling': 1507, 'smear': 1508, 'saviour': 1509, 'ootiful': 1510, 'ce': 1511, 'coiled': 1512, 'gallows': 1513, 'required': 1514, 'elf': 1515, 'asks.': 1516, 'hopping': 1517, 'unicorn': 1518, 'worms': 1519, 'must': 1520, 'pellmell': 1521, 'sausage': 1522, 'bespoke': 1523, 'flashinglights': 1524, 'none': 1525, 'edwin': 1526, 'motes': 1527, 'mistress': 1528, 'ballpoint': 1529, 'passages': 1530, 'strewn': 1531, 'ring': 1532, 'spool': 1533, 'pitchers': 1534, 'mercilessly': 1535, 'sixth': 1536, 'back': 1537, 'bills': 1538, 'offered': 1539, 'swam': 1540, 'mourning': 1541, 'assembled': 1542, 'afternoon': 1543, 'frock': 1544, 'insects': 1545, 'ante-chamber': 1546, 'laugh': 1547, 'splendour': 1548, 'clumsily': 1549, 'scroll': 1550, 'lives.': 1551, 'gothel': 1552, 'ale.': 1553, 'stones': 1554, 'submitted': 1555, 'tricky': 1556, 'windy': 1557, 'red': 1558, 'mind': 1559, 'spell': 1560, 'tea': 1561, 'ke': 1562, 'mouthless': 1563, 'lasted': 1564, 'crouching': 1565, 'sung': 1566, 'brute': 1567, 'pull': 1568, 'shepherd': 1569, 'instant': 1570, 'overhead': 1571, 'hastily': 1572, 'bushes': 1573, 'fare': 1574, 'bloom': 1575, 'bowls': 1576, 'currently': 1577, 'red-cap.': 1578, 'soft': 1579, 'stunted': 1580, 'beauty': 1581, 'mewed': 1582, 'impossible': 1583, 'pleasing': 1584, 'france': 1585, 'jeremiah': 1586, 'cruel': 1587, 'clubs': 1588, 'snapping': 1589, 'stone': 1590, 'rode': 1591, 'may': 1592, 'widow': 1593, 'expecting': 1594, 'takes': 1595, 'celebrate': 1596, 'adjusted': 1597, 'glittery': 1598, 'assist': 1599, 'consumed': 1600, 'meat.': 1601, 'hobgoblin': 1602, 'reduced': 1603, 'involuntarily': 1604, 'tub': 1605, 'thirst': 1606, 'escape.': 1607, 'please': 1608, 'deeds': 1609, 'cheese.': 1610, 'unwilling': 1611, 'verdict': 1612, 'churchyard': 1613, 'lick': 1614, 'grounds': 1615, 'playthings': 1616, 'greyšno': 1617, 'hurts': 1618, 'espying': 1619, 'vent': 1620, 'statues': 1621, 'freshly': 1622, 'doubled-up': 1623, 'carry': 1624, 'lumps': 1625, 'valuable': 1626, 'apprehensive': 1627, 'favour': 1628, 'eat.': 1629, 'depressions': 1630, 'vulgar': 1631, 'flavour': 1632, 'post': 1633, 'eating': 1634, 'ignored': 1635, 'chap': 1636, 'worth.': 1637, 'magnificence': 1638, 'hungrily': 1639, 'terrified': 1640, 'nervously': 1641, 'provided': 1642, 'kitchen': 1643, 'misfortune': 1644, 'pulled': 1645, 'tendency': 1646, 'louder': 1647, 'famine': 1648, 'edges': 1649, 'seas': 1650, 'dainties': 1651, 'many-league': 1652, 'twined': 1653, 'touching': 1654, 'ride': 1655, 'sister': 1656, 'odious': 1657, 'shivering': 1658, 'riddles': 1659, 'bier': 1660, 'consideration': 1661, 'frontšthe': 1662, 'li': 1663, 'barrowful': 1664, 'history': 1665, 'week': 1666, 'balloon': 1667, 'beheld': 1668, 'm': 1669, 'hopeless': 1670, 'lived—till': 1671, 'understanding': 1672, 'top-off': 1673, 'treelike': 1674, 'master.': 1675, 'business': 1676, 'bearded': 1677, 'within': 1678, 'cages': 1679, 'pitch': 1680, 'sound': 1681, '1.': 1682, 'feebly': 1683, 'cruelty': 1684, 'transformed': 1685, 'skimming': 1686, 'weather': 1687, 'in.': 1688, 'crew': 1689, 'save': 1690, 'powdered': 1691, 'behead': 1692, 'past': 1693, 'carrier': 1694, 'somewhere.': 1695, 'left': 1696, 'busily': 1697, 'admitt': 1698, 'shift': 1699, 'sliced': 1700, 'carriage': 1701, 'toast': 1702, 'provoked': 1703, 'house.': 1704, 'hasnt': 1705, 'meats': 1706, 'ridiculed.': 1707, 'stormy': 1708, 'let': 1709, 'choice': 1710, 'wherewith': 1711, 'glanced': 1712, 'property': 1713, 'jurymen': 1714, 'others': 1715, 'habit': 1716, 'isnt': 1717, 'proposal': 1718, 'endless': 1719, 'drifted': 1720, 'tightly': 1721, 'pie-crust': 1722, 'roasts': 1723, 'rosebushes': 1724, 'inside': 1725, 'greedy': 1726, 'pluck': 1727, 'rough': 1728, 'guest': 1729, 'sunshine': 1730, 'adults': 1731, 'goose-grease': 1732, 'sixteenth': 1733, 'snowdrop': 1734, 'conquered': 1735, 'thats': 1736, 'fling': 1737, 'effect': 1738, 'winter': 1739, 'intend': 1740, 'entreat': 1741, 'wishes': 1742, 'lambs': 1743, 'bite': 1744, 'blindfolded': 1745, 'enchantment': 1746, 'fate': 1747, 'kingdom': 1748, 'soul': 1749, 'rubbing': 1750, 'devil': 1751, 'fast': 1752, 'keeps': 1753, 'sweeping': 1754, 'manikin': 1755, 'treachery': 1756, 'strengthen': 1757, 'metres': 1758, 'avoiding': 1759, 'sock': 1760, 'plane': 1761, 'garibaldi': 1762, 'men.': 1763, 'stayed': 1764, 'thieves.': 1765, 'son': 1766, 'marble.': 1767, 'curtseying': 1768, 'to-night': 1769, 'separate': 1770, 'hurried': 1771, 'repented': 1772, 'house-top': 1773, 'needed': 1774, 'frustration': 1775, 'caw': 1776, 'solemnized': 1777, 'meantime': 1778, 'too.': 1779, 'case': 1780, 'finely': 1781, 'raise': 1782, 'uglifying': 1783, 'to-day': 1784, 'help': 1785, 'clothed': 1786, 'few': 1787, 'safely': 1788, '5': 1789, 'rolledup': 1790, 'pitied': 1791, 'birth': 1792, 'feast': 1793, 'greatly': 1794, 'struggling': 1795, 'wheelbarrow': 1796, 'human': 1797, 'trout': 1798, 'good-bye': 1799, 'has': 1800, 'whirlwind': 1801, 'parties': 1802, 'advance': 1803, 'flings': 1804, 'conger-eel': 1805, 'drily': 1806, 'slave': 1807, 'convinced': 1808, 'were.': 1809, 'adventures': 1810, 'tucked': 1811, 'dress': 1812, 'momentum': 1813, 'dream.': 1814, 'what': 1815, 'looking-glass': 1816, 'curls': 1817, 'lina.': 1818, 'study': 1819, 'rummaged': 1820, 'awful': 1821, 'jurors': 1822, 'hatched': 1823, 'strange': 1824, 'proves': 1825, 'abashed': 1826, 'weigh': 1827, 'wilt': 1828, 'swinging': 1829, 'masters': 1830, 'hillock': 1831, 'started': 1832, 'invisible': 1833, 'withstand': 1834, 'outskirts': 1835, 'croquet-ground': 1836, 'shade.': 1837, 'batteries': 1838, 'teaching': 1839, 'whitelinen': 1840, 'black': 1841, 'washing-bowl': 1842, 'crimsonvarnished': 1843, 'do': 1844, 'truly': 1845, 'worry': 1846, 'us': 1847, 'muttering': 1848, 'pigeons': 1849, 'small': 1850, 'blurted': 1851, 'knotted': 1852, 'partner': 1853, 'laughter': 1854, 'reasonable': 1855, 'ageing': 1856, 'son—he': 1857, 'pope.': 1858, 'salads': 1859, 'stick': 1860, 'muffled': 1861, 'john': 1862, 'watered': 1863, 'through': 1864, 'hears': 1865, 'bite.': 1866, 'chafed': 1867, 'sashes': 1868, 'not.': 1869, 'wildly': 1870, 'showed': 1871, 'how.': 1872, 'brisker': 1873, 'madman': 1874, 'hard': 1875, 'wert': 1876, 'quilts': 1877, 'moreover': 1878, 'hesitated': 1879, 'proclaimed': 1880, 'zigzag': 1881, 'pope': 1882, 'guess': 1883, 'hatters': 1884, 'mercy': 1885, 'juiciest.': 1886, 'language': 1887, 'geography': 1888, 'poverty': 1889, 'skin.': 1890, 'halfsleeping': 1891, 'stepladder': 1892, 'sticklike': 1893, 'himself': 1894, 'part': 1895, 'backed': 1896, 'emphasis': 1897, 'ambassador': 1898, 'consent': 1899, 'parley': 1900, 'angered': 1901, 'assured': 1902, 'support': 1903, 'breath': 1904, 'rule': 1905, 'sorrowfully': 1906, 'executed': 1907, 'feel': 1908, 'reverence': 1909, 'flutter': 1910, 'smallchilds': 1911, 'blindly': 1912, 'sending': 1913, 'unravelling': 1914, 'threw': 1915, 'days': 1916, 'offer': 1917, 'object': 1918, 'patriotic': 1919, 'witch': 1920, 'somewhere': 1921, 'better': 1922, 'clad': 1923, 'whirl': 1924, 'ome': 1925, 'sings.': 1926, 'light.': 1927, 'keeping': 1928, 'attending': 1929, 'patted': 1930, 'gazed': 1931, 'warlike': 1932, 'versions': 1933, 'strew': 1934, 'serpent': 1935, 'window-pane': 1936, 'teach': 1937, 'subject': 1938, 'words.': 1939, 'gown': 1940, 'puzzle': 1941, 'soldiers.': 1942, 'today': 1943, 'collecting': 1944, 'planed': 1945, 'channel': 1946, 'godchildren': 1947, 'her.': 1948, 'sings': 1949, 'dressingup': 1950, 'urchin': 1951, 'horribly': 1952, 'cakes': 1953, 'eager': 1954, 'sends': 1955, 'burnished': 1956, 'books': 1957, 'danced': 1958, 'despair': 1959, 'coward': 1960, 'clunked': 1961, 'excuse': 1962, 'mineral': 1963, 'planning': 1964, 'snored': 1965, 'queer-looking': 1966, 'magic': 1967, 'poke': 1968, 'cellarful': 1969, 'whereby': 1970, 'swooped': 1971, 'scattered': 1972, 'motion': 1973, 'sobbing': 1974, 'button': 1975, 'league': 1976, 'ghostvoice': 1977, 'craft': 1978, 'stump': 1979, 'court': 1980, 'changing': 1981, 'rolls': 1982, 'hares': 1983, 'deserved': 1984, 'proposition': 1985, 'tumpty': 1986, 'workshop': 1987, 'e': 1988, 'departure': 1989, 'types': 1990, 'shrieked': 1991, 'asleep.': 1992, 'teases': 1993, 'forsaken': 1994, 'longer.': 1995, 'frothy': 1996, 'desperate': 1997, 'sea': 1998, 'expressions': 1999, 'strangers': 2000, 'rejoiced': 2001, 'pure': 2002, 'cimens': 2003, 'burrowing': 2004, '24': 2005, 'baby': 2006, 'thither': 2007, 'resting': 2008, 'served': 2009, 'sowed': 2010, 'cow-herd': 2011, 'flowed': 2012, 'surprised': 2013, 'hint': 2014, 'mock': 2015, 'sudden': 2016, 'stones.': 2017, 'plume': 2018, 'pleasanter': 2019, 'steak.': 2020, 'made.': 2021, 'why': 2022, 'trapped': 2023, 'swim': 2024, 'remaining': 2025, 'chorus': 2026, 'scrape': 2027, 'circumstances': 2028, 'capering': 2029, 'learn': 2030, 'should': 2031, 'suet': 2032, 'fridge': 2033, 'eleventh': 2034, 'doors': 2035, 'joined': 2036, 'named.': 2037, 'concern': 2038, 'furious': 2039, 'hooks': 2040, 'shimmer': 2041, 'redandorangeandyellow': 2042, 'leagues': 2043, 'true': 2044, 'loveliest': 2045, 'aprils': 2046, 'flustered': 2047, 'onešto': 2048, 'hesitant': 2049, 'seek': 2050, 'company': 2051, 'befallen': 2052, 'hearken': 2053, 'prick': 2054, 'flyblown': 2055, 'promise': 2056, 'rosy': 2057, 'their': 2058, 'droplets': 2059, 'pelting': 2060, 'woods': 2061, 'appointed': 2062, 'reached': 2063, 'cares': 2064, 'cabbage-leaf': 2065, 'holiness': 2066, 'piteously': 2067, 'queen': 2068, 'stands': 2069, 'knuckles': 2070, 'yesterday': 2071, 'frolick': 2072, 'trampling': 2073, 'rod': 2074, 'fish-footman': 2075, 'silver': 2076, 'distress': 2077, 'beard': 2078, 'limped': 2079, 'drain': 2080, 'afraid': 2081, 'griffin': 2082, 'nothingness': 2083, 'marriage': 2084, 'envious': 2085, 'bad': 2086, 'tarry': 2087, 'leap': 2088, 'bank': 2089, 'falada': 2090, 'crabs': 2091, 'nothing.': 2092, 'coffin': 2093, 'yer': 2094, 'heroic': 2095, 'drunk': 2096, 'falling': 2097, 'worlds': 2098, 'sharp': 2099, 'sky': 2100, 'arose': 2101, 'cross': 2102, 'salt': 2103, 'coffee': 2104, 'snatching': 2105, 'cough': 2106, 'spun': 2107, 'further': 2108, 'draggled': 2109, 'school.': 2110, 'bluewhite': 2111, 'tilling': 2112, 'useful': 2113, 'again.': 2114, 'wound': 2115, 'weve': 2116, 'reveal': 2117, 'dinnertime': 2118, 'forthwith': 2119, 'korbes': 2120, 'juniper-tree.': 2121, 'pantry': 2122, 'wheel-barrow': 2123, 'signifies': 2124, 'reliable': 2125, 'woes': 2126, 'by-the-bye': 2127, 'fail': 2128, 'beware': 2129, 'misfortunes': 2130, 'hastening': 2131, 'smoothly': 2132, 'languages': 2133, 'pleh': 2134, 'barley-sugar': 2135, 'ruin': 2136, 'prize': 2137, 'derry': 2138, 'squire': 2139, 'acknowledge': 2140, 'stingy': 2141, 'hazel-switch': 2142, 'cheap': 2143, 'act': 2144, 'swooping': 2145, 'beauti': 2146, 'prettiest': 2147, 'leathern': 2148, 'rigid': 2149, 'satisfied': 2150, 'make': 2151, 'casks': 2152, 'honestly': 2153, 'legs': 2154, 'free.': 2155, 'fat': 2156, 'conceited': 2157, 'amiss': 2158, 'unicycle': 2159, 'examined': 2160, 'owe': 2161, 'timothy': 2162, 'afar': 2163, 'disfigure': 2164, 'distraction': 2165, 'governess': 2166, 'admiring': 2167, 'slightly': 2168, 'hid': 2169, 'unknown': 2170, 'shown': 2171, 'stately': 2172, 'tired.': 2173, 'mouthed': 2174, 'red-cap': 2175, 'height': 2176, 'reply': 2177, 'visit': 2178, 'rustle': 2179, 'hunger': 2180, 'half-naked': 2181, 'accept': 2182, 'some': 2183, 'delivered': 2184, 'pyjamas': 2185, 'woefully': 2186, 'concerned': 2187, 'scrabbling': 2188, 'proudest': 2189, 'driving': 2190, 'whisker': 2191, 'nobody™s': 2192, 'pronounce': 2193, 'jellyish': 2194, 'befell': 2195, 'patiently': 2196, 'fighting': 2197, 'lit': 2198, 'chatte': 2199, 'coach': 2200, 'called': 2201, 'swore': 2202, 'flame': 2203, 'butterscotch': 2204, 'kiss': 2205, 'best': 2206, 'mid-day': 2207, 'sell': 2208, 'goes.': 2209, 'ado': 2210, 'latin': 2211, 'practical': 2212, 'pans': 2213, 'belaboured': 2214, 'clippings': 2215, 'grant': 2216, 'wedding': 2217, 'disagree': 2218, 'rocks': 2219, 'tailor': 2220, 'refused': 2221, 'coraline': 2222, 'recognized': 2223, 'leave': 2224, 'topmost': 2225, 'facešnot': 2226, 'twanged': 2227, 'richer': 2228, 'edged': 2229, 'swing': 2230, 'mount': 2231, 'jumping': 2232, 'wretchedness': 2233, 'heavy': 2234, 'slaughterer': 2235, 'situated': 2236, 'wheels': 2237, 'fancies': 2238, 'cellaršwere': 2239, 'grumbling': 2240, 'workshop.': 2241, 'gouges': 2242, 'bed-chamber': 2243, 'bride.': 2244, 'eagerness': 2245, 'uglify': 2246, 'disposed': 2247, 'handsomer': 2248, 'heinrich': 2249, 'rubbed': 2250, 'urgent': 2251, 'awake': 2252, 'learned': 2253, 'sensation': 2254, 'reminded': 2255, 'rattling': 2256, 'servants': 2257, 'sleeve': 2258, 'talking': 2259, 'heat': 2260, 'spiteful': 2261, 'enchantress': 2262, 'heads': 2263, 'desk': 2264, 'hurriedly': 2265, 'african': 2266, 'appear': 2267, 'wonderment': 2268, 'earnings': 2269, 'lookšheres': 2270, 'arrive': 2271, 'terrifying': 2272, 'mountains': 2273, 'set': 2274, 'anxiously': 2275, 'belt': 2276, 'affected': 2277, 'pondered': 2278, 'denial': 2279, 'whereon': 2280, 'we': 2281, 'ordered': 2282, 'glorious': 2283, 'honourably': 2284, 'captain': 2285, 'o': 2286, 'snail-shell—and': 2287, 'compassionate': 2288, 'cavern': 2289, 'spruce': 2290, 'immediate': 2291, 'seals': 2292, 'hinder': 2293, 'chips': 2294, 'id': 2295, 'realising': 2296, 'confessed': 2297, 'anteroom': 2298, 'repeated': 2299, 'repaid': 2300, 'powerful': 2301, 'blamed': 2302, 'is': 2303, 'shines': 2304, 'kettle': 2305, 'red-hot': 2306, 'swallow': 2307, 'undertone': 2308, 'sneezed': 2309, 'calf.': 2310, 'require.': 2311, 'closely': 2312, 'upon': 2313, 'tasted': 2314, 'diverted': 2315, 'blind': 2316, 'farther': 2317, 'think': 2318, 'april': 2319, 'observed': 2320, 'deceive': 2321, 'jack': 2322, 'befall': 2323, 'clip': 2324, 'flung': 2325, 'drip': 2326, 'city': 2327, 'furnish': 2328, 'summoned': 2329, 'buffetings': 2330, 'hush': 2331, 'nail': 2332, 'overrated': 2333, 'turning-lathe': 2334, 'presents': 2335, 'bitter': 2336, 'prithee': 2337, 'children': 2338, 'murdering': 2339, 'tender': 2340, 'faith': 2341, 'throats': 2342, 'cries': 2343, 'hour.': 2344, 'want': 2345, 'window': 2346, 'energetic': 2347, 'omelette': 2348, '25': 2349, 'insult': 2350, 'fix': 2351, 'tshirt': 2352, 'could': 2353, 'labour.': 2354, 'stranger': 2355, 'shapes': 2356, 'ply': 2357, 'french': 2358, 'tarragon': 2359, 'called.': 2360, 'heard': 2361, 'became': 2362, 'peeped': 2363, 'racing': 2364, 'asked': 2365, 'neighbourhood': 2366, 'direct': 2367, 'guest.': 2368, 'pursues': 2369, 'sleeves': 2370, 'tones': 2371, 'dusty': 2372, 'split': 2373, 'girl': 2374, 'please.': 2375, 'orange': 2376, 'noise—tap': 2377, 'can': 2378, 'raced': 2379, 'wed': 2380, 'addressed': 2381, 'clack': 2382, 'pick-axe': 2383, 'twigs': 2384, 'whoever': 2385, 'frog': 2386, 'he': 2387, 'sore': 2388, 'hated': 2389, 'cow': 2390, 'cold': 2391, 'deeper': 2392, 'rolling': 2393, 'speak.': 2394, 'deaths': 2395, 'exclamation': 2396, 'with.': 2397, 'gryphon': 2398, 'inclination': 2399, 'bundled': 2400, 'share.': 2401, 'freezer': 2402, 'rapunzel': 2403, 'packets': 2404, 'pyramid': 2405, 'clinked': 2406, 'sits': 2407, 'snatched': 2408, 'important': 2409, 'zealand': 2410, 'news': 2411, 'climb': 2412, '—my': 2413, 'saucer': 2414, 'hoe': 2415, 'bobbins': 2416, 'shrinking': 2417, 'ywhere': 2418, 'actresses': 2419, 'tiniest': 2420, '31': 2421, 'mankind': 2422, 'caught.': 2423, 'facešlike': 2424, 'bride': 2425, 'robes': 2426, 'youngest': 2427, 'snow-white': 2428, 'dungeon': 2429, 'palace': 2430, 'shriek': 2431, 'cooks': 2432, 'happier': 2433, 'proceed': 2434, 'waters': 2435, 'spread': 2436, 'star': 2437, 'spots': 2438, 'stores': 2439, 'fairly.': 2440, 'unfinished': 2441, 'quieted': 2442, 'cooking': 2443, 'shewed': 2444, 'war': 2445, 'knocking': 2446, 'harm.': 2447, 'wheresoever': 2448, 'either.': 2449, 'furs': 2450, 'friendly': 2451, 'overflowing': 2452, 'yourselves': 2453, 'buttonsš': 2454, 'darkness': 2455, 'complain': 2456, 'beside': 2457, 'rapidly': 2458, 'me.': 2459, 'recovered': 2460, 'midmorning': 2461, 'river.': 2462, 'jorindel': 2463, 'rhino': 2464, 'christmas': 2465, 'backs': 2466, 'while.': 2467, 'confined': 2468, 'proclaim': 2469, 'hadst': 2470, 'thee.': 2471, 'walk.': 2472, 'uncle': 2473, 'sobbed': 2474, 'forfeit': 2475, 'au': 2476, 'catalogues': 2477, 'yellow': 2478, 'confused': 2479, 'raven': 2480, 'meal': 2481, 'rumpelstiltskin': 2482, 'seen': 2483, 'rain': 2484, 'stretching': 2485, 'bed.': 2486, 'gravely': 2487, 'ash-heap': 2488, 'sooner': 2489, 'packed': 2490, 'public': 2491, 'ashputtel': 2492, 'beef': 2493, 'footing': 2494, 'distances': 2495, 'grandmother': 2496, 'politely': 2497, 'meagre': 2498, 'opening': 2499, 'night-air': 2500, 'sunday': 2501, 'hansel': 2502, 'sacksful': 2503, 'without': 2504, 'printed': 2505, 'mantelpiece': 2506, 'somehow': 2507, 'lentils': 2508, 'hair': 2509, 'ashes': 2510, 'leather': 2511, 'wrinkled': 2512, 'll': 2513, 'boats': 2514, 'whispering': 2515, 'tree': 2516, 'shoulder': 2517, 'chamberlain': 2518, 'trail': 2519, 'encourage': 2520, 'soullike': 2521, 'abandoned': 2522, 'fretted': 2523, 'beating.': 2524, 'gretel': 2525, 'roused': 2526, 'chamber': 2527, 'eh': 2528, 'beer': 2529, 'gasping': 2530, 'belonging': 2531, 'grindstone': 2532, 'names': 2533, 'awaken': 2534, 'curly': 2535, 'irregular': 2536, 'sorted': 2537, 'occurred': 2538, 'confided': 2539, 'rocking': 2540, 'housešit': 2541, 'rudeness': 2542, 'rolled': 2543, 'spin': 2544, 'rings': 2545, 'vinegar': 2546, 'seize': 2547, 'owned': 2548, 'keyboard': 2549, 'coachman': 2550, 'alter': 2551, 'scrambling': 2552, 'whence': 2553, 'worthy': 2554, 'civilly': 2555, 'song': 2556, 'swayed': 2557, 'flailing': 2558, 'depth—hast': 2559, 'stories': 2560, 'spray': 2561, 'card-playing': 2562, 'tempting': 2563, 'uncharted': 2564, 'cheer': 2565, 'thoughts': 2566, 'cement': 2567, 'pretend': 2568, 'scrabbled': 2569, 'cock': 2570, 'tentacles': 2571, 'toomany': 2572, 'redvelvet': 2573, 'lessons': 2574, 'ends': 2575, 'sofa': 2576, 'journey': 2577, 'teddy': 2578, 'four': 2579, 'bolder': 2580, 'swirl': 2581, 'throne': 2582, 'wedding-torches': 2583, 'trustfully': 2584, 'cask': 2585, 'disgusted': 2586, 'sick': 2587, 'glass-mountain': 2588, 'continued': 2589, 'woofing': 2590, 'flickering': 2591, 'grain': 2592, 'shush': 2593, 'benches': 2594, 'labourers': 2595, 'pillow': 2596, 'ducked': 2597, 'growl': 2598, 'strength.': 2599, 'distinct': 2600, 'unless': 2601, 'tureen': 2602, 'sheep': 2603, 'and': 2604, 'crash': 2605, 'jemima': 2606, 'padding': 2607, 'choking': 2608, 'jeans': 2609, 'who': 2610, 'floo': 2611, 'chickens': 2612, 'glance': 2613, 'beak': 2614, 'swung': 2615, 'ferrets': 2616, 'fifty': 2617, 'sadder': 2618, 'ascend': 2619, 'swallowed': 2620, 'faring': 2621, 'whiteness': 2622, 'dashed': 2623, 'ashamed': 2624, 'pancakes': 2625, 'dislocated': 2626, 'way': 2627, 'begged': 2628, 'right—did': 2629, 'ropemaker': 2630, 'sang—': 2631, 'fists': 2632, 'chocolate': 2633, 'reminding': 2634, 'arrange': 2635, 'revea': 2636, 'although': 2637, 'shoe-leather': 2638, 'snack': 2639, 'scabs': 2640, 'tetanus': 2641, 'nobleman': 2642, 'rustling': 2643, 'fright': 2644, 'alice': 2645, 'sparrows': 2646, 'reflect': 2647, 'daylight': 2648, 'hoped': 2649, 'marmalade': 2650, 'prophecy': 2651, 'descended': 2652, 'summons': 2653, 'felt': 2654, 'feasting': 2655, 'amused': 2656, 'chairs': 2657, 'enticed': 2658, 'bristling': 2659, 'buttons': 2660, 'dear.': 2661, 'dim': 2662, 'candle': 2663, 'bless': 2664, 'moss': 2665, 'warn': 2666, 'seized': 2667, 'fanciedšflee': 2668, 'countless': 2669, 'displaying': 2670, 'weary': 2671, 'stopped': 2672, 'tread': 2673, 'eleven': 2674, 'brought': 2675, 'follow': 2676, 'thrust': 2677, 'dry': 2678, 'holle': 2679, 'length': 2680, 'knocks': 2681, 'cobbler': 2682, 'rank—kings': 2683, 'jorinda': 2684, 'protection': 2685, 'queerest': 2686, 'are': 2687, 'remarked': 2688, 'trim': 2689, 'hopscotch': 2690, 'piebald': 2691, 'stuffing': 2692, 'student': 2693, 'trance': 2694, 'mildewed': 2695, 'reading': 2696, 'have.': 2697, 'grasped': 2698, 'fingers': 2699, 'duck': 2700, 't': 2701, 'eyes.': 2702, 'doom': 2703, '15': 2704, 'fared': 2705, 'spaghetti': 2706, 'angus': 2707, 'goat.': 2708, 'cellar': 2709, 'prepared': 2710, 'onions': 2711, 'gh': 2712, 'kinsmen': 2713, 'mayor.': 2714, 'bee': 2715, 'sickle': 2716, 'accounts': 2717, 'sort': 2718, 'machines': 2719, 'waggoner': 2720, 'chapel': 2721, 'dirt': 2722, 'sting': 2723, 'react': 2724, 'before': 2725, 'bother': 2726, 'entire': 2727, 'flashing': 2728, 'spat': 2729, 'glitter': 2730, 'years': 2731, 'put': 2732, 'bath': 2733, 'hamish': 2734, 'foam': 2735, 'pounds': 2736, 'charges': 2737, 'frosted': 2738, 'claw': 2739, 'confusion': 2740, 'choose': 2741, 'carest': 2742, 'kisses': 2743, 'live': 2744, 'tarts': 2745, 'thickest': 2746, 'puss': 2747, 'cloth': 2748, 'uglification': 2749, 'seventh': 2750, 'result': 2751, 'peacefully': 2752, 'treatment': 2753, 'nosegay': 2754, 'drawer': 2755, 'moon.': 2756, 'nicely': 2757, 'tight': 2758, 'leaf—hast': 2759, 'chosen': 2760, 'steps': 2761, 'round.': 2762, 'enthusiasm': 2763, 'angel': 2764, 'limb': 2765, 'prodded': 2766, 'innkeeper': 2767, 'night-time': 2768, 'embrace': 2769, 'decaying': 2770, 'words': 2771, 'fight': 2772, 'fastened': 2773, 'sprouted': 2774, 'these': 2775, 'delayed': 2776, 'cast': 2777, 'hoofs': 2778, 'needle.': 2779, 'everything.': 2780, 'pertains': 2781, 'row': 2782, 'suitors': 2783, 'comes': 2784, 'repose': 2785, 'extremely': 2786, 'smelled': 2787, 'luxuriantly': 2788, 'mechanism': 2789, 'concrete': 2790, 'chocolatecovered': 2791, 'brightly': 2792, 'travels': 2793, 'you': 2794, 'written': 2795, 'niece': 2796, 'renowned': 2797, 'fool': 2798, 'laced': 2799, 'liable': 2800, 'choked.': 2801, 'miller': 2802, 'sneezes': 2803, 'bread-shovel': 2804, '30': 2805, 'earliest': 2806, 'supermarket': 2807, '—speak': 2808, 'drew': 2809, 'simple-hearted': 2810, 'force': 2811, 'worth': 2812, 'theyve': 2813, 'inward': 2814, 'advice': 2815, 'side': 2816, 'upward': 2817, 'mightily': 2818, 'announced': 2819, 'triumphant': 2820, 'stitching': 2821, 'equally': 2822, 'youd': 2823, 'inkstand': 2824, 'darkening': 2825, 'duty': 2826, 'special': 2827, 'gathered': 2828, 'concert': 2829, 'bold': 2830, 'maam': 2831, 'released': 2832, 'crumbled': 2833, 'yours': 2834, 'three.': 2835, 'trials': 2836, 'crabb': 2837, 'gallons': 2838, 'nights': 2839, 'sound.': 2840, 'corali': 2841, 'enthusiastically': 2842, 'quickly.': 2843, 'extraordinary': 2844, 'named': 2845, 'recently': 2846, 'turtles': 2847, 'skill': 2848, 'mum': 2849, 'egg': 2850, 'font': 2851, 'rippling': 2852, 'presence': 2853, 'unconsumed': 2854, 'lathe': 2855, 'dark-grey': 2856, 'ball': 2857, 'listeners': 2858, 'hick': 2859, 'merrily': 2860, 'dived': 2861, 'received': 2862, 'slid': 2863, 'my': 2864, 'deal': 2865, 'idle.': 2866, 'it—we': 2867, 'cinders': 2868, 'afterimages': 2869, 'flower-pot': 2870, 'quadrille': 2871, 'commander-in-chief': 2872, 'low-spirited': 2873, 'graciously': 2874, 'attempt': 2875, 'conduct': 2876, 'stupidest': 2877, 'crust': 2878, 'cake': 2879, 'daddy': 2880, 'dressinggown': 2881, 'player': 2882, 'logs': 2883, 'right—all': 2884, 'banks': 2885, 'free': 2886, 'dress.': 2887, 'remedies': 2888, 'right-hand': 2889, 'note-book': 2890, 'scalpelsharp': 2891, 'envy': 2892, 'three': 2893, 'throughout': 2894, 'blackest': 2895, 'enou': 2896, 'ladder': 2897, 'crossed': 2898, 'undoubtedly': 2899, 'spices': 2900, 'hey': 2901, 'caves': 2902, 'sulky': 2903, 'opportunity': 2904, 'stare': 2905, 'writhing': 2906, 'closing': 2907, 'boughs': 2908, 'question': 2909, 'twenty-four': 2910, 'okay': 2911, 'oiled': 2912, 'murderers': 2913, 'poured': 2914, 'fatigue': 2915, 'ruled': 2916, 'tutted': 2917, 'bustled': 2918, 'retired': 2919, 'astonishingly': 2920, 'christened': 2921, 'bitterly': 2922, '11': 2923, 'silly': 2924, 'hardly': 2925, 'spe': 2926, 'making': 2927, 'parchment': 2928, 'pear-tree.': 2929, 'slip': 2930, 'merely': 2931, 'those': 2932, 'rap': 2933, 'necessity': 2934, 'hideandgoseek': 2935, 'ghosts': 2936, 'wondered': 2937, 'attendance': 2938, 'willow-wrens': 2939, 'scullery': 2940, 'holle.': 2941, 'hiding': 2942, 'delightful': 2943, 'minds': 2944, 'crab-shells': 2945, 'nudged': 2946, 'mallets': 2947, 'tremulous': 2948, 'shouted': 2949, 'grease': 2950, 'unwrapped': 2951, 'sugarloaf': 2952, 'abode': 2953, 'hide': 2954, 'after': 2955, 'mine.': 2956, 'explanation': 2957, 'parents': 2958, 'fields': 2959, 'chittering': 2960, 'tablets': 2961, 'swishing': 2962, 'tugging': 2963, 'bread': 2964, 'ran': 2965, 'loo': 2966, 'field': 2967, 'wiggling': 2968, 'roland': 2969, 'here—why': 2970, 'tapped': 2971, 'cheeses': 2972, 'lap': 2973, 'cherry-tart': 2974, 'his': 2975, 'honour': 2976, 'strangely': 2977, 'reassurance': 2978, 'slippers': 2979, 'snail': 2980, 'servant': 2981, 'nodding': 2982, 'generally': 2983, 'consulted': 2984, 'wins': 2985, 'telltale': 2986, 'milk-pail': 2987, 'burned': 2988, 'goose.': 2989, 'nails': 2990, 'photographšmore': 2991, 'dainty': 2992, 'secondly': 2993, 'tom-cat': 2994, 'purse': 2995, 'poison': 2996, 'consented': 2997, 'coming.': 2998, 'darkest': 2999, 'remarking': 3000, 'luminous': 3001, 'uneasy': 3002, 'scare': 3003, 'schoolroom': 3004, 'efforts': 3005, 'rusty': 3006, 'aha': 3007, 'trip': 3008, 'use': 3009, 'meadows': 3010, 'years.': 3011, 'devour.': 3012, 'ill': 3013, 'clothes': 3014, 'dreary': 3015, '32': 3016, 'noone': 3017, 'sweet': 3018, 'ponder': 3019, 'stigand': 3020, 'swollen': 3021, 'remorse': 3022, 'wriggled': 3023, 'rowing': 3024, 'lustily': 3025, 'stiffly': 3026, 'plot': 3027, 'hounds.': 3028, 'families': 3029, 'conscience': 3030, 'valley': 3031, 'bubble': 3032, 'yearning': 3033, 'drawingroom': 3034, 'bark': 3035, 'unfortunate': 3036, 'country': 3037, 'knife.': 3038, 'hollow': 3039, 'steed': 3040, 'shopping': 3041, 'plash—from': 3042, 'classics': 3043, 'forty-two': 3044, 'um': 3045, 'brethren': 3046, 'intended': 3047, 'pullovers': 3048, 'cave': 3049, 'meddle': 3050, 'shoulders': 3051, 'draw': 3052, 'alight': 3053, 'prepare': 3054, 'ringlets': 3055, 'thirsty.': 3056, 'daytime.': 3057, 'knowing': 3058, 'country.': 3059, '7': 3060, 'stand': 3061, 'furrow': 3062, 'glad': 3063, 'cow-house': 3064, 'bracknell': 3065, 'ointment': 3066, 'wages': 3067, 'forgotten': 3068, 'thirsty': 3069, 'tommy': 3070, 'henceforth': 3071, 'mark': 3072, 'hate': 3073, 'thoughtful.': 3074, 'grieved': 3075, 'preferring': 3076, 'ceiling': 3077, 'sport': 3078, 'spades': 3079, 'thread': 3080, 'sir': 3081, 'hare': 3082, 'toad': 3083, 'move': 3084, 'banquet': 3085, 'loaves': 3086, 'chestnut-horse.': 3087, 'fits': 3088, 'pray': 3089, 'tricked': 3090, 'coloration': 3091, 'dale': 3092, 'voicesš': 3093, 'ascending': 3094, 'overnight': 3095, 'theyll': 3096, 'tipping': 3097, 'ridiculous': 3098, 'surely': 3099, 'centimetres': 3100, 'dear': 3101, 'pockets': 3102, 'greenpainted': 3103, 'turn-up': 3104, 'strung': 3105, 'revulsion': 3106, 'decidedly': 3107, 'listen': 3108, 'die': 3109, 'recital': 3110, 'neighbour': 3111, 'millet-seed': 3112, 'forest': 3113, 'obstacle': 3114, 'equal': 3115, 'build': 3116, 'itself': 3117, 'tables': 3118, 'god': 3119, 'blow': 3120, 'greyishwhite': 3121, 'calves': 3122, 'coal': 3123, 'main': 3124, 'lack': 3125, 'forced': 3126, 'fierce': 3127, 'undisturbed': 3128, 'mouldy': 3129, 'vote': 3130, 'sisters': 3131, 'risen': 3132, 'unbeaten': 3133, 'crazy': 3134, '153': 3135, 'windup': 3136, 'prettier': 3137, 'cheered': 3138, 'heinel': 3139, 'vegetables.': 3140, 'nursing': 3141, 'lamentations': 3142, 'just': 3143, 'map': 3144, 'grew': 3145, 'unwillingly': 3146, 'dangerous': 3147, 'hippopotamus': 3148, 'tends': 3149, 'predawn': 3150, 'twinkling': 3151, 'seaside': 3152, 'eaters': 3153, 'polite': 3154, 'indistinctly': 3155, 'sighed': 3156, 'acquaintance': 3157, 'curtain': 3158, 'everythings': 3159, 'languid': 3160, 'holding': 3161, 'wing': 3162, 'host': 3163, 'undertook': 3164, 'theyd': 3165, 'inches': 3166, 'fireside': 3167, 'grateful': 3168, 'hero': 3169, 'burnt.': 3170, 'slopping': 3171, 'on—tap': 3172, 'stipulated': 3173, 'scaring': 3174, 'raining': 3175, 'cupboard': 3176, 'fumbled': 3177, 'reach': 3178, 'weave': 3179, 'leg': 3180, 'occasional': 3181, 'flappers': 3182, 'introduced': 3183, 'motions': 3184, 'stumbled': 3185, 'butcher': 3186, 'tittered': 3187, 'paw': 3188, 'alternately': 3189, 'stepmother': 3190, 'find': 3191, 'mixture': 3192, 'marbles': 3193, 'hell': 3194, 'wept': 3195, 'rushing': 3196, 'ravaging': 3197, 'sea-water': 3198, 'fragments': 3199, 'dirty': 3200, 'a-fishing': 3201, 'kindness': 3202, 'chirping': 3203, 'messenger': 3204, 'fabric': 3205, 'positively': 3206, 'biscuit': 3207, 'stupidly': 3208, 'thorns': 3209, 'plague': 3210, 'fragile': 3211, 'steam': 3212, 'going': 3213, 'streets.': 3214, 'pie': 3215, 'lofty': 3216, 'came': 3217, 'wither': 3218, 'forge': 3219, 'nightblack': 3220, 'plunged': 3221, 'lunchtime': 3222, 'hot-tempered': 3223, 'double': 3224, 'angry': 3225, 'entering': 3226, 'thine': 3227, 'employed': 3228, 'probably': 3229, 'apparently': 3230, 'hearthrug': 3231, 'knot': 3232, 'clutches': 3233, 'unbuttoned': 3234, 'charm': 3235, 'peas': 3236, 'knight': 3237, 'principal': 3238, 'bird': 3239, 'stem': 3240, 'two': 3241, 'plainly': 3242, 'hadnt': 3243, 'supper.': 3244, 'train': 3245, '42': 3246, 'someone': 3247, 'persuaded': 3248, 'reel': 3249, 'hen': 3250, 'dig': 3251, 'mourners': 3252, 'procure': 3253, 'musician': 3254, 'location': 3255, 'turning': 3256, 'daytime': 3257, 'entreaties': 3258, 'starts': 3259, 'creature': 3260, 'kills': 3261, 'explanations': 3262, 'rose-red': 3263, 'seem': 3264, 'girls': 3265, 'checked': 3266, 'blouses': 3267, 'king.': 3268, 'slab': 3269, 'balding': 3270, 'gaze': 3271, 'cross-roads': 3272, 'stretch': 3273, 'leek': 3274, 'wish.': 3275, 'itwas': 3276, 'fell': 3277, 'casket': 3278, 'stalk': 3279, 'hurry': 3280, 'queens': 3281, 'thousands': 3282, 'tugged': 3283, 'ease': 3284, 'juggling': 3285, 'cotton': 3286, 'end.': 3287, 'jollily': 3288, 'shower': 3289, 'brains': 3290, 'fill': 3291, 'merriment': 3292, 'nile': 3293, 'vagabond': 3294, 'doctored': 3295, 'wand': 3296, 'share': 3297, 'sprinkled': 3298, 'journeying': 3299, 'anything': 3300, 'meant': 3301, 'mustnt': 3302, 'armchairs': 3303, 'joke': 3304, 'shrill': 3305, 'flipped': 3306, 'whether': 3307, 'loses': 3308, 'blessings': 3309, 'abundance': 3310, 'ked': 3311, 'quietly': 3312, 'sliding': 3313, 'blank': 3314, 'shipshape': 3315, 'jean': 3316, 'largest': 3317, 'wolf': 3318, 'manners': 3319, 'note': 3320, 'breathed': 3321, 'outšand': 3322, 'serpents': 3323, 'fist': 3324, 'sift': 3325, 'hidden': 3326, 'mouthful': 3327, 'retire': 3328, 'procession': 3329, 'tiled': 3330, 'heated': 3331, 'goldsmith': 3332, 'slinky': 3333, 'silenced': 3334, 'both': 3335, 'dreadfully': 3336, 'paused': 3337, 'house-keeping': 3338, 'punching': 3339, 'famed': 3340, '”': 3341, 'sneezing': 3342, 'hoping': 3343, 'leaves': 3344, 'dance—you': 3345, 'entrance': 3346, 'unlucky': 3347, 'exist': 3348, 'shadow': 3349, 'doth': 3350, 'here': 3351, 'as': 3352, 'fairest': 3353, 'back.': 3354, '27': 3355, 'celebrated': 3356, 'forgiven': 3357, 'usual': 3358, 'clock': 3359, 'helped': 3360, 'stolen': 3361, 'managed.': 3362, 'window-seat': 3363, 'meatballs': 3364, 'hanging': 3365, 'mad': 3366, 'twenty': 3367, 'dearest': 3368, 'distant': 3369, 'thinking': 3370, 'shiver': 3371, 'thomas': 3372, 'will—beat': 3373, 'sootblack': 3374, 'nimble.': 3375, 'ridge': 3376, 'hopeful': 3377, 'dispute': 3378, 'objection': 3379, 'frogs': 3380, 'sacks': 3381, 'detached': 3382, 'ill-luck': 3383, 'fountain': 3384, 'leading': 3385, 'supple': 3386, 'glee': 3387, 'hurrying': 3388, 'ought': 3389, 'england': 3390, 'ants': 3391, 'pleasantly': 3392, 'retinue': 3393, 'behaviour': 3394, 'roams': 3395, 'shrimp': 3396, '40': 3397, 'hinges': 3398, 'faintest': 3399, 'stitches': 3400, 'butter': 3401, 'managed': 3402, 'stillness': 3403, 'day-school': 3404, 'ingratitude': 3405, '14': 3406, 'billows': 3407, 'bare-faced': 3408, 'twitched': 3409, 'breezes': 3410, 'lonely': 3411, 'forbade': 3412, 'faintly': 3413, 'knee': 3414, 'nap.': 3415, 'head': 3416, 'unluckily': 3417, 'doctor': 3418, 'switch': 3419, 'bumped': 3420, 'helmet': 3421, 'marble': 3422, 'armour-bearer': 3423, 'conscious': 3424, 'darling': 3425, 'comrades': 3426, 'jelly-fish': 3427, 'turned': 3428, 'halfsee': 3429, 'bush': 3430, 'killed': 3431, 'troublesome': 3432, 'bothered': 3433, 'mostly': 3434, 'cousin': 3435, '33': 3436, 'naughty': 3437, 'scaly': 3438, 'has.': 3439, 'harnessed': 3440, 'cup.': 3441, 'ground.': 3442, 'firm': 3443, 'iron': 3444, 'whilst': 3445, 'affectionately': 3446, 'waistcoat': 3447, 'lamp': 3448, 'pail': 3449, 'betimes': 3450, 'windowsill': 3451, 'treat': 3452, 'speech': 3453, 'bracelet': 3454, 'common': 3455, 'name': 3456, 'glittering': 3457, 'stepsister': 3458, 'astounding': 3459, 'word.': 3460, 'familiarly': 3461, 'passionate': 3462, 'proof': 3463, 'diamonds': 3464, 'second': 3465, 'roadside': 3466, 'impatiently': 3467, 'crawl': 3468, 'angles': 3469, 'boldly': 3470, 'safeguard': 3471, 'oxen': 3472, 'strokes': 3473, 'fascinated': 3474, 'curtains': 3475, 'strength': 3476, 'perching': 3477, 'civil': 3478, 'cupboa': 3479, 'indeed': 3480, 'bonelessly': 3481, 'searched': 3482, 'blinked': 3483, '6': 3484, 'countries': 3485, 'dogbats': 3486, 'fickle': 3487, 'lionpawed': 3488, 'resembled': 3489, 'bush.': 3490, 'reeds': 3491, 'teatime': 3492, 'flames': 3493, 'harshly': 3494, 'pause': 3495, 'doing.': 3496, 'cards': 3497, 'thunderstorm': 3498, 'chimneys.': 3499, 'wide': 3500, 'answered': 3501, 'bacon.': 3502, 'foolish': 3503, 'betimes.': 3504, 'bulb': 3505, 'tusks': 3506, 'sandpapery': 3507, 'grins': 3508, 'shoes': 3509, 'bade': 3510, 'wonder': 3511, 'mean': 3512, 'britches': 3513, 'suck': 3514, 'tea-time': 3515, 'grows': 3516, 'little.': 3517, 'hornet': 3518, 'thought': 3519, 'lungs': 3520, 'treat.': 3521, 'moaning': 3522, 'dead': 3523, 'worst': 3524, 'hurricane': 3525, 'growled': 3526, 'shudder': 3527, 'persisted': 3528, 'sky-rocket': 3529, 'calling': 3530, 'recognise': 3531, 'prettily': 3532, 'garden.': 3533, 'forms': 3534, 'ugly': 3535, 'setting': 3536, 'mushroom': 3537, 'smart': 3538, 'flats': 3539, 'sheep-bells': 3540, 'screw': 3541, 'gruyére': 3542, 'salmon': 3543, 'kindness.': 3544, 'picking': 3545, 'watercolour': 3546, '—i': 3547, 'unfastened': 3548, 'amid': 3549, 'book-shelves': 3550, 'road-side': 3551, 'thankful': 3552, 'wardrobedoor': 3553, 'fancying': 3554, 'gged': 3555, 'injury': 3556, 'briskly': 3557, 'travellers': 3558, 'float': 3559, 'tinkling': 3560, 'toybox': 3561, 'pantaloons': 3562, 'beings': 3563, 'minute': 3564, 'pepper': 3565, 'greatness': 3566, 'woodman': 3567, 'dinosaur': 3568, 'recognised': 3569, 'enormously': 3570, 'arrived': 3571, 'pitiless': 3572, 'hinged': 3573, 'guide': 3574, 'military': 3575, 'grove—hast': 3576, 'needles': 3577, 'stable': 3578, 'wrapping': 3579, 'mistaken': 3580, 'washingup': 3581, 'cauldron': 3582, 'below': 3583, 'scurried': 3584, 'uneasiness': 3585, 'soup': 3586, 'rest': 3587, 'suspecting': 3588, 'grammar': 3589, 'tipped': 3590, 'dare': 3591, 'expatiated': 3592, 'heavier': 3593, 'knows': 3594, 'arranged': 3595, 'regular': 3596, 'remained': 3597, 'humble': 3598, 'buzzed': 3599, 'hanged': 3600, 'fewer': 3601, 'shouting': 3602, 'barelythere': 3603, 'coxcomb.': 3604, 'nothing': 3605, 'shore': 3606, 'hurting': 3607, 'produced': 3608, 'wingsš': 3609, 'an': 3610, 'blades': 3611, 'see.': 3612, 'variations': 3613, 'awhile': 3614, 'havent': 3615, 'overset': 3616, 'roared': 3617, 'drawling-master': 3618, 'lots': 3619, 'sorrow': 3620, 'work.': 3621, 'greedily': 3622, 'swans—all': 3623, 'scarletandorange': 3624, 'bat': 3625, 'opposition': 3626, 'kill': 3627, 'boxes': 3628, 'temperature': 3629, 'such': 3630, 'praised': 3631, 'springs': 3632, 'jury-box': 3633, 'gardeners': 3634, 'porpoise': 3635, 'dearly': 3636, 'new-made': 3637, 'gnat': 3638, 'behave': 3639, 'gave': 3640, 'slept': 3641, 'sang': 3642, 'rueful': 3643, 'stops': 3644, 'lies': 3645, 'breadcrumbs': 3646, 'army': 3647, 'tu': 3648, 'hobblety': 3649, 'delight': 3650, 'leant': 3651, 'shining': 3652, 'arm.': 3653, 'whatever': 3654, 'bake': 3655, 'conquer': 3656, 'people.': 3657, 'daggers': 3658, 'consultation': 3659, 'store': 3660, 'ails': 3661, 'rough-looking': 3662, 'yum': 3663, 'eldest.': 3664, 'drops': 3665, 'stepdaughter': 3666, 'both.': 3667, 'peasants': 3668, 'child': 3669, 'leaf': 3670, 'hunchback': 3671, 'computers': 3672, 'watch': 3673, 'capered': 3674, 'ou': 3675, 'avarice': 3676, 'ing': 3677, 'chasing': 3678, 'wells': 3679, 'spot': 3680, 'ladies': 3681, 'scrapes': 3682, 'tremendous': 3683, 'cackled': 3684, 'saucepan': 3685, 'purest': 3686, 'hotwater': 3687, 'syrup': 3688, 'dye': 3689, 'patience': 3690, 'raging': 3691, 'spindles': 3692, 'bewitched': 3693, 'jingling': 3694, 'robbed': 3695, 'piccolos': 3696, 'whisked': 3697, 'warm': 3698, 'forever': 3699, 'owner': 3700, 'trust': 3701, 'aid': 3702, 'princess': 3703, 'runched': 3704, 'unfolded': 3705, 'join': 3706, 'dwelling': 3707, 'car': 3708, 'somebodys': 3709, 'shop': 3710, 'dropping': 3711, 'excuses': 3712, 'almost': 3713, 'summer': 3714, 'wait': 3715, 'money.': 3716, 'away': 3717, 'grubthingšbe': 3718, 'overgrown': 3719, 'carried.': 3720, 'seconds': 3721, 'allowed': 3722, 'gnaw': 3723, 'mothers': 3724, 'paid': 3725, 'understand': 3726, 'reappeared': 3727, 'bones': 3728, 'halffilled': 3729, 'hump-backed': 3730, 'respect.': 3731, 'coolly': 3732, 'scarcely': 3733, 'chimney': 3734, 'bellow': 3735, 'mama': 3736, 'gravy': 3737, 'degrees': 3738, 'sorrowed': 3739, 'dropped': 3740, 'ancient': 3741, 'stage': 3742, 'monster': 3743, 'depended': 3744, 'willing': 3745, 'pausing': 3746, 'finer': 3747, 'sigh': 3748, 'inn': 3749, 'livonian': 3750, 'dripping': 3751, 'asking': 3752, 'fat.': 3753, 'chittered': 3754, 'pastry': 3755, 'loudly': 3756, 'swept': 3757, 'taptaptapping': 3758, 'thenšbamšit': 3759, 'chuckled': 3760, 'great': 3761, 'tease': 3762, 'hmph': 3763, 'now': 3764, 'disappointed': 3765, 'roved': 3766, 'crab': 3767, 'things': 3768, 'treacherous': 3769, 'mounts': 3770, 'craftsmen': 3771, 'bought': 3772, 'weighty': 3773, 'large': 3774, 'early': 3775, 'district': 3776, 'jaw': 3777, 'fair.': 3778, 'look': 3779, 'currants': 3780, 'kneebritches': 3781, 'punishment': 3782, 'prey': 3783, 'mustine': 3784, 'alarm': 3785, 'emperor': 3786, 'untying': 3787, 'witches': 3788, 'content': 3789, 'stoop': 3790, 'write': 3791, 'subjects': 3792, 'fog': 3793, 'intertwined': 3794, 'dost': 3795, 'pear-tree': 3796, 'guarantee': 3797, 'giving': 3798, 'depth': 3799, 'reaching': 3800, 'trade': 3801, 'axis': 3802, 'starve.': 3803, 'telling': 3804, 'northumbria': 3805, 'thunders': 3806, 'admit': 3807, 'brink': 3808, 'hostess': 3809, 'strewed': 3810, 'wife': 3811, 'leaning': 3812, 'heršand': 3813, 'greater.': 3814, 'block': 3815, 'hath': 3816, 'girls.': 3817, 'restore': 3818, 'soundly': 3819, 'start': 3820, 'stag': 3821, 'grieves': 3822, 'sugar': 3823, 'bang': 3824, 'tis': 3825, 'courteously': 3826, 'on': 3827, 'buttercup': 3828, 'disenchanted': 3829, 'furnished': 3830, 'identical': 3831, 'remind': 3832, 'carts': 3833, 'ilt': 3834, 'neck.': 3835, 'farm-yard': 3836, 'hole': 3837, 'tower': 3838, 'relieved': 3839, 'fortune': 3840, 'fathers': 3841, 'popping': 3842, 'conversationally': 3843, 'dooršand': 3844, 'sprang': 3845, 'eggshellthin': 3846, 'hovering': 3847, 'morning': 3848, 'mass': 3849, 'puts': 3850, 'spinning-wheels': 3851, 'rosetree': 3852, 'either': 3853, 'audience': 3854, 'filled': 3855, 'steel': 3856, 'oak': 3857, 'comrades.': 3858, 'cow-houses': 3859, 'given': 3860, 'rhinos': 3861, 'all-gone': 3862, 'gladness': 3863, 'mr': 3864, 'hugs': 3865, 'chain': 3866, 'ridden': 3867, 'effort': 3868, 'shimmered': 3869, 'noticed': 3870, 'spotlight': 3871, 'invitation': 3872, 'hewed': 3873, 'statue': 3874, 'geese': 3875, 'walking': 3876, 'succeed': 3877, 'slate': 3878, 'belonged': 3879, 'phantom': 3880, 'miserably': 3881, 'stuck': 3882, 'saving': 3883, 'chamber.': 3884, 'earnestly': 3885, 'frightfully': 3886, 'chair': 3887, 'burning': 3888, 'greenwood': 3889, 'itšit': 3890, 'resisted': 3891, 'hunter': 3892, 'nerveses': 3893, 'closer': 3894, 'safer': 3895, 'bell': 3896, 'coffins': 3897, 'pebble': 3898, 'shuddered': 3899, 'word': 3900, 'knit': 3901, 'treasure': 3902, 'greeted': 3903, 'counsel': 3904, 'one': 3905, 'tap—plash': 3906, 'biscuits': 3907, 'livery': 3908, 'shrugged': 3909, 'raked': 3910, 'thinks': 3911, 'nimble': 3912, 'daresay': 3913, 'fair': 3914, 'indignantly': 3915, 'snarled': 3916, 'minded': 3917, 'slippery': 3918, 'ask': 3919, 'grin': 3920, 'weighed': 3921, 'wasn': 3922, 'gain—all': 3923, 'tapping': 3924, 'fiendish': 3925, 'garland': 3926, 'corner': 3927, 'increased': 3928, 'strangle': 3929, 'wishing': 3930, 'determined': 3931, 'wen': 3932, 'feeding': 3933, 'hugged': 3934, 'housešand': 3935, 'mistook': 3936, 'brandy': 3937, 'stirring': 3938, 'account': 3939, 'perch': 3940, 'order.': 3941, 'wetted': 3942, 'done.': 3943, 'opposite': 3944, 'herself': 3945, 'taptaptap': 3946, 'knitting': 3947, 'journeyed': 3948, '38': 3949, 'coming': 3950, 'icecream': 3951, 'dead.': 3952, 'landlord': 3953, 'scorches': 3954, 'avail': 3955, 'tears': 3956, '23': 3957, 'intending': 3958, 'promised': 3959, 'attended': 3960, 'accidentally': 3961, 'skipping': 3962, 'about.': 3963, 'brown': 3964, 'laden': 3965, 'awkward': 3966, 'possessed': 3967, 'hamburger': 3968, 'highway': 3969, 'execution': 3970, 'crafty': 3971, 'three-legged': 3972, 'promising': 3973, 'pine-apple': 3974, 'mouse': 3975, 'plants': 3976, 'tea-things': 3977, 'glittered': 3978, 'present': 3979, 'dish': 3980, 'hedges': 3981, 'statuestill': 3982, 'always': 3983, 'slaughter-house': 3984, 'nimbly': 3985, 'havoc': 3986, 'against': 3987, 'touched': 3988, 'oodle': 3989, 'skein': 3990, 'roses': 3991, 'will': 3992, 'mocked': 3993, 'ask.': 3994, 'previous': 3995, 'granite': 3996, 'lower': 3997, 'staging': 3998, 'anywhere': 3999, 'tunnel': 4000, '3': 4001, 'skilful': 4002, 'dates': 4003, 'final': 4004, 'miraculous': 4005, 'bedtime': 4006, 'church': 4007, 'guarded': 4008, 'warriors': 4009, 'terrible': 4010, 'several': 4011, 'satisfied.': 4012, 'severely': 4013, 'bale': 4014, 'marriage.': 4015, 'makyth': 4016, 'toodle': 4017, 'sun': 4018, 'played': 4019, 'suitcasesš': 4020, 'bidden': 4021, 'belongs': 4022, 'whiskers': 4023, 'vague': 4024, 'photographic': 4025, 'swirling': 4026, 'ling': 4027, 'nest': 4028, 'downwards': 4029, 'spinks': 4030, 'pedlars': 4031, 'loves': 4032, 'please—however': 4033, 'overexcited': 4034, 'berries': 4035, 'willow-wren': 4036, 'treesš': 4037, 'coat': 4038, 'heel': 4039, 'blaze': 4040, 'grim': 4041, 'food': 4042, 'showing': 4043, 'greet': 4044, 'grave': 4045, 'piled': 4046, 'same': 4047, 'paws': 4048, 'labelled': 4049, 'observe': 4050, 'obediently': 4051, 'tumble': 4052, 'amuse': 4053, 'loaf': 4054, 'deny': 4055, 'somebody': 4056, 'presently': 4057, 'caused': 4058, 'pondering': 4059, 'bared': 4060, 'working': 4061, 'splendid': 4062, 'neigh': 4063, 'quarrel': 4064, 'land.': 4065, 'tidings': 4066, 'continuing': 4067, 'kingdom.': 4068, 'show': 4069, 'voice': 4070, 'wreath': 4071, 'track': 4072, 'doze': 4073, 'asses': 4074, 'market': 4075, 'ii': 4076, 'grab': 4077, 'calf': 4078, 'scary': 4079, 'household': 4080, 'monday': 4081, 'disappeared': 4082, 'enormous': 4083, 'discovered': 4084, 'attempts': 4085, 'couple': 4086, 'tresses': 4087, 'rabbit': 4088, 'wine': 4089, 'laces': 4090, 'photographs': 4091, '10': 4092, 'superior': 4093, 'noise': 4094, 'sharpclawed': 4095, 'mister': 4096, 'roar': 4097, 'nightingales': 4098, 'rooms': 4099, 'bloody': 4100, 'tear': 4101, 'snow': 4102, 'startled': 4103, 'no': 4104, 'speaking': 4105, 'particularly': 4106, 'river': 4107, 'lory': 4108, 'floorboards': 4109, 'secret': 4110, 'relentless': 4111, 'welling': 4112, 'wedding.': 4113, 'trough': 4114, 'crack': 4115, 'nurse': 4116, 'splendidly': 4117, 'needle': 4118, 'taptap': 4119, 'utterly': 4120, 'er': 4121, 'hind': 4122, 'boil': 4123, 'faithfulness': 4124, 'proper': 4125, 'skulls': 4126, 'rats': 4127, 'forth': 4128, 'curl': 4129, 'boy': 4130, 'cups': 4131, 'approach.': 4132, 'doll': 4133, 'wisp': 4134, 'fairy-tales': 4135, 'waddling': 4136, 'stars': 4137, 'time—you': 4138, 'blowing': 4139, 'instead': 4140, 'sadly': 4141, 'adrift': 4142, 'affairs': 4143, 'staggered': 4144, 'wise': 4145, 'rascally': 4146, 'cross-legged': 4147, 'wakened': 4148, 'skip': 4149, 'putting': 4150, 'proud': 4151, 'threes': 4152, 'engraved': 4153, 'seated': 4154, 'handsomely': 4155, 'wife.': 4156, 'miss': 4157, 'pullover': 4158, 'circular': 4159, 'gully': 4160, 'weather.': 4161, 'problems': 4162, 'hoarsely': 4163, 'modern': 4164, 'shells': 4165, 'punish': 4166, 'ceasing': 4167, 'suitable': 4168, 'embarrassment': 4169, 'wave': 4170, 'thumb': 4171, 'whistle': 4172, 'colour': 4173, 's': 4174, 'daughters': 4175, 'expedition': 4176, 'slut': 4177, 'innocence': 4178, 'su': 4179, 'lawn': 4180, 'tunbridge': 4181, 'in': 4182, 'plump': 4183, 'yourself.': 4184, 'crackled': 4185, 'relief': 4186, 'ornamented': 4187, 'trouble': 4188, 'curiouser': 4189, 'darkred': 4190, 'firmly': 4191, 'tillie': 4192, 'prisoners': 4193, 'stems': 4194, 'warming': 4195, 'helping': 4196, 'revealed': 4197, 'troop': 4198, 'thither.': 4199, 'begins': 4200, 'bursting': 4201, 'dobbin': 4202, 'motionless': 4203, 'hunt': 4204, 'jewels': 4205, 'purples': 4206, 'severity': 4207, 'spring': 4208, 'hold': 4209, 'nobles': 4210, 'label': 4211, 'riches': 4212, 'blurring': 4213, 'besought': 4214, 'casket—open': 4215, 'cheesysmelling': 4216, 'it—but': 4217, 'c': 4218, 'uncarpeted': 4219, 'abundance.': 4220, 'credentials': 4221, 'rapid': 4222, 'allow': 4223, 'marry': 4224, 'protective': 4225, 'everywhere': 4226, 'brilliant': 4227, 'nor': 4228, 'eyes': 4229, 'gardening': 4230, 'gain': 4231, 'album': 4232, 'laying': 4233, 'sputter': 4234, 'cardboard': 4235, 'undertake': 4236, 'humming': 4237, 'doing': 4238, 'scratching': 4239, 'candles': 4240, 'toadstools': 4241, 'em': 4242, 'dove': 4243, 'ilsabill': 4244, 'display': 4245, 'lime-tree': 4246, 'tossed': 4247, 'blazing': 4248, 'lon': 4249, 'sulkily': 4250, 'apple': 4251, 'smell': 4252, 'trees': 4253, 'dwelt': 4254, 'persons': 4255, 'daily': 4256, 'ghosthands': 4257, 'spend': 4258, 'ill—so': 4259, 'valour': 4260, 'long.': 4261, 'happened': 4262, 'hungrier': 4263, 'puzzled': 4264, 'clean': 4265, 'bestir': 4266, 'freed': 4267, 'cabin': 4268, 'if': 4269, 'doublet': 4270, 'crept': 4271, 'fingers.': 4272, 'oho': 4273, 'nightmares': 4274, 'companion': 4275, 'fastštoo': 4276, 'tales': 4277, 'hunting': 4278, 'calmly': 4279, 'activity': 4280, 'chicken': 4281, 'ever.': 4282, 'lizard': 4283, 'stool': 4284, 'luckily': 4285, 'lift': 4286, 'askance': 4287, 'washed': 4288, 'ld': 4289, 'bone': 4290, 'clerks': 4291, 'meadow': 4292, 'bargain': 4293, 'safe': 4294, 'till': 4295, 'morsel': 4296, 'saved': 4297, 'whispers': 4298, 'rotting': 4299, 'scribble': 4300, 'followers': 4301, 'mayor': 4302, 'cared': 4303, 'low': 4304, 'eat': 4305, 'slanted': 4306, 'spirits': 4307, 'kate': 4308, 'felled': 4309, 'muttered': 4310, 'spirited': 4311, 'imagined': 4312, 'furrows': 4313, 'violence': 4314, 'warmth': 4315, 'missing.': 4316, 'befriended': 4317, 'profit': 4318, 'scratch': 4319, 'waggled': 4320, 'lovey': 4321, 'house-door': 4322, 'mug': 4323, 'horses': 4324, 'uphill': 4325, 'knocked': 4326, 'brickwork': 4327, 'sadness': 4328, 'yet.': 4329, 'sweetheart': 4330, 'dinners': 4331, 'elsewhere': 4332, 'bund': 4333, 'hit.': 4334, 'ecstatically': 4335, 'replied': 4336, 'growing': 4337, 'doubling': 4338, 'courage': 4339, 'laws': 4340, 'muddle': 4341, 'trap': 4342, 'worried': 4343, 'catching': 4344, 'honest': 4345, 'together—judge': 4346, 'flown': 4347, 'wisest': 4348, 'elsie': 4349, 'foodšshe': 4350, 'boar': 4351, 'knelt': 4352, 'themselves.': 4353, 'mumbled': 4354, 'decorated': 4355, 'collar': 4356, 'rapping': 4357, 'wiggled': 4358, 'lock': 4359, 'torment': 4360, 'r': 4361, 'bottom': 4362, 'miser': 4363, 'smiled': 4364, 'suitcases': 4365, 'upper': 4366, 'stretched': 4367, 'handwriting': 4368, 'disappointment': 4369, 'fools': 4370, 'frontispiece': 4371, 'draught': 4372, 'stew': 4373, 'appetite': 4374, 'rub': 4375, 'half-shut': 4376, 'water': 4377, 'live.': 4378, 'neighbours': 4379, 'pun': 4380, '—some': 4381, 'spectacles': 4382, 'misty': 4383, 'doorpost': 4384, 'adventure': 4385, 'bin': 4386, 'drag': 4387, 'shelves': 4388, 'pushed': 4389, 'ferry': 4390, 'dilapidated': 4391, 'spared': 4392, 'wild': 4393, 'pink': 4394, 'surprise': 4395, 'crowed': 4396, 'wiggly': 4397, 'goat': 4398, 'mabel': 4399, 'clasped': 4400, 'shooting': 4401, 'white.': 4402, 'girdle': 4403, 'customer': 4404, 'turns': 4405, 'midges': 4406, 'filthy': 4407, 'charge': 4408, 'wolf.': 4409, 'above': 4410, 'croqueting': 4411, 'thriving': 4412, 'wealth.': 4413, 'deserted': 4414, 'stole': 4415, 'cars': 4416, 'bowl': 4417, 'taller': 4418, 'staircase': 4419, 'hook': 4420, 'stumps': 4421, 'demand': 4422, 'briar': 4423, 'cautiously': 4424, 'be.': 4425, 'sheetšan': 4426, 'vowed': 4427, 'slice': 4428, 'morning.': 4429, 'rob': 4430, 'evening': 4431, 'denying': 4432, 'goes': 4433, 'hatter': 4434, 'unpleasant': 4435, 'learnt': 4436, 'huntsmen': 4437, 'pane': 4438, 'contrast': 4439, 'reflected': 4440, 'remembrance': 4441, 'thigh': 4442, 'repent': 4443, 'forefinger': 4444, 'buckets': 4445, 'happening': 4446, 'sewed': 4447, 'hopped': 4448, 'abruptly': 4449, 'compartment': 4450, 'resource': 4451, 'unbidden': 4452, 'forester': 4453, 'bent': 4454, 'clicked': 4455, 'eagle': 4456, 'frowned': 4457, 'brushed': 4458, 'answers': 4459, 'half-done': 4460, 'whispered': 4461, 'swallowing': 4462, 'slate-pencil': 4463, 'world.': 4464, 'vegetable': 4465, 'strong': 4466, 'disobey': 4467, 'horseback': 4468, 'ye': 4469, '—so': 4470, 'suppress': 4471, 'come': 4472, 'handed': 4473, 'booty': 4474, 'changes': 4475, 'seeing': 4476, 'solid': 4477, 'friend': 4478, 'riding': 4479, 'gloves': 4480, 'ties': 4481, 'astonishing': 4482, 'earls': 4483, 'window-bars': 4484, 'whiles': 4485, 'players': 4486, 'kings': 4487, 'considerably': 4488, 'thanked': 4489, 'shakes': 4490, 'mat': 4491, 'tossing': 4492, 'fanning': 4493, 'windowledge': 4494, 'pleaded': 4495, 'fourthly': 4496, 'lowered': 4497, 'wicked': 4498, 'been.': 4499, 'carelessness': 4500, 'eels': 4501, 'fishes': 4502, 'trap-door': 4503, '35': 4504, 'line': 4505, 'more.': 4506, 'reigned': 4507, 'officer': 4508, 'grooming': 4509, 'manages': 4510, 'banged': 4511, 'flicked': 4512, 'thirteenth': 4513, 'fishing': 4514, 'charity': 4515, 'shall': 4516, 'magnificent': 4517, 'directly': 4518, 'wants': 4519, 'marked': 4520, 'skins': 4521, 'cursed': 4522, 'threepence': 4523, 'sentence': 4524, 'sleeve.': 4525, 'cool': 4526, 'bedroomšher': 4527, 'virtues': 4528, 'there': 4529, 'alone': 4530, 'been': 4531, 'some.': 4532, 'quarters': 4533, 'level': 4534, 'joy': 4535, 'intently': 4536, 'failure': 4537, 'soles': 4538, 'perhaps': 4539, 'electric': 4540, 'now—like': 4541, 'willingly': 4542, 'grill': 4543, 'crows': 4544, 'proceeds': 4545, 'turkey': 4546, 'daydreaming': 4547, 'had': 4548, 'dangling': 4549, 'strike': 4550, 'wheres': 4551, 'minutest': 4552, 'spring.': 4553, 'crime': 4554, '29': 4555, 'pigs': 4556, 'ourselves—we': 4557, 'chilly': 4558, 'barking': 4559, 'crocodile': 4560, 'sorts': 4561, 'struck': 4562, 'tumbled': 4563, 'guards': 4564, 'africa': 4565, 'hat': 4566, 'linger': 4567, 'concealed': 4568, 'rockery': 4569, 'pat': 4570, 'gloomily': 4571, 'sobs': 4572, 'sink': 4573, '—for': 4574, 'clod': 4575, 'better.': 4576, 'judge': 4577, 'dirty-looking': 4578, 'suffocated': 4579, 'passage': 4580, 'bustling': 4581, 'front': 4582, 'ghostchildren': 4583, 'believes': 4584, 'personal': 4585, 'dame': 4586, 'glasgow': 4587, 'adult': 4588, 'strides': 4589, 'fear': 4590, 'coaxing': 4591, 'enter.': 4592, 'baking-day': 4593, 'pounding': 4594, 'policeman': 4595, 'sake': 4596, 'imagining': 4597, 'chest': 4598, 'kind': 4599, 'baking': 4600, 'souls': 4601, 'jerked': 4602, 'cruder': 4603, 'mouths': 4604, 'runs': 4605, 'hangest': 4606, 'arrangements': 4607, 'comical': 4608, 'youre': 4609, 'whiny': 4610, 'nailclacking': 4611, 'mans': 4612, 'decide': 4613, 'hissing': 4614, 'likewise.': 4615, 'skittering': 4616, 'counting': 4617, 'wrote': 4618, 'foretold': 4619, 'drawling': 4620, 'cost': 4621, 'spindle': 4622, 'spurs': 4623, 'wide-spread': 4624, 'triumphantly': 4625, 'apple-tree': 4626, 'tights': 4627, 'watched': 4628, 'alices': 4629, 'chests': 4630, 'become': 4631, 'pieces': 4632, 'her': 4633, 'animals': 4634, 'blew': 4635, 'actually': 4636, 'drink': 4637, 'forks': 4638, 'underpants': 4639, 'clods': 4640, 'kinds': 4641, 'oop': 4642, 'tall': 4643, 'lain': 4644, 'scottie': 4645, 'street': 4646, 'bridegroom': 4647, 'wishing-ring': 4648, 'gone—but': 4649, 'untrue': 4650, 'gashes': 4651, 'sailed': 4652, 'waves': 4653, 'dark': 4654, 'roots': 4655, 'peach': 4656, 'across': 4657, 'pierced': 4658, 'scythe.': 4659, 'yonder': 4660, 'nut': 4661, 'beating': 4662, 'bleed': 4663, 'bridge.': 4664, 'tooth': 4665, 'tilt': 4666, 'illuminated': 4667, 'adjourn': 4668, 'ten': 4669, 'stationed': 4670, 'embroidery': 4671, 'mocking': 4672, 'clay': 4673, 'features': 4674, 'nutshells': 4675, 'flatly': 4676, 'prevented': 4677, 'calendar': 4678, 'health': 4679, 'demanded': 4680, 'bending': 4681, 'third': 4682, 'star-gazer': 4683, 'sprawling': 4684, 'upset': 4685, 'mouse-traps': 4686, 'cheese': 4687, 'grinder': 4688, 'settle': 4689, 'snowing': 4690, 'counter': 4691, 'unimpressed': 4692, 'grand': 4693, 'ripped': 4694, 'scornfully': 4695, 'companions': 4696, 'resound': 4697, 'pleased': 4698, 'war.': 4699, 'cleverly': 4700, 'braids': 4701, 'polluted': 4702, 'each': 4703, 'armies': 4704, 'wandered': 4705, 'glow': 4706, 'lateafternoon': 4707, 'a-hunting': 4708, 'flamingoes': 4709, 'thimble': 4710, 'heading': 4711, 'wail': 4712, 'joyfully': 4713, 'dunce': 4714, 'various': 4715, 'brightest': 4716, 'deeply': 4717, 'hm': 4718, 'coat.': 4719, 'beetle': 4720, 'ne': 4721, 'passed': 4722, 'starve': 4723, 'thrice': 4724, 'torch-light': 4725, 'half-way': 4726, 'blindness': 4727, 'fish-pond': 4728, 'flight': 4729, 'over': 4730, 'serious': 4731, 'fruit': 4732, 'cutting-knife': 4733, 'lives': 4734, 'knickknacks': 4735, 'chief': 4736, 'me': 4737, 'hideous': 4738, 'him': 4739, 'exerted': 4740, 'bristol': 4741, 'happiness': 4742, 'steady': 4743, 'baker': 4744, 'merry': 4745, 'hereupon': 4746, 'kywitt': 4747, 'choosing': 4748, 'meals': 4749, 'unblinking': 4750, 'carcase.': 4751, 'suited': 4752, 'astonished': 4753, 'unjust': 4754, 'searcher': 4755, 'glass': 4756, 'chains': 4757, 'begging': 4758, 'wanting.': 4759, 'many': 4760, 'already': 4761, 'king—the': 4762, 'morcar': 4763, 'evidently': 4764, 'dive': 4765, 'pleasure': 4766, 'more': 4767, 'scampered': 4768, 'spellbound': 4769, 'giant': 4770, 'wood': 4771, 'neighbouring': 4772, 'chandelier': 4773, 'sands': 4774, 'collected': 4775, 'patterns': 4776, 'notice': 4777, 'smallest': 4778, 'took': 4779, 'wax': 4780, '‘': 4781, 'knave': 4782, 'beds': 4783, 'police': 4784, 'thousand': 4785, 'newly-built': 4786, 'sternly': 4787, 'bundle': 4788, 'numbers': 4789, 'march': 4790, 'lace': 4791, 'emerald': 4792, '37': 4793, 'eel': 4794, 'bundles': 4795, 'successfully': 4796, 'opened': 4797, 'possession': 4798, 'loins': 4799, 'clothing': 4800, 'dripdrip': 4801, 'rows': 4802, 'engaged': 4803, 'pigeon-house': 4804, 'overspread': 4805, 'naught': 4806, 'nigh': 4807, 'gossip': 4808, 'bid': 4809, 'fond': 4810, 'transform': 4811, 'picture': 4812, 'grey': 4813, 'nightingale': 4814, 'elves': 4815, 'fishpond': 4816, 'meek': 4817, 'puffed': 4818, 'clicking': 4819, 'swiped': 4820, 'flashed': 4821, 'scurrying': 4822, 'whatsoever': 4823, 'normans': 4824, 'temptation': 4825, 'fulllength': 4826, 'burns': 4827, 'dip': 4828, 'lessen': 4829, 'comforted': 4830, 'commands': 4831, 'hospitality': 4832, 'middle': 4833, 'bleak': 4834, 'planks': 4835, 'bear': 4836, 'bottomless': 4837, 'chunks': 4838, 'never': 4839, 'spink': 4840, 'rods—count': 4841, 'escaped': 4842, 'added': 4843, 'barrel': 4844, 'panted': 4845, 'well-nigh': 4846, 'jumped': 4847, 'counselled': 4848, 'fires': 4849, 'shot.': 4850, 'seashore': 4851, 'ours': 4852, 'full.': 4853, 'hates': 4854, 'ledge': 4855, 'hasten': 4856, 'yowl': 4857, 'waiting-maid': 4858, 'bobbing': 4859, 'end': 4860, 'the': 4861, 'nowbeautiful': 4862, 'blacking': 4863, 'hay': 4864, 'toss': 4865, 'wonderland': 4866, 'guns': 4867, 'her—so': 4868, 'flesh': 4869, 'elephants': 4870, 'wanted': 4871, 'value': 4872, 'thing.': 4873, 'means': 4874, 'fence': 4875, 'ransom': 4876, 'though': 4877, 'knights': 4878, 'winters': 4879, 'humbly': 4880, 'immense': 4881, 'deep': 4882, 'covering': 4883, 'noises': 4884, 'weird': 4885, 'dining-hall': 4886, 'pitiful': 4887, 'nose': 4888, 'snoringšthat': 4889, 'plop': 4890, 'stalking': 4891, 'seats': 4892, 'coralinešrun': 4893, 'jock': 4894, 'happens': 4895, 'pretended': 4896, 'south': 4897, 'practice': 4898, 'shrubs': 4899, 'dummling': 4900, 'health.': 4901, 'honourable': 4902, 'quiet': 4903, 'altered': 4904, 'shot': 4905, 'generalities': 4906, 'cradling': 4907, 'spending': 4908, 'appeased': 4909, 'servant-maid': 4910, 'flies': 4911, 'honey': 4912, 'wag': 4913, 'roamed': 4914, 'magical': 4915, 'native': 4916, 'vexation': 4917, 'am': 4918, 'huddled': 4919, 'mirror': 4920, 'step': 4921, 'ravens': 4922, 'paris': 4923, 'crossing': 4924, 'life.': 4925, 'prickled': 4926, 'do.': 4927, 'brighten': 4928, 'singers': 4929, 'crutches': 4930, 'bottle': 4931, 'falls': 4932, 'larger': 4933, 'during': 4934, 'water.': 4935, 'imagine': 4936, 'half-past': 4937, 'chased': 4938, 'fortunes': 4939, 'blown': 4940, 'bolt': 4941, 'shilling': 4942, 'wiped': 4943, 'malice': 4944, 'treasures': 4945, 'vermin': 4946, 'except': 4947, 'hidden.': 4948, 'cked': 4949, 'keen': 4950, 'songs': 4951, 'wrong': 4952, 'attendants': 4953, 'sleep': 4954, 'cattle': 4955, 'experiment': 4956, '41': 4957, 'now—odd': 4958, 'screen': 4959, 'fleecy': 4960, 'quarter': 4961, 'thence': 4962, 'shapeless': 4963, 'fidgeted': 4964, 'beam': 4965, 'moths': 4966, 'cock-crow': 4967, 'withered': 4968, 'frighten': 4969, 'price': 4970, 'threaten': 4971, 'once.': 4972, 'ashore': 4973, 'cat-skin': 4974, 'bled': 4975, 'moment': 4976, 'snug': 4977, 'miau': 4978, 'hu': 4979, 'groped': 4980, 'photograph': 4981, 'disheartened': 4982, 'indoors': 4983, 'watching': 4984, 'brain': 4985, 'hornets': 4986, 'look-out': 4987, 'wo': 4988, 'get.': 4989, 'grisly-beard': 4990, 'birthday': 4991, 'attic': 4992, 'piggyinthemiddle': 4993, 'onehanded': 4994, 'hazel': 4995, 'term': 4996, 'makes': 4997, 'coldly': 4998, 'froze': 4999, 'chance': 5000, 'spotted': 5001, 'quacking': 5002, 'broad': 5003, 'belong': 5004, 'luck.': 5005, 'pointing': 5006, 'nag': 5007, 'chrysalis': 5008, 'doubtful': 5009, 'mention': 5010, 'ailed': 5011, 'hearing': 5012, 'alighted': 5013, 'tap': 5014, 'scoundrel': 5015, 'well-a-day': 5016, 'clock-case.': 5017, 'mamma': 5018, 'milky': 5019, 'chop': 5020, 'l': 5021, 'explain': 5022, 'passageway': 5023, 'whereupon': 5024, 'horse-pond': 5025, 'haughtily': 5026, 'answer': 5027, 'afterwards': 5028, 'dispatched': 5029, 'ells': 5030, 'crowd': 5031, 'clutching': 5032, 'disturbing': 5033, 'assigned': 5034, 'compassion': 5035, 'friendship': 5036, 'crowns': 5037, 'underwood': 5038, 'sleepy': 5039, 'cooked': 5040, 'verse': 5041, 'clouds': 5042, 'writing-desk': 5043, 'sad': 5044, 'divide': 5045, 'blazed': 5046, 'guinea-pig': 5047, 'bravo': 5048, 'striding': 5049, 'liberty': 5050, 'bind': 5051, 'wondrous': 5052, 'appeared': 5053, 'square': 5054, 'wednesday': 5055, 'kingdoms': 5056, 'tied': 5057, 'ann': 5058, 'knock': 5059, 'troops': 5060, 'looking': 5061, 'pardon': 5062, 'astonishment': 5063, 'surface': 5064, 'bucketful': 5065, 'fluttered': 5066, 'single': 5067, 'grub': 5068, 'sweat': 5069, 'crossly': 5070, 'feast.': 5071, 'tip': 5072, 'envied': 5073, 'consider': 5074, 'occupied': 5075, 'busy': 5076, 'scottish': 5077, 'cartwheels': 5078, 'hasty': 5079, 'wallface.': 5080, 'darker': 5081, 'waist': 5082, 'flow': 5083, 'airs': 5084, 'pay': 5085, 'burnedout': 5086, 'afore': 5087, 'managing': 5088, 'cushion': 5089, 'fourteen': 5090, 'young': 5091, 'longer': 5092, 'feather': 5093, 'go': 5094, 'mistake': 5095, 'custody': 5096, 'faces': 5097, 'ear.': 5098, 'winged': 5099, 'appearance': 5100, 'class': 5101, 'courtiers': 5102, 'shade': 5103, 'delay': 5104, 'after-time': 5105, 'go—come': 5106, 'stove.': 5107, 'randomly': 5108, 'carpets': 5109, 'paint': 5110, 'couch': 5111, 'birds': 5112, 'infected': 5113, 'friends': 5114, 'bye': 5115, 'timidly': 5116, 'spy': 5117, 'permitted': 5118, 'leaving': 5119, 'property.': 5120, 'danger': 5121, 'tougher': 5122, 'buried': 5123, 'tenderly': 5124, 'drank': 5125, 'accordingly': 5126, 'oclock': 5127, 'hoop': 5128, 'continue': 5129, 'thicket': 5130, 'constantly': 5131, 'curving': 5132, 'win': 5133, 'ridges': 5134, 'venomous': 5135, 'comfits': 5136, 'twitchy': 5137, 'blinded': 5138, 'rose-trees': 5139, 'path': 5140, 'tickled': 5141, 'read': 5142, 'strongly': 5143, 'creatures': 5144, 'apprentices': 5145, 'sprawl': 5146, 'perish': 5147, 'apples': 5148, 'anger': 5149, 'haste.': 5150, 'forepaws': 5151, 'examining': 5152, 'crackle': 5153, 'fir-apples': 5154, 'instance': 5155, 'you.': 5156, 'fogged': 5157, 'strawcoloured': 5158, '22': 5159, 'sort.': 5160, 'insolence': 5161, 'concluded': 5162, 'videos': 5163, 'partly': 5164, 'stabbed': 5165, 'wet': 5166, 'howl': 5167, 'hazel-tree': 5168, 'wrongs': 5169, 'remarks': 5170, 'footsteps': 5171, 'missing': 5172, 'pasture': 5173, 'prying': 5174, 'sanna': 5175, 'blasts': 5176, 'shingle': 5177, 'ascended': 5178, 'score': 5179, 'explained': 5180, 'seed': 5181, 'wont': 5182, 'clatter': 5183, 'lazy': 5184, 'straightening': 5185, 'embarrassed': 5186, 'gangest': 5187, 'torches': 5188, 'gold': 5189, 'robbing': 5190, 'noon': 5191, 'maybe': 5192, 'shout': 5193, 'arcati': 5194, 'loomed': 5195, 'stall': 5196, 'floor': 5197, 'yup': 5198, 'handbag': 5199, 'jug': 5200, 'shirt-sleeves': 5201, 'slowly': 5202, 'await': 5203, 'hans': 5204, 'trinkets': 5205, 'usurpation': 5206, 'slithered': 5207, 'marsh': 5208, 'book': 5209, 'licked': 5210, 'remainder': 5211, 'emptied': 5212, 'tastes': 5213, 'curled': 5214, 'bond': 5215, 'key': 5216, 'romanian': 5217, 'bacon': 5218, 'octopusesš': 5219, 'ill-behaved': 5220, 'land': 5221, 'sword': 5222, 'plum': 5223, 'goldfish': 5224, 'partners': 5225, 'produce': 5226, 'stared': 5227, 'inherited': 5228, 'stir': 5229, 'miriam': 5230, 'dishes': 5231, 'beautifully': 5232, 'dozing': 5233, 'peered': 5234, 'wider': 5235, 'nickname': 5236, 'ghost': 5237, '34': 5238, 'battle': 5239, 'railing': 5240, 'streak': 5241, 'whirring': 5242, 'pry': 5243, 'lass': 5244, 'pace': 5245, 'to': 5246, 'lure': 5247, '—what': 5248, 'yourselves.': 5249, 'sword.': 5250, 'nibbled': 5251, 'disreputable': 5252, 'puddings': 5253, 'ocean': 5254, 'also—that': 5255, 'landmark.': 5256, 'gale': 5257, 'lived': 5258, 'blood': 5259, 'aim': 5260, 'mixed': 5261, 'following': 5262, 'dust': 5263, 'ovenful': 5264, 'workmanship': 5265, 'undecided': 5266, 'service': 5267, 'does': 5268, 'prosecute': 5269, 'like.': 5270, 'ill-treatment': 5271, 'nut-trees': 5272, 'curtsied': 5273, 'favourite': 5274, 'singer': 5275, 'successive': 5276, 'china': 5277, 'selected': 5278, 'esq': 5279, 'dwarf': 5280, 'meddling': 5281, 'lines': 5282, 'carelessly': 5283, 'cart-horse': 5284, 'number': 5285, 'flaking': 5286, 'kids': 5287, 'bony': 5288, 'why.': 5289, 'torturing': 5290, 'richly': 5291, 'washing-day': 5292, 'feigning': 5293, 'beheading': 5294, 'toyboxes': 5295, 'size.': 5296, 'surrounded': 5297, 'curling': 5298, 'mirrors': 5299, 'mustard-mine': 5300, 'masters.': 5301, 'journeys': 5302, 'straitened': 5303, 'hounds': 5304, 'interrupt': 5305, 'childless': 5306, 'idle': 5307, 'cord': 5308, 'cheerful': 5309, 'brave': 5310, 'animal': 5311, 'overrun': 5312, 'squinting': 5313, 'everything': 5314, 'rack': 5315, 'council': 5316, 'hither': 5317, 'training': 5318, 'regarded': 5319, 'good': 5320, 'unhooking': 5321, 'passing': 5322, 'pigsty': 5323, 'harm': 5324, '43': 5325, 'peasant': 5326, 'weariness': 5327, 'solidly': 5328, 'closet': 5329, 'meaning': 5330, 'bonechina': 5331, 'kicked': 5332, 'hookah': 5333, 'removed': 5334, 'pocketsful': 5335, 'sighing': 5336, 'lazily': 5337, 'click': 5338, 'moments': 5339, 'gate': 5340, 'fitted': 5341, 'she': 5342, 'programmes': 5343, 'flying': 5344, 'midst': 5345, 'tells': 5346, 'brothers': 5347, 'excitedly': 5348, 'resist': 5349, 'writing-desks': 5350, 'carter': 5351, 'charcoal': 5352, 'terriers': 5353, 'derelict': 5354, 'backward': 5355, 'hurt': 5356, 'navyblue': 5357, 'spinning-wheels.': 5358, 'ugly-looking': 5359, 'nut.': 5360, 'chattering': 5361, 'moment.': 5362, 'arm-chair': 5363, 'cowardly': 5364, 'marks': 5365, 'intention': 5366, 'tulips': 5367, 'comes.': 5368, 'openedšfour': 5369, 'skidded': 5370, 'willows': 5371, 'thin': 5372, 'sweetly': 5373, 'attention': 5374, 'aware': 5375, 'twins': 5376, 'vagabonds': 5377, 'shivered': 5378, 'poultry': 5379, 'tummy': 5380, 'looks': 5381, 'kicks': 5382, 'mournful': 5383, 'axe': 5384, 'hearty': 5385, 'betrayed': 5386, 'ham': 5387, 'tremble': 5388, 'altar': 5389, 'west': 5390, 'exchanged': 5391, 'coils': 5392, 'fifth': 5393, 'contradicted': 5394, 'command': 5395, 'hauled': 5396, 'clock-case': 5397, 'wear': 5398, 'sworn': 5399, 'anywayš': 5400, 'caucus-race': 5401, 'bruce': 5402, 'tails': 5403, 'arm': 5404, 'might': 5405, 'happen': 5406, 'unhappily': 5407, 'soothing': 5408, 'earth': 5409, 'recipe': 5410, 'pencils': 5411, 'tomorrow.': 5412, 'two.': 5413, 'smoking': 5414, 'slug': 5415, 'for.': 5416, 'greeting': 5417, 'rope': 5418, 'floated': 5419, 'fortress': 5420, 'arranging': 5421, 'wiser': 5422, 'armchair': 5423, 'writhed': 5424, 'knowall': 5425, 'familiar': 5426, 'near': 5427, 'confidential': 5428, 'tan-heap': 5429, 'gone': 5430, 'possible': 5431, 'firewood': 5432, 'sharply': 5433, 'chamberlains': 5434, 'gentle': 5435, 'nut-tree': 5436, 'door.': 5437, 'geršas': 5438, 'ed': 5439, 'paltry': 5440, 'treated': 5441, 'within.': 5442, 'went': 5443, 'beneath': 5444, 'ghastly': 5445, 'net': 5446, 'wou': 5447, 'oddly': 5448, 'twist': 5449, 'piteous': 5450, 'braver': 5451, 'soothe': 5452, 'night': 5453, 'croaking': 5454, 'pleases': 5455, 'feed': 5456, 'tortoise': 5457, 'dance': 5458, 'grass': 5459, 'peeling': 5460, 'argue': 5461, 'prizes': 5462, 'jury-men': 5463, 'snip': 5464, 'poky': 5465, 'limp': 5466, 'woken': 5467, 'dog.': 5468, 'enable': 5469, 'folding': 5470, 'applauded': 5471, 'crimsonnailed': 5472, 'distort': 5473, 'bawl': 5474, 'successor': 5475, 'extended': 5476, 'marriage-feast': 5477, 'way.': 5478, 'waited': 5479, 'pipe': 5480, 'facešwhich': 5481, 'getting': 5482, 'bargains': 5483, 'groaned': 5484, 'blonde': 5485, 'supported': 5486, 'wind': 5487, 'sweet-tempered': 5488, 'nefarious': 5489, 'cinder': 5490, 'unseen': 5491, 'insect': 5492, 'behold': 5493, 'law': 5494, 'fluttering': 5495, 'mystery': 5496, 'hoes': 5497, 'rectangular': 5498, 'amicably': 5499, 'robins': 5500, 'overtake': 5501, 'desert': 5502, 'precipice': 5503, 'yawned': 5504, 'indistinct': 5505, 'hie': 5506, 'smack': 5507, 'paces': 5508, 'heath': 5509, 'gramophone': 5510, 'liquid': 5511, 'enchanted': 5512, 'saves': 5513, 'enemies.': 5514, 'cherry': 5515, 'cloud': 5516, 'right': 5517, 'rectangles': 5518, 'smite': 5519, 'florins': 5520, 'horizon': 5521, 'butterfly': 5522, 'hang': 5523, 'quite': 5524, 'late': 5525, 'scorned': 5526, 'conducted': 5527, 'subdued': 5528, 'sinner': 5529, 'idiotic': 5530, 'b': 5531, 'moderate': 5532, 'fated': 5533, 'lad': 5534, 'plumes': 5535, 'hunger.': 5536, 'resolved': 5537, 'pinch': 5538, 'cut': 5539, 'wars': 5540, 'slow': 5541, 'pursuit': 5542, 'dazed': 5543, 'suspicious': 5544, 'failed': 5545, 'droop': 5546, 'bread-knife': 5547, 'distance': 5548, 'then—': 5549, 'spare': 5550, 'himself.': 5551, 'qualities': 5552, 'paren': 5553, 'one.': 5554, 'pencil': 5555, 'clave': 5556, 'pulling': 5557, 'thanks': 5558, 'snorted': 5559, 'sheet': 5560, 'awfully': 5561, 'sides': 5562, 'stuffed': 5563, 'much': 5564, 'doesnt': 5565, 'nostrils': 5566, 'amusing': 5567, 'cur': 5568, 'factory': 5569, 'pin': 5570, 'especially': 5571, 'australia': 5572, 'adding': 5573, 'oldest': 5574, 'strangesmelling': 5575, 'railway': 5576, 'tide': 5577, 'take': 5578, 'false': 5579, 'leapt': 5580, 'atheling': 5581, 'clings': 5582, 'broomstick': 5583, 'pinched': 5584, 'quench': 5585, 'divine': 5586, 'occasion': 5587, 'plagued': 5588, 'shy': 5589, 'barons': 5590, 'gudgeons': 5591, 'melancholy': 5592, 'daughter.': 5593, 'wipe': 5594, 'dowry': 5595, 'vigorously': 5596, 'sake.': 5597, 'learning': 5598, 'couragešalthough': 5599, 'imp': 5600, 'sac': 5601, 'raw': 5602, 'mice': 5603, 'wounds': 5604, 'becoming': 5605, 'thunder': 5606, 'threads': 5607, 'lament': 5608, 'corners': 5609, 'assistance': 5610, 'easy': 5611, 'follow.': 5612, 'into': 5613, 'rue': 5614, 'centuries': 5615, 'jogged': 5616, 'gang': 5617, 'fiend': 5618, 'night.': 5619, 'pinafore': 5620, 'believed': 5621, 'blossoms': 5622, 'climbed': 5623, 'our': 5624, 'distinguished': 5625, 'forcibles': 5626, 'died.': 5627, 'boxed': 5628, 'living': 5629, 'shelf': 5630, 'least': 5631, 'visible': 5632, 'ashtray': 5633, 'squirrel': 5634, 'bowing': 5635, 'earn': 5636, 'primrose': 5637, 'droll-looking': 5638, 'flowering': 5639, 'betook': 5640, 'typed': 5641, 'refuse': 5642, 'atom': 5643, 'assistant': 5644, 'spirit': 5645, 'rose-tree': 5646, 'familys': 5647, 'informed': 5648, 'dadd': 5649, 'months': 5650, 'uncommonly': 5651, 'hedgehogs': 5652, 'marrying': 5653, 'abide': 5654, 'wasnt': 5655, 'stars—up': 5656, 'heavily': 5657, 'rising': 5658, 'story': 5659, 'behind': 5660, 'earthenware': 5661, 'advanced': 5662, 'even': 5663, 'imagination': 5664, 'drifting': 5665, 'interesting': 5666, 'tying': 5667, 'contemptuously': 5668, 'forward': 5669, 'twinkled': 5670, 'raisins': 5671, 'comrade': 5672, 'huntsman': 5673, 'ending': 5674, 'silence': 5675, 'clawlike': 5676, 'dislike': 5677, 'envelope': 5678, 'fills': 5679, 'dawdle': 5680, 'big.': 5681, 'castle.': 5682, 'man.': 5683, 'pig-baby': 5684, 'form': 5685, 'game': 5686, 'pavement': 5687, 'applause': 5688, 'castiron': 5689, 'lingering': 5690, 'lying': 5691, 'fragment': 5692, 'leisurely': 5693, 'marshal': 5694, 'suggested': 5695, 'worn': 5696, 'chestnut': 5697, 'found': 5698, 'shake': 5699, 'contentedly': 5700, 'circled': 5701, 'it': 5702, 'declare': 5703, 'shadowy': 5704, 'sold': 5705, 'already.': 5706, 'copse': 5707, 'beggar': 5708, 'vivid': 5709, 'rake': 5710, 'sunlight': 5711, 'arrogance': 5712, 'ceased': 5713, 'wonders': 5714, 'house': 5715, 'bread-and-butter': 5716, 'mutteršthat': 5717, 'funny': 5718, 'othe': 5719, 'sparkling': 5720, 'again': 5721, 'dresses—of': 5722, 'goldenbrown': 5723, 'traitors': 5724, 'over.': 5725, 'tale': 5726, 'throat': 5727, 'need': 5728, 'which': 5729, 'here—you': 5730, 'telephone': 5731, 'weak': 5732, 'clap': 5733, 'third.': 5734, 'overhung': 5735, 'ripest': 5736, 'knowledge': 5737, 'hurrah': 5738, 'diligently': 5739, 'morsels': 5740, 'teeth': 5741, 'fellows': 5742, 'merciful': 5743, 'hushed': 5744, 'approximate': 5745, 'slammed': 5746, 'return': 5747, 'relish': 5748, 'boiling': 5749, 'approach': 5750, 'hiss': 5751, 'unaware': 5752, 'fainting': 5753, 'you—one': 5754, 'dough.': 5755, 'conquest': 5756, 'prospered': 5757, 'sticks': 5758, 'ears.': 5759, 'travelled': 5760, 'amongst': 5761, 'circle': 5762, 'undressed': 5763, 'cutting': 5764, 'potatoes': 5765, 'guarding': 5766, 'highest': 5767, '18': 5768, 'cupboards': 5769, 'skurried': 5770, 'grown': 5771, 'anxiety': 5772, 'goose-girl': 5773, 'shrivelled': 5774, 'brick': 5775, 'pester': 5776, 'used': 5777, 'exposition': 5778, 'sparrow': 5779, 'prophesy': 5780, 'shaking': 5781, 'sleek': 5782, 'was': 5783, 'staring': 5784, 'hay-loft': 5785, 'feels': 5786, 'gay': 5787, 'coughing.': 5788, 'pot': 5789, 'snoring': 5790, 'backwards': 5791, 'quilt': 5792, 'how': 5793, 'fairer': 5794, 'blocked': 5795, 'brayed': 5796, 'flakes': 5797, 'wealth': 5798, 'begun': 5799, 'worked': 5800, 'will.': 5801, 'formal': 5802, 'bandy-legs': 5803, 'tut': 5804, 'recognising': 5805, 'unbolted': 5806, 'thawed': 5807, 'dozen': 5808, 'sensibly': 5809, 'pots': 5810, 'shadows': 5811, 'agony': 5812, 'pigeon': 5813, 'cakes.': 5814, 'hew': 5815, 'silently': 5816, 'lett': 5817, 'eventual': 5818, 'triumph': 5819, 'beckoned': 5820, 'murderous': 5821, 'sizzling': 5822, 'thine.': 5823, 'explored': 5824, 'splashed': 5825, 'slices': 5826, 'trickling': 5827, 'gore': 5828, 'drummed': 5829, 'maddening': 5830, 'herd': 5831, 'mate': 5832, 'errand': 5833, 'entice': 5834, 'loosened': 5835, 'eventually': 5836, 'dismay': 5837, 'state': 5838, 'oyster': 5839, 'hast': 5840, 'apish': 5841, 'inns': 5842, 'space': 5843, 'rained': 5844, 'playing': 5845, 'ambition': 5846, 'muzzle': 5847, 'places': 5848, 'gardens': 5849, 'woke': 5850, 'gently': 5851, 'alas': 5852, 'bassoons': 5853, 'giants.': 5854, 'minutes': 5855, 'devour': 5856, 'softly': 5857, 'hangs': 5858, 'snore': 5859, 'hastened': 5860, 'balanced': 5861, 'something.': 5862, 'ebony': 5863, 'goodness': 5864, 'screams': 5865, 'mountain': 5866, 'exactly': 5867, 'frederick': 5868, 'dayglo': 5869, 'homesick': 5870, 'oblong': 5871, 'twisting': 5872, 'overtook': 5873, 'thy': 5874, 'shoot': 5875, 'kneaded': 5876, 'male': 5877, 'rested': 5878, 'repeat': 5879, 'myself.': 5880, 'grey-haired': 5881, 'fire-irons': 5882, 'thirtynine': 5883, 'times': 5884, 'illusions': 5885, 'contrive': 5886, 'objects': 5887, 'entertainment': 5888, 'sing': 5889, 'chattered': 5890, 'corn': 5891, 'barked': 5892, 'dearer': 5893, 'brushes': 5894, 'dares': 5895, 'chill': 5896, 'marleen': 5897, 'darkened': 5898, 'ichabod': 5899, 'beautiful': 5900, 'jack-in-the-box': 5901, 'legitimate': 5902, 'precious': 5903, 'shocked': 5904, 'meets': 5905, 'grinding': 5906, 'hobbled': 5907, 'up': 5908, 'pocket': 5909, 'age': 5910, 'interestingness': 5911, 'existence': 5912, 'grisly-beard.': 5913, 'catlike': 5914, 'size': 5915, 'sprung': 5916, 'spilled': 5917, 'spoilt': 5918, 'greens': 5919, 'roguery': 5920, 'handle': 5921, 'disguises': 5922, 'newly-coined': 5923, 'keep': 5924, 'bread.': 5925, 'stockings': 5926, 'death': 5927, 'bored': 5928, 'listening': 5929, '“': 5930, 'wooer': 5931, 'patches': 5932, 'aught': 5933, 'signify': 5934, 'tune': 5935, 'teacups': 5936, 'eats': 5937, 'gown.': 5938, 'standing': 5939, 'leaped': 5940, 'before.': 5941, 'began': 5942, 'staying': 5943, 'grete': 5944, 'ween': 5945, 'all—how': 5946, 'inwards': 5947, 'pain': 5948, 'shedding': 5949, 'finest': 5950, 'choke': 5951, 'stays': 5952, 'scream': 5953, 'later': 5954, 'hairs': 5955, 'ma': 5956, 'finishing': 5957, 'board': 5958, 'tacky': 5959, 'cheating': 5960, 'despite': 5961, 'eldest': 5962, 'faithfully': 5963, 'downward': 5964, 'disguised': 5965, 'baggy': 5966, 'musing': 5967, 'invited': 5968, 'toes': 5969, 'daisy-chain': 5970, 'trouble.': 5971, 'counts': 5972, 'halfdozen': 5973, 'blinding': 5974, 'sauntered': 5975, 'howsoever': 5976, 'carve': 5977, 's.': 5978, 'hans.': 5979, 'terribly': 5980, 'wash': 5981, 'lifeless': 5982, 'halfway': 5983, 'masons': 5984, 'twinkle': 5985, 'antipathies': 5986, 'sunrise': 5987, 'tongue': 5988, 'remark': 5989, 'pointless': 5990, 'lent': 5991, 'pouring': 5992, 'five.': 5993, 'sharing': 5994, 'whetted': 5995, '21': 5996, 'sli': 5997, 'wish': 5998, 'disturbed': 5999, 'mourn': 6000, 'nonsense': 6001, 'husband': 6002, 'sale': 6003, 'shalt': 6004, 'lover': 6005, 'earned': 6006, 'stronger.': 6007, 'messages': 6008, 'doorknob': 6009, 'flattening': 6010, 'future': 6011, 'bricked': 6012, 'bumps': 6013, 'hosts': 6014, 'flapped': 6015, 'rabble': 6016, 'memories': 6017, 'plums': 6018, 'eaglet': 6019, 'lost.': 6020, 'theres': 6021, 'arch': 6022, 'mouse-hunter': 6023, 'yard': 6024, 'tone': 6025, 'snares': 6026, 'unable': 6027, 'thundering': 6028, 'heaven-born': 6029, 'odd': 6030, 'buzz': 6031, 'sewn': 6032, 'elder': 6033, 'chat': 6034, 'child.': 6035, 'sleepgrit': 6036, 'tailors': 6037, 'pocket-handkerchief': 6038, 'windowframe': 6039, 'speed': 6040, 'pillow.': 6041, 'gruffly': 6042, 'task': 6043, 'imprisoned': 6044, 'good-for-nothing': 6045, 'open': 6046, 'freeze': 6047, 'warning': 6048, 'worse': 6049, 'crude': 6050, 'arise': 6051, 'heavyšalmost': 6052, 'flapper': 6053, 'beauteous': 6054, 'round': 6055, '28': 6056, 'pet': 6057, 'cheeks': 6058, 'laughed': 6059, 'mighty': 6060, 'settling': 6061, 'carried': 6062, 'ounces': 6063, 'signs': 6064, 'heels': 6065, 'wags': 6066, 'rang': 6067, 'empty': 6068, 'kissed': 6069, 'pattern': 6070, 'accusation': 6071, 'limbs': 6072, 'dodged': 6073, 'shell': 6074, 'brushwood': 6075, 'wall.': 6076, 'bleated': 6077, 'thank': 6078, 'cured': 6079, 'rather': 6080, 'core': 6081, 'jam': 6082, 'adopt': 6083, 'welcomed': 6084, 'sweep': 6085, 'livedin': 6086, 'fresh': 6087, 'witchy': 6088, 'lightning': 6089, 'avoid': 6090, 'provisions': 6091, 'papa': 6092, 'honeysuckle': 6093, 'troubles': 6094, 'road': 6095, 'socks': 6096, 'rat': 6097, 'resemblance': 6098, 'wetlooking': 6099, '26': 6100, 'you—bear': 6101, 'fina': 6102, 'happy': 6103, 'sticking': 6104, 'charging': 6105, 'video': 6106, 'condition': 6107, 'fig': 6108, 'sealed': 6109, 'trusts': 6110, 'anxious': 6111, 'seizing': 6112, 'joint': 6113, 'maps': 6114, 'pretending': 6115, 'matter': 6116, 'prayed': 6117, 'flower': 6118, 'cardigans': 6119, 'tulip-roots': 6120, 'disposable': 6121, 'twelve': 6122, 'contempt': 6123, 'evil': 6124, 'thoušart': 6125, 'writing': 6126, 'rotten': 6127, 'crown': 6128, 'caressed': 6129, 'lie': 6130, 'digging': 6131, 'selfcentred': 6132, 'espied': 6133, 'guinea-pigs': 6134, 'tubas': 6135, 'figures': 6136, 'farmer': 6137, 'tolerated': 6138, 'healing': 6139, 'renewed': 6140, 'horse.': 6141, 'sum': 6142, 'slanting': 6143, 'landed': 6144, 'wicket': 6145, 'exact': 6146, 'forgets': 6147, 'crunched': 6148, 'remembering': 6149, 'deceived': 6150, 'wedge': 6151, 'horse': 6152, 'lesson-books': 6153, 'milk-faced': 6154, 'feelings': 6155, 'bearer': 6156, 'ooze': 6157, 'coin': 6158, 'violent': 6159, 'describing': 6160, 'stewing': 6161, 'challenge': 6162, 'queer-shaped': 6163, 'search': 6164, 'gash': 6165, 'carved': 6166, 'fold': 6167, 'focus': 6168, 'glinting': 6169, 'mishap': 6170, 'test': 6171, 'told': 6172, 'stripped': 6173, 'cuffings': 6174, 'extra': 6175, 'liking': 6176, 'parts': 6177, 'meekly': 6178, 'unfit': 6179, 'remember': 6180, 'pig': 6181, 'fit': 6182, 'depend': 6183, 'righthand': 6184, 'sole': 6185, 'taste': 6186, 'truth': 6187, 'uttered': 6188, 'waved': 6189, 'shortsightedly': 6190, 'pursued': 6191, 'encouraging': 6192, 'scanned': 6193, 'fur-skin': 6194, 'werent': 6195, 'point': 6196, 'lowing': 6197, 'soldier': 6198, 'garret': 6199, 'choked': 6200, 'agree': 6201, 'perceiving': 6202, 'whom': 6203, 'fishing-line': 6204, 'plasticine': 6205, 'rustled': 6206, 'alarmed': 6207, 'foretell': 6208, 'locks': 6209, 'expensive': 6210, 'handkerchief': 6211, 'appearing': 6212, 'permits': 6213, 'lovely': 6214, 'splashing': 6215, 'cuts': 6216, 'plucking': 6217, 'sea.': 6218, 'thingsš': 6219, 'beech': 6220, 'flurry': 6221, 'beyond': 6222, 'project': 6223, 'eye': 6224, 'tasting': 6225, 'wretch': 6226, 'picnics': 6227, 'stay': 6228, 'frog-prince': 6229, 'pains.': 6230, 'often': 6231, 'wick': 6232, 'bet': 6233, 'awkwardly': 6234, 'twas': 6235, 'stiffening': 6236, 'collapsed': 6237, 'leisure.': 6238, 'quails': 6239, 'anyway': 6240, 'compliant': 6241, 'trembling': 6242, 'thief': 6243, 'rapped': 6244, 'clearly': 6245, 'waving': 6246, 'seam': 6247, 'growler': 6248, 'heart.': 6249, 'ahead': 6250, 'shoe': 6251, 'flee': 6252, 'seven': 6253, 'ripe.': 6254, 'farther.': 6255, 'forgot': 6256, 'hit': 6257, 'balls': 6258, 'trample': 6259, 'normally': 6260, 'downy': 6261, 'lesson-book': 6262, 'licking': 6263, 'it—will': 6264, 'accident': 6265, 'whispery': 6266, 'driveway': 6267, 'ca': 6268, 'crowded': 6269, 'braying': 6270, 'oh': 6271, 'needing': 6272, 'pretty': 6273, 'ring.': 6274, 'plastic': 6275, 'cottage-door': 6276, 'flat': 6277, 'scissor-grinder': 6278, 'former': 6279, 'suffered': 6280, 'emperor.': 6281, 'caterpillar': 6282, 'breaking': 6283, 'buttered': 6284, 'invite': 6285, 'roofs': 6286, 'saying': 6287, 'prison': 6288, 'newspapers': 6289, 'cucumber-frame': 6290, 'mop': 6291, 'snapped': 6292, 'top': 6293, 'crumbs': 6294, 'marched': 6295, 'lucky': 6296, 'pressed': 6297, 'helpless': 6298, 'horror': 6299, 'oddest': 6300, 'skipped': 6301, 'deck': 6302, 'arithmetic': 6303, 'cleft': 6304, 'fivefooted': 6305, 'wallpaper': 6306, 'nuts': 6307, 'observing': 6308, 'television': 6309, 'goose': 6310, 'gulp': 6311, 'coats': 6312, 'peace.': 6313, 'reared': 6314, 'lions': 6315, 'lair.': 6316, 'really': 6317, 'grinned': 6318, 'beard-cleaner': 6319, 'tiptoeing': 6320, 'caught': 6321, 'therefore': 6322, 'footmen': 6323, 'us.': 6324, 'commotion': 6325, 'comer': 6326, 'curtseyed': 6327, 'forehead': 6328, 'building': 6329, 'candyfloss': 6330, 'modestly': 6331, 'lately': 6332, 'goodnight': 6333, 'croak.': 6334, 'upwards': 6335, 'besides': 6336, 'bred': 6337, 'particulars': 6338, 'canary': 6339, 'undoing': 6340, 'killing': 6341, 'willow': 6342, 'pegs': 6343, 'jams': 6344, 'executes': 6345, 'ah': 6346, 'violently': 6347, 'whither': 6348, 'trips': 6349, 'fruitcake': 6350, 'beans': 6351, 'aloud': 6352, 'salad': 6353, 'mussel': 6354, 'fraction': 6355, 'sandwiches': 6356, 'clever': 6357, 'sickness': 6358, 'water-well': 6359, 'bottles': 6360, 'exchange': 6361, 'sorry': 6362, 'conqueror': 6363, 'remarkable': 6364, 'than': 6365, 'clinging': 6366, 'ragamuffin': 6367, 'shovelled': 6368, 'clawed': 6369, 'lets': 6370, 'dutiful': 6371, 'gretel.': 6372, 'trial': 6373, 'suddenly': 6374, 'cursing': 6375, 'smelt': 6376, 'kindly': 6377, 'exploring': 6378, 'walled': 6379, 'blackbeetle': 6380, 'perished': 6381, 'idiot': 6382, 'ago.': 6383, 'interrupted': 6384, 'paths': 6385, 'wished': 6386, 'masterpiece': 6387, 'fizzled': 6388, 'yet': 6389, 'digital': 6390, 'robbery': 6391, 'whipped': 6392, 'indignant': 6393, 'sharper': 6394, 'unpack': 6395, 'apple-dumplings': 6396, 'dragon': 6397, 'box': 6398, 'gateway': 6399, 'curtsey': 6400, 'cock-a-doodle-doo': 6401, 'dangerously': 6402, 'verily': 6403, 'frame': 6404, 'that': 6405, 'high': 6406, '4': 6407, 'lastly': 6408, 'sense': 6409, 'sprint': 6410, 'deepest': 6411, 'bend': 6412, 'burden': 6413, 'stop': 6414, 'blackened': 6415, 'pocket.': 6416, 'clump': 6417, 'flowers.': 6418, 'merchant': 6419, 'twiglike': 6420, 'formless': 6421, 'hardest': 6422, 'scratched': 6423, 'lady': 6424, 'receives': 6425, 'crosses': 6426, 'doorknobs': 6427, 'flour': 6428, 'list': 6429, 'then': 6430, 'distract': 6431, 'dolls': 6432, 'fancied': 6433, 'situation': 6434, 'theatre': 6435, 'ticktickticking': 6436, 'locked': 6437, 'once': 6438, 'sleepers': 6439, 'findingthings': 6440, 'home.': 6441, 'resistance': 6442, 'strikes': 6443, 'cudgelled': 6444, 'count': 6445, 'ignorant': 6446, 'husks': 6447, 'schools': 6448, 'hall': 6449, 'night-wind': 6450, 'arent': 6451, 'likely': 6452, 'd': 6453, 'plank': 6454, 'reproached': 6455, 'spider': 6456, 'nice': 6457, 'bruised': 6458, 'vain': 6459, 'talk': 6460, 'fetch': 6461, 'reluctance': 6462, 'sweating': 6463, 'blame.': 6464, 'yoyo': 6465, 'kehrewit': 6466, 'rearing': 6467, 'down.': 6468, 'paperclips': 6469, 'pennies': 6470, 'tuck': 6471, 'bearskin': 6472, 'paws.': 6473, 'entangled': 6474, 'kerchief': 6475, 'know': 6476, 'complaining': 6477, 'from.': 6478, 'restrained': 6479, 'lights': 6480, 'soon.': 6481, 'grandson': 6482, 'likešif': 6483, 'brightorange': 6484, 'absence': 6485, 'first.': 6486, 'tttttt': 6487, 'greyishbrown': 6488, 'because': 6489, 'rushed': 6490, 'denied': 6491, 'dried': 6492, 'position': 6493, 'streamed': 6494, 'battlefield': 6495, 'dislodge': 6496, 'mile': 6497, 'bound': 6498, 'gracious': 6499, 'conceive': 6500, 'bonnet': 6501, 'feeling': 6502, 'custard': 6503, 'driven': 6504, 'stood': 6505, 'fetched': 6506, 'among': 6507, 'purpose': 6508, 'stove': 6509, 'oak-trees': 6510, 'cross-examine': 6511, 'binds': 6512, 'carpet': 6513, 'thrush': 6514, 'sharpened': 6515, 'narrow': 6516, 'parody': 6517, 'orangeandred': 6518, 'possibly': 6519, 'rags': 6520, 'reflection': 6521, 'men': 6522, 'grow': 6523, 'expert': 6524, 'mounted': 6525, 'awoke': 6526, 'held': 6527, 'slay': 6528, 'millers': 6529, 'blackbutton': 6530, 'prisoner': 6531, 'stung': 6532, 'care.': 6533, 'crooked': 6534, 'seeks': 6535, 'stall.': 6536, 'bullet': 6537, 'sparing': 6538, 'fluffy': 6539, 'lunged': 6540, 'roe': 6541, 'lily': 6542, 'say': 6543, 'solemn': 6544, 'untroubled': 6545, 'control': 6546, 'hmm': 6547, 'dinah': 6548, 'aaaak': 6549, 'happily': 6550, 'smacked': 6551, 'ventured': 6552, 'uncertainly': 6553, 'ambled': 6554, 'messengers': 6555, 'fly': 6556, 'event': 6557, 'stings': 6558, 'dread': 6559, 'room.': 6560, 'place': 6561, 'liquor': 6562, 'apron': 6563, 'sure': 6564, 'dreamless': 6565, 'enough': 6566, 'race': 6567, 'together.': 6568, 'acceptance': 6569, 'rejoicing': 6570, 'snakes': 6571, 'musical': 6572, 'spite': 6573, 'lumber-room': 6574, 'basted': 6575, 'rush': 6576, 'roaming': 6577, 'bawled': 6578, 'frowning': 6579, 'lighted': 6580, 'treads': 6581, 'lighten': 6582, 'hours': 6583, 'introduce': 6584, 'ho': 6585, 'fox': 6586, 'pictured': 6587, 'refresh': 6588, 'dooršnow': 6589, 'master': 6590, 'awaiting': 6591, 'drowned': 6592, 'phone': 6593, 'dream': 6594, 'illusion': 6595, 'glowed': 6596, 'did': 6597, 'spoon': 6598, 'badly': 6599, 'fancy': 6600, 'roundabout': 6601, 'elbows': 6602, 'educations': 6603, 'ophelia': 6604, 'rabbits': 6605, 'movements': 6606, 'accustomed': 6607, 'happiest': 6608, 'grove': 6609, 'pinky': 6610, 'thumped': 6611, 'bump': 6612, 'dazzling': 6613, 'holiday': 6614, 'threatened': 6615, 'proudly': 6616, 'pairs': 6617, 'bedroom': 6618, 'bestow': 6619, 'pricked': 6620, 'fiddle': 6621, 'money': 6622, 'amusement': 6623, 'shuddering': 6624, 'outside': 6625, 'goats': 6626, 've': 6627, 'unkindly': 6628, 'improve': 6629, 'elegant': 6630, 'bridal': 6631, 'forcible': 6632, 'lobster': 6633, 'coloured': 6634, 'swimming': 6635, 'grasp': 6636, 'slightest': 6637, 'judging': 6638, 'porch.': 6639, 'bewailed': 6640, 'swear': 6641, 'table': 6642, 'glistened': 6643, 'suppose': 6644, 'knothole': 6645, 'chaffinch': 6646, 'begin': 6647, 'escape': 6648, 'keyhole': 6649, 'bit': 6650, 'persistent': 6651, 'nutshell': 6652, 'ship': 6653, 'sail': 6654, 'dough': 6655, 'vet': 6656, 'or': 6657, 'brightened': 6658, 'mistlight': 6659, 'climbing': 6660, 'lord': 6661, 'pepper-box': 6662, 'hatching': 6663, 'milk-jug': 6664, 'deserveses': 6665, 'fearfully': 6666, 'blowest': 6667, 'window.': 6668, 'justice': 6669, 'uncorked': 6670, 'tiny': 6671, 'tired': 6672, 'days.': 6673, 'properly': 6674, 'gifts': 6675, 'sinking': 6676, 'patch': 6677, 'encouragingly': 6678, 'safety': 6679, 'much.': 6680, 'full': 6681, 'eagerly': 6682, 'was.': 6683, 'suits': 6684, 'goodbye': 6685, 'bucketing': 6686, 'digestive': 6687, 'bigger': 6688, 'curious': 6689, 'resumed': 6690, 'faster': 6691, 'half-pence': 6692, 'partnership': 6693, 'curiosity': 6694, 'tail': 6695, 'chocolates': 6696, 'thumb—i': 6697, 'throat.': 6698, 'amidst': 6699, 'nibble': 6700, 'greenish': 6701, 'fowler': 6702, 'stooped': 6703, 'interest': 6704, 'drags': 6705, 'blossom': 6706, 'caring': 6707, 'rampion': 6708, 'led': 6709, 'yawning': 6710, 'crashed': 6711, 'voices': 6712, 'pomp': 6713, 'grasshopper': 6714, 'tripped': 6715, 'whats': 6716, 'youve': 6717, 'brush': 6718, 'delicious': 6719, 'rude': 6720, 'riddle': 6721, 'wailing': 6722, 'borrowed': 6723, 'peering': 6724, 'reassuring': 6725, 'whip': 6726, 'dismissal': 6727, 'cry': 6728, 'departed': 6729, 'different': 6730, 'chimneysweeps': 6731, 'saw': 6732, 'priest': 6733, 'influenced': 6734, 'presented': 6735, 'scattering': 6736, 'try': 6737, 'toffee': 6738, 'satisfying': 6739, 'folded': 6740, 'texture': 6741, 'clue': 6742, 'pecked': 6743, 'colours.': 6744, 'kick': 6745, 'flamingo': 6746, 'histories': 6747, 'of.': 6748, 'mother.': 6749, 'second.': 6750, 'ghostworld': 6751, 'drop': 6752, 'plaything': 6753, 'aye': 6754, 'cheek': 6755, 'sluggard': 6756, 'flows': 6757, 'shovels.': 6758, 'shifting': 6759, 'involved': 6760, 'spice': 6761, 'revived': 6762, 'knives': 6763, 'shelter': 6764, 'valiant': 6765, 'realised': 6766, 'straight': 6767, 'christendom.': 6768, 'out-doing': 6769, 'they': 6770, 'indicated': 6771, 'hazardous': 6772, 'buttoneye': 6773, 'six': 6774, 'expressing': 6775, 'kid': 6776, 'contented': 6777, 'also.': 6778, 'plant': 6779, 'mind.': 6780, 'principle': 6781, 'betray': 6782, 'its': 6783, 'wagged': 6784, 'forth.': 6785, 'forget': 6786, 'toys': 6787, 'kitchen-maid': 6788, 'moved': 6789, 'pointed': 6790, 'existed': 6791, 'jip': 6792, 'senseless': 6793, 'lion': 6794, 'respect': 6795, 'puppy': 6796, 'herald': 6797, 'rays': 6798, 'stored': 6799, 'hes': 6800, 'dawn': 6801, 'roof': 6802, 'everybody': 6803, 'crumb-stealer': 6804, 'carpeted': 6805, 'pressing': 6806, 'dukes': 6807, 'gets': 6808, 'lads': 6809, 'hedgehog': 6810, 'simples': 6811, 'neatly': 6812, 'majesty': 6813, 'colder': 6814, '312': 6815, 'so.': 6816, 'webs': 6817, 'theatrical': 6818, 'homemade': 6819, 'thistle': 6820, 'brings': 6821, 'savagely': 6822, 'washing': 6823, 'upstairs': 6824, 'wouldnt': 6825, 'compelled': 6826, 'returned': 6827, 'blue': 6828, 'trusted': 6829, 'shakespeare': 6830, 'musician.': 6831, 'lodging': 6832, '19': 6833, 'comb': 6834, 'directions': 6835, 'very': 6836, 'gloom': 6837, '45': 6838, 'stopped.': 6839, 'shock': 6840, 'boots': 6841, 'panes': 6842, 'wellington': 6843, 'moaned': 6844, 'fury': 6845, 'offputting': 6846, 'shrieks': 6847, 'drove': 6848, 'hearth': 6849, 'oldfashioned': 6850, 'small.': 6851, 'acrid': 6852, 'cure': 6853, 'cracked': 6854, 'german': 6855, 'brooch': 6856, 'scrambled': 6857, 'straw': 6858, 'encased': 6859, 'month': 6860, 'stumbles': 6861, 'print': 6862, 'shopkeeper': 6863, 'softened': 6864, 'addressing': 6865, 'breathe': 6866, 'half-frozen': 6867, 'fork': 6868, 'discoloured': 6869, 'by-and-by': 6870, 'sometimes': 6871, 'dreamy': 6872, 'seeking': 6873, 'boast': 6874, 'dug': 6875, 'rushlight': 6876, 'hot': 6877, 'commanded': 6878, 'broom': 6879, 'sneeze': 6880, 'slipped': 6881, 'baked': 6882, 'cottage.': 6883, 'truthful': 6884, 'meanwhile': 6885, 'character': 6886, 'dismal': 6887, 'unlocking': 6888, 'club': 6889, 'equipped': 6890, 'hallway': 6891, 'clamour': 6892, 'thieves': 6893, 'gentleman': 6894, 'rattle': 6895, 'bright-eyed': 6896, 'scraped': 6897, 'strands': 6898, 'tore': 6899, 'underneath': 6900, 'pears': 6901, 'casually': 6902, 'vegetables': 6903, 'mood': 6904, 'despised': 6905, 'moving': 6906, 'canvas': 6907, 'cardinals': 6908, 'blinking': 6909, 'laces.': 6910, 'me—you': 6911, 'match': 6912, 'furry': 6913, 'victory': 6914, 'inquired': 6915, 'petulantly': 6916, 'umpty': 6917, 'throwing': 6918, 'bar': 6919, 'desired': 6920, 'kneel': 6921, 'stab': 6922, 'rainforest': 6923, 'forsake': 6924, 'seems': 6925, 'uncouth': 6926, 'borne': 6927, 'thou': 6928, 'robber': 6929, 'maggot': 6930, 'slender': 6931, 'slaughterers': 6932, 'shuffling': 6933, 'silk': 6934, 'bolted': 6935, 'prince': 6936, 'burst': 6937, 'needful': 6938, 'painter': 6939, 'ago': 6940, 'according': 6941, 'stroked': 6942, 'rascals': 6943, 'remains': 6944, 'fiercely': 6945, 'ecclesiastics': 6946, 'drink.': 6947, 'sufficiently': 6948, 'wearer': 6949, 'scamper': 6950, 'rustiest': 6951, 'sleep.': 6952, 'boiled': 6953, 'dodo': 6954, 'dustshadow': 6955, 'bed-side': 6956, 'stromberg': 6957, 'muchness': 6958, 'chatter': 6959, 'millstone': 6960, 'field-flowers': 6961, 'ringing': 6962, 'magpie': 6963, 'deferential': 6964, 'divided': 6965, 'pounce': 6966, 'brook': 6967, 'wretchedly': 6968, 'sorrowful': 6969, 'boastfully': 6970, 'stinging': 6971, 'sharks': 6972, 'vengeance': 6973, 'skirts': 6974, 'rose-bush': 6975, 'shiny': 6976, 'meet': 6977, 'hangman': 6978, 'itll': 6979, 'fuel': 6980, 'nodded': 6981, 'cover': 6982, 'blustery': 6983, 'greys': 6984, 'handsome.': 6985, 'deed': 6986, 'urged': 6987, 'acorns': 6988, 'grunting': 6989, 'rarest.': 6990, 'rib': 6991, 'natural': 6992, 'altogether': 6993, '-nest': 6994, 'impatient': 6995, 'fowls': 6996, 'grazed': 6997, 'possess': 6998, 'processions': 6999, 'ever': 7000, 'first': 7001, 'signal': 7002, 'bustle': 7003, 'alms': 7004, 'toy': 7005, 'judged': 7006, 'public-house': 7007, 'chalk': 7008, 'unhappy': 7009, 'spent': 7010, 'guiltless': 7011, 'bites': 7012, 'faster.': 7013, 'spiders': 7014, 'houses': 7015, 'rumbles': 7016, 'burn': 7017, 'grated': 7018, 'menial': 7019, 'besmeared': 7020, 'bridge': 7021, 'chatting': 7022, 'parlour': 7023, 'clocks': 7024, 'greasy': 7025, 'luvvy': 7026, 'empire': 7027, 'half': 7028, 'nearest': 7029, 'use.': 7030, 'turtle-doves': 7031, 'wraiths': 7032, 'excites': 7033, 'sitting': 7034, 'beasts': 7035, 'theirs': 7036, 'comfortable': 7037, 'sob': 7038, 'simpleton': 7039, 'quarrelling': 7040, 'entered': 7041, 'sausages': 7042, 'croak': 7043, 'muddy': 7044, 'jacket': 7045, 'wanting': 7046, 'ships': 7047, 'saucepans': 7048, 'crowned': 7049, 'ribbons': 7050, 'nearly': 7051, 'stepped': 7052, 'onewheeled': 7053, 'vexed': 7054, 'wood-cutter': 7055, 'race-course': 7056, 'wink': 7057, 'blockhead': 7058, 'foreign': 7059, 'grumbled': 7060, 'walrus': 7061, 'oming': 7062, 'discover': 7063, 'didnt': 7064, 'report': 7065, 'fan': 7066, 'undo': 7067, 'like': 7068, 'bathroom': 7069, 'torn-up': 7070, 'accomplish.': 7071, 'foldedup': 7072, 'joyful': 7073, 'waste': 7074, 'seldom': 7075, 'drinking': 7076, 'trumpet': 7077, 'request': 7078, 'i.': 7079, 'ill.': 7080, 'forgetting': 7081, 'spelling': 7082, 'can.': 7083, 'fattening': 7084, 'workmen': 7085, 'tea-tray': 7086, 'thinner': 7087, 'never-ending': 7088, 'lefthand': 7089, '2': 7090, 'gives': 7091, 'time.': 7092, 'mortal': 7093, 'plates': 7094, 'sausages.': 7095, 'neither': 7096, 'turnd': 7097, 'goods': 7098, 'bough': 7099, 'exception': 7100, 'something—indeed': 7101, 'bubbles': 7102, 'stoked': 7103, 'madame': 7104, 'risk': 7105, 'snatch': 7106, 'stitched': 7107, 'upsetting': 7108, 'anvil': 7109, 'squealed': 7110, 'fingertips': 7111, 'where': 7112, 'dearth': 7113, 'accomplished': 7114, 'ugh': 7115, 'father': 7116, 'feet': 7117, 'potato': 7118, 'renders': 7119, 'purring': 7120, 'repay': 7121, 'ourselves': 7122, 'demonstrate': 7123, 'flopped': 7124, 'string': 7125, 'oven': 7126, 'curved': 7127, 'overjoyed': 7128, 'centre': 7129, 'so': 7130, 'dragged': 7131, 'camomile': 7132, 'blackness': 7133, 'tea-party': 7134, 'forefeet': 7135, 'yowled': 7136, 'smote': 7137, '—the': 7138, 'ululating': 7139, 'bunch': 7140, 'famous': 7141, 'frying-pan': 7142, 'condemn': 7143, 'scuttling': 7144, 'women': 7145, 'shillings': 7146, 'parched': 7147, 'trick': 7148, 'limes': 7149, 'asleep': 7150, 'kitchen-boy': 7151, 'cow.': 7152, 'slew': 7153, 'fourth': 7154, 'letters': 7155, 'woman': 7156, 'rider': 7157, 'difficulties': 7158, 'skinned': 7159, 'drawn': 7160, 'impetuous': 7161, 'cause': 7162, 'covered': 7163, 'daisies': 7164, 'luck': 7165, 'solemnly': 7166, 'questions': 7167, 'path.': 7168, 'fact': 7169, 'ant-hill': 7170, 'strap': 7171, 'a-piece': 7172, 'spoonful': 7173, 'lump': 7174, 'embassies': 7175, 'all.': 7176, 'cramped': 7177, 'somersault': 7178, 'fairy': 7179, 'dreaming': 7180, 'require': 7181, 'pushing': 7182, 'eventide': 7183, 'goods.': 7184, 'room': 7185, 'simple': 7186, 'shou': 7187, 'insignificant': 7188, 'smiling': 7189, 'taking': 7190, 'memory': 7191, 'everyone': 7192, 'bodies': 7193, 'prevent': 7194, 'journey.': 7195, 'desperately': 7196, 'bluebottle': 7197, 'stroke.': 7198, 'yielding': 7199, 'crevice': 7200, 'handling': 7201, 'deserve': 7202, 'wares': 7203, 'tempted': 7204, 'drunken': 7205, 'puddle': 7206, 'placed': 7207, 'advantage': 7208, 'since': 7209, 'linen': 7210, 'cinder-cake': 7211, 'fastest': 7212, 'perched': 7213, 'looping': 7214, 'snuff': 7215, 'ring-dove': 7216, 'clattered': 7217, 'smirk': 7218, 'seemed': 7219, 'fears': 7220, 'swarming': 7221, 'fourteenth': 7222, 'are.': 7223, 'younger': 7224, 'insisted': 7225, 'stronger': 7226, 'weeks': 7227, 'kept': 7228, 'drool': 7229, 'smoke': 7230, 'fasten': 7231, 'sin': 7232, 'sparkled': 7233, 'edging': 7234, 'token': 7235, 'napkins': 7236, 'day.': 7237, 'screamed': 7238, 'argued': 7239, 'cuddled': 7240, 'mary': 7241, 'pennyworth': 7242, 'pack': 7243, 'patient': 7244, 'toasted': 7245, 'horseman': 7246, 'married.': 7247, 'sir.': 7248, 'ink': 7249, 'complained': 7250, 'eggshells': 7251, 'foot': 7252, 'recover': 7253, 'clogs': 7254, 'combs': 7255, 'from': 7256, 'experience': 7257, 'rd': 7258, 'next.': 7259, 'away.': 7260, 'authority': 7261, 'perform': 7262, 'shudder.': 7263, 'snout': 7264, 'sign': 7265, 'ts': 7266, 'intent': 7267, 'tang': 7268, 'broken.': 7269, 'decision': 7270, 'request.': 7271, 'patched': 7272, 'onionsš': 7273, 'nobody': 7274, 'clamber': 7275, 'cloak': 7276, 'globe': 7277, 'milking': 7278, 'grandmothers': 7279, 'bringing': 7280, 'monstrous': 7281, 'dunghill': 7282, 'audibly': 7283, 'twig': 7284, 'blessing': 7285, 'esteemed': 7286, 'painting': 7287, 'injure': 7288, 'lip': 7289, 'weasel': 7290, 'sneered': 7291, 'day': 7292, 'grimly': 7293, 'roving': 7294, 'revenge.': 7295, 'but': 7296, 'smug': 7297, 'shirt': 7298, 'ready.': 7299, 'spoken': 7300, 'portia': 7301, 'dresses': 7302, 'wander': 7303, 'agreeing': 7304, 'raising': 7305, 'admitted': 7306, 'flowers': 7307, 'trotting': 7308, 'ful': 7309, 'giants': 7310, 'gruff': 7311, 'difficult': 7312, 'fortunately': 7313, 'hearts': 7314, 'spitting': 7315, 'housešexploring': 7316, 'clouded': 7317, 'raving': 7318, 'mrs': 7319, 'jump': 7320, 'east': 7321, 'wispy': 7322, 'exotic': 7323, 'trifle.': 7324, 'accursed': 7325, 'microwave': 7326, 'fulfilled': 7327, 'receive': 7328, 'dirtiest': 7329, 'drinkšhot': 7330, 'pant': 7331, 'payment': 7332, 'sandstings': 7333, 'frozen': 7334, 'smith': 7335, 'wall': 7336, 'impertinent': 7337, 'glowing': 7338, 'caroline': 7339, 'rogue': 7340, 'thoughtfully': 7341, 'explore': 7342, 'dreams': 7343, '44': 7344, 'rat-hole': 7345, 'laboured': 7346, 'bicycle': 7347, 'go—you': 7348, 'tangled': 7349, 'clunk': 7350, 'wearily': 7351, 'cow-beef': 7352, 'give': 7353, 'sought': 7354, 'declared': 7355, 'dismissed': 7356, 'tablecloth': 7357, 'loved': 7358, 'decent': 7359, 'arms.': 7360, 'shook': 7361, 'wings': 7362, 'croqueted': 7363, 'peck': 7364, 'vicious': 7365, 'defended': 7366, 'wooed': 7367, 'settled': 7368, 'waves.': 7369, 'unexpected': 7370, 'body': 7371, 'paintings': 7372, '20': 7373, 'scheme': 7374, 'transformation': 7375, 'harness': 7376, 'pond': 7377, 'appoint': 7378, 'advisable': 7379, 'summon': 7380, 'cold.': 7381, 'decapitated': 7382, 'canterbury': 7383, 'princesses': 7384, 'hanged.': 7385, 'claws': 7386, 'partlet': 7387, 'minipizza': 7388, 'waistcoat-pocket': 7389, 'beautify': 7390, 'feeble': 7391, 'leaders': 7392, 'hop': 7393, 'spit': 7394, 'urgently': 7395, 'sorrows': 7396, 'hjckrrh': 7397, 'spinning': 7398, 'thirteen': 7399, 'piling': 7400, 'kreeee': 7401, 'hand': 7402, 'curtained': 7403, 'grandfather': 7404, 'bow': 7405, 'dipped': 7406, 'sexton': 7407, 'ease—one': 7408, 'gloat': 7409, 'anxiety.': 7410, 'slovenian': 7411, 'gradually': 7412, 'silver.': 7413, 'pile': 7414, 'romp': 7415, 'ducks': 7416, 'arrum': 7417, 'scarlet': 7418, 'dinner-time': 7419, 'mist': 7420, 'ribs': 7421, 'dewdrop': 7422, 'perceived': 7423, 'mummy': 7424, 'jury': 7425, 'howled': 7426, 'accord': 7427, 'edge': 7428, 'frilly': 7429, 'shut': 7430, 'shes': 7431, 'silent': 7432, 'teacup': 7433, 'coals': 7434, 'shorter': 7435, 'ahoy': 7436, 'suckle': 7437, 'hewing': 7438, 'sew': 7439, 'ght': 7440, 'thoughtful': 7441, 'confidentially': 7442, 'toadstool': 7443, 'skirt': 7444, 'immediately': 7445, 'sorely': 7446, 'husband.': 7447, 'prove': 7448, 'rumbled': 7449, 'art': 7450, 'hiding-place': 7451, 'carries': 7452, 'cherry-tree': 7453, 'gift': 7454, 'also': 7455, 'bu': 7456, 'tops': 7457, 'boat': 7458, 'hack': 7459, 'press': 7460, 'lord.': 7461, 'ale': 7462, 'forbid': 7463, 'conversation': 7464, 'scuttled': 7465, 'spreading': 7466, 'experimental': 7467, 'store-room': 7468, 'depart': 7469, 'donkey': 7470, 'howling': 7471, 'padded': 7472, 'rises': 7473, 'glove': 7474, 'dolefully': 7475, 'aliens': 7476, 'onš': 7477, 'lamenting': 7478, 'leisure': 7479, 'upsidedown': 7480, 'properly.': 7481, 'ting': 7482, 'walk': 7483, 'darted': 7484, 'golden': 7485, 'deftly': 7486, 'oneself': 7487, 'feet.': 7488, 'pinkness': 7489, 'cat': 7490, 'waiting': 7491, 'deer': 7492, 'turn': 7493, 'cook': 7494, 'unsure': 7495, 'pick': 7496, 'confusing': 7497, 'twelfth': 7498, 'trouser': 7499, 'mmph': 7500, 'furniture': 7501, 'merry.': 7502, 'poor.': 7503, 'bill': 7504, 'bits': 7505, 'facing': 7506, 'normal': 7507, 'back-somersault': 7508, 'embarked': 7509, 'couldnt': 7510, 'fifteenth': 7511, 'hullo': 7512, 'snowflakes': 7513, 'peril': 7514, 'spied': 7515, 'pounded': 7516, 'faraway': 7517, 'kidnapped': 7518, 'garnish': 7519, 'another': 7520, 'croquet': 7521, 'pleasant': 7522, 'enraged': 7523, 'snips': 7524, 'switches': 7525, 'embroidered': 7526, 'instantly': 7527, 'ploughed': 7528, 'bravery': 7529, 'arts': 7530, 'considering': 7531, 'invent': 7532, 'sheer': 7533, 'for': 7534, 'followed': 7535, 'general': 7536, 'trusty': 7537, 'stratagem': 7538, 'sailing': 7539, 'forty': 7540, 'leaned': 7541, 'glasses': 7542, 'respectable': 7543, 'thyself': 7544, 'dusky': 7545, 'puzzling': 7546, 'hands': 7547, 'pan': 7548, 'dragging': 7549, 'buy': 7550, 'finding': 7551, 'blessed': 7552, 'there.': 7553, 'pined': 7554, 'having': 7555, 'insulted': 7556, 'porch': 7557, 'halted': 7558, 'wire': 7559, 'producing': 7560, 'too': 7561, 'new': 7562, 'mischance': 7563, 'wager': 7564, 'tiresome': 7565, 'year': 7566, 'hark': 7567, 'heir': 7568, 'plunge': 7569, 'herself.': 7570, 'steep': 7571, 'nature': 7572, 'entreaty': 7573, 'figure': 7574, 'provoking': 7575, 'myself': 7576, 'steal': 7577, 'unimportant': 7578, 'apart': 7579, 'bargained': 7580, 'of': 7581, 'affair.': 7582, 'squeaking': 7583, 'mine': 7584, 'woofed': 7585, 'breed': 7586, 'prunes': 7587, 'lake.': 7588, 'hence': 7589, 'splodge': 7590, '46': 7591, 'fairies': 7592, 'dawned': 7593, 'beautiful.': 7594, 'toe': 7595, 'break': 7596, 'until': 7597, 'lake': 7598, 'pursue': 7599, 'sea-shore': 7600, 'boon': 7601, 'bowed': 7602, 'dared': 7603, 'narrower': 7604, 'grapes': 7605, 'delicate': 7606, 'exclaimed': 7607, 'winked': 7608, 'huntsmen.': 7609, 'drainpipe': 7610, 'here.': 7611, 'inspected': 7612, 'scolded': 7613, 'byways': 7614, 'remain': 7615, 'thump': 7616, 'rise': 7617, 'fortune.': 7618, 'gaping': 7619, 'bricklined': 7620, 'service.': 7621, 'fished': 7622, 'flash': 7623, 'cows': 7624, 'formed': 7625, 'satisfy': 7626, 'cloths': 7627, '’': 7628, 'deadly': 7629, 'spacious': 7630, 'ticket': 7631, 'clearer': 7632, 'sackful': 7633, 'stepping': 7634, 'adoption': 7635, '–': 7636, 'grownupnapping': 7637, 'good-naturedly': 7638, 'explorer': 7639, 'wouldst': 7640, 'lead': 7641, 'trumpets': 7642, 'smaller': 7643, 'tidy': 7644, 'uses': 7645, 'picnic': 7646, 'poor': 7647, 'latitude': 7648, 'done': 7649, 'latter': 7650, 'welcome': 7651, 'frenzied': 7652, 'ys': 7653, 'nay': 7654, 'roam': 7655, 'peep': 7656, 'longitude': 7657, 'circlet': 7658, 'performed': 7659, 'crouched': 7660, 'wore': 7661, 'bad.': 7662, 'towards': 7663, 'foliage': 7664, 'dew': 7665, 'latch': 7666, 'telescope': 7667, 'fried': 7668, 'tobacco': 7669, 'necklace': 7670, 'loudest': 7671, 'weeping': 7672, 'heartbeat': 7673, 'executions': 7674, 'conveyed': 7675, 'coast': 7676, 'joneses': 7677, 'ada': 7678, 'stoke': 7679, 'fixing': 7680, 'axes': 7681, 'maypole': 7682, 'apple.': 7683, 'medicine': 7684, 'wood-axe': 7685, 'faithful': 7686, 'tablecloths': 7687, 'offended': 7688, 'st': 7689, 'stairs': 7690, 'warmly': 7691, 'typing': 7692, 'excellent': 7693, 'fiery': 7694, 'haughty': 7695, 'villages': 7696, 'costume': 7697, 'trying': 7698, 'children.': 7699, 'acting': 7700, 'nervous': 7701, 'music': 7702, 'gap': 7703, 'shared': 7704, 'bore': 7705, 'scythe': 7706, 'weight': 7707, 'dwarfs': 7708, '—and': 7709, 'station': 7710, 'bench': 7711, 'screaming': 7712, 'rose': 7713, 'craftily': 7714, 'miles': 7715, 'polish': 7716, 'woo': 7717, 'wandering': 7718, 'dreaded': 7719, 'commercials': 7720, 'not': 7721, 'loose': 7722, 'whenever': 7723, 'prudently': 7724, 'cutting-board': 7725, 'sleeper': 7726, 'squeezed': 7727, 'irritated': 7728, 'abandon': 7729, 'flipping': 7730, 'hope': 7731, 'branch': 7732, 'liked': 7733, 'plucked': 7734, 'obedient': 7735, 'wrens': 7736, 'dagger': 7737, 'consequence.': 7738, 'clack.': 7739, 'spangled': 7740, 'ripe': 7741, 'corridoršthree': 7742, 'cheerful.': 7743, 'mentioned': 7744, 'sipped': 7745, 'sticky': 7746, 'vanishing': 7747, 'foolishly': 7748, 'cleverness': 7749, 'hissed': 7750, 'advice.': 7751, 'angels': 7752, 'loss': 7753, 'invented': 7754, 'longing': 7755, 'bright': 7756, 'suspicions': 7757, 'straightened': 7758, 'unlocked': 7759, 'lemonade': 7760, 'relax': 7761, 'contemptuous': 7762, 'containing': 7763, 'english': 7764, 'stroke': 7765, 'amazon': 7766, 'him.': 7767, 'knew': 7768, 'snakeskins': 7769, 'down-hearted': 7770, 'lied': 7771, 'endured': 7772, 'lost': 7773, 'thickly': 7774, 'melted': 7775, 'fire': 7776, 'fur': 7777, 'proved': 7778, 'earning': 7779, 'moist': 7780, 'whatevers': 7781, 'cage': 7782, 'go.': 7783, 'farthings.': 7784, 'vacantly': 7785, 'twisted': 7786, 'slates': 7787, 'peaceably': 7788, 'scent': 7789, 'grit': 7790, 'cant': 7791, 'come.': 7792, 'unanimously': 7793, 'made': 7794, 'ones': 7795, 'piece': 7796, 'sheep.': 7797, 'sounds': 7798, 'naked': 7799, 'villains': 7800, 'bathed': 7801, 'long': 7802, '2.': 7803, 'fundevogel': 7804, 'nine-pins': 7805, 'intensely': 7806, 'crabb.': 7807, 'dully': 7808, 'uncomfortable': 7809, 'built': 7810, 'themselves': 7811, 'stirred': 7812, 'roomšand': 7813, 'along.': 7814, 'out': 7815, 'folly': 7816, 'childhood': 7817, 'slowed': 7818, 'air': 7819, 'wars.': 7820, 'spoke': 7821, 'thirdly': 7822, 'presence.': 7823, 'fowl': 7824, 'rendered': 7825, 'butterflies': 7826, 'tiptoe': 7827, 'fruits': 7828, 'hob': 7829, 'wights': 7830, 'starry': 7831, 'last': 7832, 'hut': 7833, 'expect': 7834, 'raggedy': 7835, 'sizes': 7836, 'wasteful': 7837, 'catch': 7838, 'shone': 7839, 'struggled': 7840, 'load': 7841, 'lamb': 7842, 'scarecrow': 7843, 'simply': 7844, 'foods': 7845, 'lark': 7846, 'hour': 7847, 'disposition': 7848, 'queer': 7849, 'front.': 7850, 'porridge': 7851, 'related': 7852, 'crook-shanks': 7853, 'supposed': 7854, 'ambush': 7855, 'gardener': 7856, 'roughly': 7857, 'comely': 7858, 'catherine': 7859, '9': 7860, 'likewise': 7861, 'shelter.': 7862, 'roots.': 7863, 'perimeter': 7864, 'slapped': 7865, 'metre': 7866, 'lobsters': 7867, 'tonight': 7868, 'must.': 7869, 'pride': 7870, 'secretly': 7871, 'treachery.': 7872, 'stair': 7873, 'pour': 7874, 'bells': 7875, 'importance': 7876, 'whu': 7877, 'child-life': 7878, 'love': 7879, 'popped': 7880, 'tiptoes': 7881, 'dales': 7882, 'starving': 7883, 'village': 7884, 'edgar': 7885, 'door': 7886, 'bucket': 7887, 'else.': 7888, 'king': 7889, 'arguments': 7890, 'provide': 7891, 'impatience': 7892, 'rome': 7893, 'comfort': 7894, 'tricks': 7895, 'treacle-well': 7896, 'lurch': 7897, 'coach-house': 7898, 'completely': 7899, 'nursery': 7900, 'disgust': 7901, 'absurd': 7902, 'landmark': 7903, 'feathers': 7904, 'lightnings': 7905, 'healthier': 7906, 'painted': 7907, 'old': 7908, 'bury': 7909, 'roasted': 7910, 'under': 7911, 'shark': 7912, 'pen': 7913, 'horrid': 7914, 'soften': 7915, 'seat': 7916, 'fashion': 7917, 'resting-place': 7918, 'cords': 7919, 'cease': 7920, 'deserves': 7921, 'discern': 7922}\n"
          ]
        }
      ]
    },
    {
      "cell_type": "code",
      "source": [
        "data = [word_to_index[word] for word in data]\n",
        "print(data[:10])"
      ],
      "metadata": {
        "colab": {
          "base_uri": "https://localhost:8080/"
        },
        "id": "siLXlVFDCqaT",
        "outputId": "fafd54da-eb11-4076-cfb8-aeff840e0859"
      },
      "execution_count": 32,
      "outputs": [
        {
          "output_type": "stream",
          "name": "stdout",
          "text": [
            "[2222, 4084, 4861, 7886, 811, 639, 915, 2955, 6770, 6789]\n"
          ]
        }
      ]
    },
    {
      "cell_type": "code",
      "source": [
        "#to test the match\n",
        "print(word_to_index['coraline']) \n",
        "print(word_to_index['discovered'])"
      ],
      "metadata": {
        "colab": {
          "base_uri": "https://localhost:8080/"
        },
        "id": "evPkFS5EDI1P",
        "outputId": "06159a23-3a21-404a-c6a8-c825be9cf272"
      },
      "execution_count": 33,
      "outputs": [
        {
          "output_type": "stream",
          "name": "stdout",
          "text": [
            "2222\n",
            "4084\n"
          ]
        }
      ]
    },
    {
      "cell_type": "markdown",
      "metadata": {
        "id": "z_IEytwGn0jC"
      },
      "source": [
        "# **Batching Data (splitting data into Batches)**"
      ]
    },
    {
      "cell_type": "code",
      "metadata": {
        "id": "lP5qnVKWn5gW",
        "colab": {
          "base_uri": "https://localhost:8080/"
        },
        "outputId": "e8cef33f-5490-493f-c921-4722d29298df"
      },
      "source": [
        "batch_size = 5\n",
        "#storing our features and targets inside the tuple\n",
        "train_data = [([data[i], data[i+1], data[i+2], data[i+3], data[i+4]], data[i+5]) for i in range (vocab_size - batch_size)]\n",
        "train_data[:10]"
      ],
      "execution_count": 34,
      "outputs": [
        {
          "output_type": "execute_result",
          "data": {
            "text/plain": [
              "[([2222, 4084, 4861, 7886, 811], 639),\n",
              " ([4084, 4861, 7886, 811, 639], 915),\n",
              " ([4861, 7886, 811, 639, 915], 2955),\n",
              " ([7886, 811, 639, 915, 2955], 6770),\n",
              " ([811, 639, 915, 2955, 6770], 6789),\n",
              " ([639, 915, 2955, 6770, 6789], 5613),\n",
              " ([915, 2955, 6770, 6789, 5613], 4861),\n",
              " ([2955, 6770, 6789, 5613, 4861], 5715),\n",
              " ([6770, 6789, 5613, 4861, 5715], 5702),\n",
              " ([6789, 5613, 4861, 5715, 5702], 5783)]"
            ]
          },
          "metadata": {},
          "execution_count": 34
        }
      ]
    },
    {
      "cell_type": "markdown",
      "metadata": {
        "id": "lU2YCOBVn6RU"
      },
      "source": [
        "# **Defining the Neural Network**"
      ]
    },
    {
      "cell_type": "code",
      "metadata": {
        "id": "uMpb7olaoASw",
        "colab": {
          "base_uri": "https://localhost:8080/"
        },
        "outputId": "36119d09-2df3-4738-deee-4e49e1e36e85"
      },
      "source": [
        "import torch\n",
        "import torch.nn as nn\n",
        "import torch.nn.functional as F\n",
        "import torch.optim as optim\n",
        "import time\n",
        "\n",
        "embedding_dim = 5\n",
        "\n",
        "class StoryTeller(nn.Module):\n",
        "  def __init__(self, vocab_size, embedding_dim, batch_size):\n",
        "    super(StoryTeller,self).__init__()\n",
        "    self.embeddings = nn.Embedding(vocab_size, embedding_dim)\n",
        "    self.linear1 = nn.Linear(batch_size * embedding_dim, 128) #first linear transformation\n",
        "    self.linear2 = nn.Linear(128, 512) #we specified the output of previous layer in it\n",
        "    self.linear3 = nn.Linear(512, vocab_size) #third linear transformation\n",
        "\n",
        "  def forward(self, inputs):\n",
        "    embeds = self.embeddings(inputs).view((1,-1))\n",
        "    out = F.relu(self.linear1(embeds))\n",
        "    out = F.relu(self.linear2(out))\n",
        "    out = self.linear3(out)\n",
        "    log_probs = F.log_softmax(out , dim=1) #log softmax method\n",
        "    return log_probs\n",
        "\n",
        "#test the model so far\n",
        "model =  StoryTeller(vocab_size, embedding_dim, batch_size)  \n",
        "model\n"
      ],
      "execution_count": 38,
      "outputs": [
        {
          "output_type": "execute_result",
          "data": {
            "text/plain": [
              "StoryTeller(\n",
              "  (embeddings): Embedding(163771, 5)\n",
              "  (linear1): Linear(in_features=25, out_features=128, bias=True)\n",
              "  (linear2): Linear(in_features=128, out_features=512, bias=True)\n",
              "  (linear3): Linear(in_features=512, out_features=163771, bias=True)\n",
              ")"
            ]
          },
          "metadata": {},
          "execution_count": 38
        }
      ]
    },
    {
      "cell_type": "markdown",
      "metadata": {
        "id": "rqcBctDGoA_5"
      },
      "source": [
        "# **Defining Training Function**"
      ]
    },
    {
      "cell_type": "code",
      "metadata": {
        "id": "Gj_jF78uoGqy"
      },
      "source": [
        ""
      ],
      "execution_count": null,
      "outputs": []
    },
    {
      "cell_type": "markdown",
      "metadata": {
        "id": "1kc2ysQGoJZU"
      },
      "source": [
        "# **Train Model**"
      ]
    },
    {
      "cell_type": "code",
      "metadata": {
        "id": "kUYN20PVoMvn"
      },
      "source": [
        ""
      ],
      "execution_count": null,
      "outputs": []
    },
    {
      "cell_type": "markdown",
      "metadata": {
        "id": "hwNuUJFuoO7k"
      },
      "source": [
        "# **Save Checkpoint**"
      ]
    },
    {
      "cell_type": "code",
      "metadata": {
        "id": "RUy3YfBxoRZW"
      },
      "source": [
        "checkpoint_url = '/content/drive/My Drive/Lessons/storyTeller/checkpoint3.pth'\n",
        "\n",
        "checkpoint = {'model': model,\n",
        "              'state_dict': model.state_dict(),\n",
        "              'word_to_index': word_to_index,\n",
        "              'index_to_word': {i: word for i, word in enumerate(vocab)},\n",
        "              'epochs': epochs,\n",
        "              'average_loss': average_loss,\n",
        "              'device': device,\n",
        "              'optimizer_state': optimizer.state_dict(),\n",
        "              'batch_size': batch_size}\n",
        "\n",
        "torch.save(checkpoint, checkpoint_url)"
      ],
      "execution_count": null,
      "outputs": []
    },
    {
      "cell_type": "markdown",
      "metadata": {
        "id": "3DyoYf0qT__G"
      },
      "source": [
        "# **Load Checkpoint**"
      ]
    },
    {
      "cell_type": "code",
      "metadata": {
        "id": "UarVOe0WTYEq"
      },
      "source": [
        "def load_checkpoint(filepath):\n",
        "    checkpoint = torch.load(filepath)\n",
        "    model = checkpoint['model']\n",
        "    model.optimizer_state = checkpoint['optimizer_state']\n",
        "    model.load_state_dict(checkpoint['state_dict'])\n",
        "    model.device = checkpoint['device']\n",
        "    model.word_to_index = checkpoint['word_to_idxx']\n",
        "    model.index_to_word = checkpoint['idx_to_word']\n",
        "    model.average_loss = checkpoint['average_loss']\n",
        "    return model\n",
        "\n",
        "checkpoint_url = '/content/drive/My Drive/Lessons/storyTeller/checkpoint5.pth'\n",
        "model = load_checkpoint(checkpoint_url)\n",
        "index_to_word = model.index_to_word\n",
        "model"
      ],
      "execution_count": null,
      "outputs": []
    },
    {
      "cell_type": "code",
      "metadata": {
        "id": "ZXnfIAhyNNn1"
      },
      "source": [
        "import pandas as pd\n",
        "\n",
        "loss_plot = pd.DataFrame(model.average_loss)\n",
        "loss_plot.plot()"
      ],
      "execution_count": null,
      "outputs": []
    },
    {
      "cell_type": "markdown",
      "metadata": {
        "id": "mgJKcqqCUp6I"
      },
      "source": [
        "# **Predict Function**"
      ]
    },
    {
      "cell_type": "code",
      "metadata": {
        "id": "ess7PHw-UswI"
      },
      "source": [
        "def predict(model, first_words ,story_len ,top_k):\n",
        "    '''\n",
        "    param model: trained model\n",
        "    param first_words: a string of 5 (n_feature) words to begin the story\n",
        "    param story_len: an integer symbolizing the number of words you'd like the story to have\n",
        "    param top_k: the number of top probabilities per word that the network will randomly select from\n",
        "    '''\n",
        "    feature = (first_words.lower()).split(\" \")\n",
        "    for i in feature:\n",
        "        story.append(i)\n",
        "    for i in range(story_len):\n",
        "        feature_idx = torch.tensor([word_to_index[word] for word in feature], dtype=torch.long)\n",
        "        feature_idx = feature_idx.to(device)\n",
        "        with torch.no_grad():\n",
        "            output = model.double().forward(feature_idx)\n",
        "        ps = torch.exp(output)\n",
        "        topk_combined = ps.topk(top_k, sorted=True)\n",
        "        #top kk probabilities\n",
        "        topk_ps = topk_combined[0][0]\n",
        "        #top kk classes\n",
        "        topk_class = topk_combined[1][0]\n",
        "        topk_class = [index_to_word[int(i)] for i in topk_class]\n",
        "        next_word = random.choice(topk_class)\n",
        "        feature = feature[1:]\n",
        "        feature.append(next_word)\n",
        "        story.append(next_word)\n",
        "    return story"
      ],
      "execution_count": null,
      "outputs": []
    },
    {
      "cell_type": "markdown",
      "metadata": {
        "id": "dg6KWKpeU0GB"
      },
      "source": [
        "# **Predict**"
      ]
    },
    {
      "cell_type": "code",
      "metadata": {
        "id": "BLdMEMOqU2rn"
      },
      "source": [
        "import random\n",
        "first_words = input('Type the first {} words to start the story:\\nexample: A lovely day at the\\n'.format(batch_size))\n",
        "\n",
        "top_k = 3\n",
        "story_len = 50\n",
        "story = []\n",
        "device = 'cuda:0'\n",
        "\n",
        "#Predicting and Handling User-Input Errors\n",
        "try:      \n",
        "    prediction = predict(model, first_words, story_len, top_k)\n",
        "except KeyError as error:\n",
        "    print('Oops, looks like you\\'ve selected a word that the network does not understand yet: ', error)\n",
        "    if story[0] != \"\":\n",
        "        story = story[len(first_words):]\n",
        "    first_words = input('please select a different word:\\nexample: A lovely day at the\\n')\n",
        "    prediction = predict(model, first_words, story_len, top_k)\n",
        "except KeyError and RuntimeError:\n",
        "    if story[0] != \"\":\n",
        "        story = story[len(first_words):]\n",
        "    first_words = input('Oops, looks like you\\'ve typed {} words instead of {}!\\n\\nType the first 5 words to start the story:\\nexample: A lovely day at the\\n'.format(len(first_words.split(\" \")), n_features))\n",
        "    prediction = predict(model, first_words, story_len, top_k)\n",
        "\n",
        "print('-----------------------------------------------------\\n The STORY \\n-----------------------------------------------------')\n",
        "print(\" \".join(story))"
      ],
      "execution_count": null,
      "outputs": []
    },
    {
      "cell_type": "code",
      "metadata": {
        "id": "eIKJrOv8dkRn"
      },
      "source": [
        ""
      ],
      "execution_count": null,
      "outputs": []
    }
  ]
}